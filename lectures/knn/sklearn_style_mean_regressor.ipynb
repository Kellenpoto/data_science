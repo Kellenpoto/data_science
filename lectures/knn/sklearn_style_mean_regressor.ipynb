{
 "cells": [
  {
   "cell_type": "code",
   "execution_count": 1,
   "metadata": {},
   "outputs": [],
   "source": [
    "import pandas as pd\n",
    "import numpy as np"
   ]
  },
  {
   "cell_type": "markdown",
   "metadata": {},
   "source": [
    "#  sklearn-style predictive models"
   ]
  },
  {
   "cell_type": "markdown",
   "metadata": {},
   "source": [
    "### Rough `sklearn` strategy\n",
    "\n",
    "A `sklearn` model (a regressor or classifier) has a few basic methods. The most important are `__init__`, `fit`, `predict`, and (for classifiers) `predict_proba`."
   ]
  },
  {
   "cell_type": "code",
   "execution_count": 2,
   "metadata": {},
   "outputs": [],
   "source": [
    "class ModelClass:\n",
    "\n",
    "    def __init__(self, *arg, **kwargs):\n",
    "        '''\n",
    "        Establishes hyperparameters\n",
    "        '''\n",
    "        pass\n",
    "    \n",
    "    \n",
    "    def fit(self, X, y): \n",
    "        '''\n",
    "        X = training data features\n",
    "        y = training data labels/targets\n",
    "        \n",
    "        Takes in training data; stores whatever\n",
    "        information is need to make future predictions\n",
    "        '''\n",
    "        pass\n",
    "    \n",
    "    \n",
    "    def predict(self, X):  \n",
    "        '''\n",
    "        X = new data points (features only)\n",
    "        \n",
    "        Returns prediction for X\n",
    "        '''\n",
    "        \n",
    "        pass\n",
    "    \n",
    "    \n",
    "    def predict_proba(self, X):  \n",
    "        '''\n",
    "        X = new data points (features only)\n",
    "        \n",
    "        Only for classification models: returns probabilty\n",
    "        of x belonging to each class\n",
    "        '''\n",
    "        \n",
    "        pass\n"
   ]
  },
  {
   "cell_type": "markdown",
   "metadata": {},
   "source": [
    "### Making our own practice class:  Mean Regressor "
   ]
  },
  {
   "cell_type": "markdown",
   "metadata": {},
   "source": [
    "One of the simplest possible model is to *always predict the average*. \n",
    "\n",
    "Let's make this model into a class in `sklearn`-style"
   ]
  },
  {
   "cell_type": "code",
   "execution_count": 3,
   "metadata": {},
   "outputs": [],
   "source": [
    "class Mean_Regressor():\n",
    "\n",
    "    def __init__(self, *arg, **kwargs):    #no hyperparameters\n",
    "        pass\n",
    "\n",
    "    def fit(self, X, y):\n",
    "        self.mean_prediction = y.mean()\n",
    "        return self\n",
    "\n",
    "    def predict(self, X):\n",
    "        return np.ones(X.shape[0]) * self.mean_prediction"
   ]
  },
  {
   "cell_type": "markdown",
   "metadata": {},
   "source": [
    "Let's import some sample data. The `X` will represent the features, and the `y` what we're trying to predict."
   ]
  },
  {
   "cell_type": "code",
   "execution_count": 4,
   "metadata": {},
   "outputs": [],
   "source": [
    "#importing sample dataset\n",
    "from sklearn.datasets import load_boston\n",
    "\n",
    "boston = load_boston(return_X_y=False)\n",
    "\n",
    "X = pd.DataFrame(boston.data[:, (0, 5, 6)],\n",
    "                 columns = ['Crime_Rate',\n",
    "                            'Avg_Rooms',\n",
    "                            'Pct_built_b4_1940'])\n",
    "y = boston.target"
   ]
  },
  {
   "cell_type": "code",
   "execution_count": 5,
   "metadata": {},
   "outputs": [
    {
     "data": {
      "text/plain": [
       "(506, 3)"
      ]
     },
     "execution_count": 5,
     "metadata": {},
     "output_type": "execute_result"
    }
   ],
   "source": [
    "X.shape"
   ]
  },
  {
   "cell_type": "code",
   "execution_count": 6,
   "metadata": {},
   "outputs": [
    {
     "data": {
      "text/html": [
       "<div>\n",
       "<style scoped>\n",
       "    .dataframe tbody tr th:only-of-type {\n",
       "        vertical-align: middle;\n",
       "    }\n",
       "\n",
       "    .dataframe tbody tr th {\n",
       "        vertical-align: top;\n",
       "    }\n",
       "\n",
       "    .dataframe thead th {\n",
       "        text-align: right;\n",
       "    }\n",
       "</style>\n",
       "<table border=\"1\" class=\"dataframe\">\n",
       "  <thead>\n",
       "    <tr style=\"text-align: right;\">\n",
       "      <th></th>\n",
       "      <th>Crime_Rate</th>\n",
       "      <th>Avg_Rooms</th>\n",
       "      <th>Pct_built_b4_1940</th>\n",
       "    </tr>\n",
       "  </thead>\n",
       "  <tbody>\n",
       "    <tr>\n",
       "      <th>0</th>\n",
       "      <td>0.00632</td>\n",
       "      <td>6.575</td>\n",
       "      <td>65.2</td>\n",
       "    </tr>\n",
       "    <tr>\n",
       "      <th>1</th>\n",
       "      <td>0.02731</td>\n",
       "      <td>6.421</td>\n",
       "      <td>78.9</td>\n",
       "    </tr>\n",
       "    <tr>\n",
       "      <th>2</th>\n",
       "      <td>0.02729</td>\n",
       "      <td>7.185</td>\n",
       "      <td>61.1</td>\n",
       "    </tr>\n",
       "    <tr>\n",
       "      <th>3</th>\n",
       "      <td>0.03237</td>\n",
       "      <td>6.998</td>\n",
       "      <td>45.8</td>\n",
       "    </tr>\n",
       "    <tr>\n",
       "      <th>4</th>\n",
       "      <td>0.06905</td>\n",
       "      <td>7.147</td>\n",
       "      <td>54.2</td>\n",
       "    </tr>\n",
       "  </tbody>\n",
       "</table>\n",
       "</div>"
      ],
      "text/plain": [
       "   Crime_Rate  Avg_Rooms  Pct_built_b4_1940\n",
       "0     0.00632      6.575               65.2\n",
       "1     0.02731      6.421               78.9\n",
       "2     0.02729      7.185               61.1\n",
       "3     0.03237      6.998               45.8\n",
       "4     0.06905      7.147               54.2"
      ]
     },
     "execution_count": 6,
     "metadata": {},
     "output_type": "execute_result"
    }
   ],
   "source": [
    "X.head()"
   ]
  },
  {
   "cell_type": "markdown",
   "metadata": {},
   "source": [
    "The `y` variable is the  target (the Median value of Homes (in $1000's))"
   ]
  },
  {
   "cell_type": "code",
   "execution_count": 7,
   "metadata": {},
   "outputs": [
    {
     "data": {
      "text/plain": [
       "array([24. , 21.6, 34.7, 33.4, 36.2])"
      ]
     },
     "execution_count": 7,
     "metadata": {},
     "output_type": "execute_result"
    }
   ],
   "source": [
    "y[:5]"
   ]
  },
  {
   "cell_type": "markdown",
   "metadata": {},
   "source": [
    "First, we create an model."
   ]
  },
  {
   "cell_type": "code",
   "execution_count": 8,
   "metadata": {},
   "outputs": [],
   "source": [
    "model = Mean_Regressor()"
   ]
  },
  {
   "cell_type": "markdown",
   "metadata": {},
   "source": [
    "Next, we fit it to our data."
   ]
  },
  {
   "cell_type": "code",
   "execution_count": 9,
   "metadata": {},
   "outputs": [
    {
     "data": {
      "text/plain": [
       "<__main__.Mean_Regressor at 0x7fabdcf0e880>"
      ]
     },
     "execution_count": 9,
     "metadata": {},
     "output_type": "execute_result"
    }
   ],
   "source": [
    "model.fit(X, y)"
   ]
  },
  {
   "cell_type": "markdown",
   "metadata": {},
   "source": [
    "And now we can make some predictions!\n",
    "\n",
    "Note the are all the same. This isn't a very good model."
   ]
  },
  {
   "cell_type": "code",
   "execution_count": 10,
   "metadata": {},
   "outputs": [
    {
     "data": {
      "text/plain": [
       "array([22.53280632, 22.53280632, 22.53280632, 22.53280632, 22.53280632,\n",
       "       22.53280632, 22.53280632, 22.53280632, 22.53280632, 22.53280632])"
      ]
     },
     "execution_count": 10,
     "metadata": {},
     "output_type": "execute_result"
    }
   ],
   "source": [
    "model.predict(X[0:10])"
   ]
  },
  {
   "cell_type": "markdown",
   "metadata": {},
   "source": [
    "Let's say we have a new town with these features. Note that `sklearn` models expect that **X is a 2-dimensional object** so we need to have  pass in an array with a single row."
   ]
  },
  {
   "cell_type": "code",
   "execution_count": 11,
   "metadata": {},
   "outputs": [
    {
     "data": {
      "text/plain": [
       "(1, 3)"
      ]
     },
     "execution_count": 11,
     "metadata": {},
     "output_type": "execute_result"
    }
   ],
   "source": [
    "'''\n",
    "Crime_Rate            0.09\n",
    "Avg_Rooms             6.41\n",
    "Pct_built_b4_1940    84.10\n",
    "'''\n",
    "\n",
    "new_town = np.array([[.09, 6.41, 84.10]])\n",
    "new_town.shape"
   ]
  },
  {
   "cell_type": "markdown",
   "metadata": {},
   "source": [
    "We can our model to predict the median value of homes in the new town."
   ]
  },
  {
   "cell_type": "code",
   "execution_count": 12,
   "metadata": {},
   "outputs": [
    {
     "data": {
      "text/plain": [
       "array([22.53280632])"
      ]
     },
     "execution_count": 12,
     "metadata": {},
     "output_type": "execute_result"
    }
   ],
   "source": [
    "model.predict(new_town)"
   ]
  },
  {
   "cell_type": "code",
   "execution_count": null,
   "metadata": {},
   "outputs": [],
   "source": []
  }
 ],
 "metadata": {
  "kernelspec": {
   "display_name": "Python 3",
   "language": "python",
   "name": "python3"
  },
  "language_info": {
   "codemirror_mode": {
    "name": "ipython",
    "version": 3
   },
   "file_extension": ".py",
   "mimetype": "text/x-python",
   "name": "python",
   "nbconvert_exporter": "python",
   "pygments_lexer": "ipython3",
   "version": "3.9.1"
  },
  "toc": {
   "base_numbering": 1,
   "nav_menu": {},
   "number_sections": true,
   "sideBar": true,
   "skip_h1_title": false,
   "title_cell": "Table of Contents",
   "title_sidebar": "Contents",
   "toc_cell": false,
   "toc_position": {},
   "toc_section_display": true,
   "toc_window_display": false
  }
 },
 "nbformat": 4,
 "nbformat_minor": 2
}
