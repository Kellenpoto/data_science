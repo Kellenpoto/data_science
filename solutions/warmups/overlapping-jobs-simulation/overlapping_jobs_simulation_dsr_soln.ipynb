{
 "cells": [
  {
   "cell_type": "markdown",
   "id": "a01d9b4f",
   "metadata": {},
   "source": [
    "## Overlapping Nightly Jobs"
   ]
  },
  {
   "cell_type": "markdown",
   "id": "5a2513e6",
   "metadata": {},
   "source": [
    "Every night between 7 PM and midnight, two computing jobs from two different sources are randomly started, with each one lasting one hour. Unfortunately, when the jobs are running simultaneously they cause a failure in some of the company's other nightly jobs. This failure results in downtime for the company that costs $1,000.\n",
    "\n",
    "The CEO needs you to tell her the annual cost of this issue. Use Python to simulate this situation and estimate the annual cost."
   ]
  },
  {
   "cell_type": "code",
   "execution_count": 1,
   "id": "d2532cef",
   "metadata": {},
   "outputs": [],
   "source": [
    "import numpy as np"
   ]
  },
  {
   "cell_type": "code",
   "execution_count": 2,
   "id": "531578e1",
   "metadata": {},
   "outputs": [],
   "source": [
    "job1 = np.random.uniform(7,12,size=10**8)\n",
    "job2 = np.random.uniform(7,12,size=10**8)\n",
    "p = np.mean(np.abs(job1-job2) <=1)"
   ]
  },
  {
   "cell_type": "code",
   "execution_count": 3,
   "id": "50dc9e0a",
   "metadata": {},
   "outputs": [
    {
     "data": {
      "text/plain": [
       "131374.80405"
      ]
     },
     "execution_count": 3,
     "metadata": {},
     "output_type": "execute_result"
    }
   ],
   "source": [
    "p*365*1000"
   ]
  },
  {
   "cell_type": "markdown",
   "id": "cad34270",
   "metadata": {},
   "source": [
    "## Finding confidence intervals"
   ]
  },
  {
   "cell_type": "markdown",
   "id": "e6aee3fa",
   "metadata": {},
   "source": [
    "Using pure simulation"
   ]
  },
  {
   "cell_type": "code",
   "execution_count": 4,
   "id": "f4009da3",
   "metadata": {},
   "outputs": [],
   "source": [
    "import matplotlib.pyplot as plt"
   ]
  },
  {
   "cell_type": "code",
   "execution_count": 21,
   "id": "bcb7bea0",
   "metadata": {},
   "outputs": [],
   "source": [
    "num_sims=10**5\n",
    "cost = np.zeros(num_sims)\n",
    "\n",
    "for i in range(num_sims):\n",
    "    job1 = np.random.uniform(7,12,size=365)\n",
    "    job2 = np.random.uniform(7,12,size=365)\n",
    "    cost[i] = np.sum(np.abs(job1-job2) <=1)*1000"
   ]
  },
  {
   "cell_type": "code",
   "execution_count": 22,
   "id": "65ea59f8",
   "metadata": {},
   "outputs": [
    {
     "data": {
      "image/png": "[encoded data removed]",
      "text/plain": [
       "<Figure size 576x432 with 1 Axes>"
      ]
     },
     "metadata": {
      "needs_background": "light"
     },
     "output_type": "display_data"
    }
   ],
   "source": [
    "fig, ax = plt.subplots(figsize=(8,6))\n",
    "ax.hist(cost, bins=40)\n",
    "ax.axvline(np.percentile(cost, 2.5), color='r', linestyle='--')\n",
    "ax.axvline(np.percentile(cost, 97.5), color='r', linestyle='--');"
   ]
  },
  {
   "cell_type": "code",
   "execution_count": 23,
   "id": "ed54b128",
   "metadata": {},
   "outputs": [
    {
     "name": "stdout",
     "output_type": "stream",
     "text": [
      "Expected cost:  131382.81\n",
      "95% Confidence Interval:  114000.0 150000.0\n"
     ]
    }
   ],
   "source": [
    "print(\"Expected cost: \", np.mean(cost))\n",
    "print(\"95% Confidence Interval: \", np.percentile(cost, 2.5), np.percentile(cost, 97.5))"
   ]
  },
  {
   "cell_type": "markdown",
   "id": "fb9115dd",
   "metadata": {},
   "source": [
    "### Using Binomial Distribution with approximated p"
   ]
  },
  {
   "cell_type": "markdown",
   "id": "d88ef6cb",
   "metadata": {},
   "source": [
    "First simulate to find an approximate p, then construct a binomial distribution"
   ]
  },
  {
   "cell_type": "code",
   "execution_count": 8,
   "id": "0da57a31",
   "metadata": {},
   "outputs": [],
   "source": [
    "from scipy.stats import binom"
   ]
  },
  {
   "cell_type": "code",
   "execution_count": 9,
   "id": "3598a95d",
   "metadata": {},
   "outputs": [],
   "source": [
    "job1 = np.random.uniform(7,12,size=10**8)\n",
    "job2 = np.random.uniform(7,12,size=10**8)\n",
    "p = np.mean(np.abs(job1-job2) <=1)"
   ]
  },
  {
   "cell_type": "code",
   "execution_count": 10,
   "id": "e3c08cee",
   "metadata": {},
   "outputs": [],
   "source": [
    "dist = binom(n=365, p=p)"
   ]
  },
  {
   "cell_type": "code",
   "execution_count": 11,
   "id": "e8e6d0af",
   "metadata": {},
   "outputs": [
    {
     "data": {
      "image/png": "[encoded data removed]",
      "text/plain": [
       "<Figure size 432x288 with 1 Axes>"
      ]
     },
     "metadata": {
      "needs_background": "light"
     },
     "output_type": "display_data"
    }
   ],
   "source": [
    "x = np.arange(0,365)\n",
    "\n",
    "fig, ax = plt.subplots()\n",
    "ax.plot(x, dist.pmf(x))\n",
    "ax.set_xlim(90,170)\n",
    "ax.axvline(dist.ppf(.025), color='r', linestyle='--')\n",
    "ax.axvline(dist.ppf(.975), color='r', linestyle='--');"
   ]
  },
  {
   "cell_type": "code",
   "execution_count": 12,
   "id": "9a7b8622",
   "metadata": {},
   "outputs": [
    {
     "name": "stdout",
     "output_type": "stream",
     "text": [
      "Expected cost:  131390.30925\n",
      "95% Confidence Interval:  114000.0 149000.0\n"
     ]
    }
   ],
   "source": [
    "print('Expected cost: ', p * 365 * 1000)\n",
    "print('95% Confidence Interval: ', dist.ppf(.025)*1000, dist.ppf(.975)*1000)"
   ]
  },
  {
   "cell_type": "markdown",
   "id": "87980b43",
   "metadata": {},
   "source": [
    "### Using Normal Distribution to approximate Binomial Distribution with approximated p"
   ]
  },
  {
   "cell_type": "code",
   "execution_count": 13,
   "id": "a02dac83",
   "metadata": {},
   "outputs": [],
   "source": [
    "from scipy.stats import norm"
   ]
  },
  {
   "cell_type": "code",
   "execution_count": 14,
   "id": "5337fb9c",
   "metadata": {},
   "outputs": [],
   "source": [
    "job1 = np.random.uniform(7,12,size=10**8)\n",
    "job2 = np.random.uniform(7,12,size=10**8)\n",
    "\n",
    "p = np.mean(np.abs(job1-job2) <=1)\n",
    "n=365\n",
    "\n",
    "mu=n*p\n",
    "sigma=np.sqrt(n*p*(1-p))"
   ]
  },
  {
   "cell_type": "code",
   "execution_count": 15,
   "id": "e574b180",
   "metadata": {},
   "outputs": [],
   "source": [
    "dist = norm(loc=mu, scale=sigma)"
   ]
  },
  {
   "cell_type": "code",
   "execution_count": 16,
   "id": "c13cf359",
   "metadata": {},
   "outputs": [
    {
     "data": {
      "image/png": "[encoded data removed]",
      "text/plain": [
       "<Figure size 432x288 with 1 Axes>"
      ]
     },
     "metadata": {
      "needs_background": "light"
     },
     "output_type": "display_data"
    }
   ],
   "source": [
    "x = np.arange(0,365)\n",
    "\n",
    "fig, ax = plt.subplots()\n",
    "ax.plot(x, dist.pdf(x))\n",
    "ax.set_xlim(90,170)\n",
    "ax.axvline(dist.ppf(.025), color='r', linestyle='--')\n",
    "ax.axvline(dist.ppf(.975), color='r', linestyle='--');"
   ]
  },
  {
   "cell_type": "code",
   "execution_count": 17,
   "id": "4ae52acb",
   "metadata": {},
   "outputs": [
    {
     "name": "stdout",
     "output_type": "stream",
     "text": [
      "Expected cost:  131424.72144999998\n",
      "95% Confidence Interval:  113450.35344569947 149399.0894543005\n"
     ]
    }
   ],
   "source": [
    "print('Expected cost: ', p * 365 * 1000)\n",
    "print('95% Confidence Interval: ', dist.ppf(.025)*1000, dist.ppf(.975)*1000)"
   ]
  },
  {
   "cell_type": "code",
   "execution_count": null,
   "id": "378d7b3f",
   "metadata": {},
   "outputs": [],
   "source": []
  },
  {
   "cell_type": "code",
   "execution_count": null,
   "id": "77be9dea",
   "metadata": {},
   "outputs": [],
   "source": []
  }
 ],
 "metadata": {
  "kernelspec": {
   "display_name": "Python 3",
   "language": "python",
   "name": "python3"
  },
  "language_info": {
   "codemirror_mode": {
    "name": "ipython",
    "version": 3
   },
   "file_extension": ".py",
   "mimetype": "text/x-python",
   "name": "python",
   "nbconvert_exporter": "python",
   "pygments_lexer": "ipython3",
   "version": "3.8.8"
  }
 },
 "nbformat": 4,
 "nbformat_minor": 5
}
