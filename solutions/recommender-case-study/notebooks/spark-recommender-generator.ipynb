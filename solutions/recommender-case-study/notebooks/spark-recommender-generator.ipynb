{
 "cells": [
  {
   "cell_type": "code",
   "execution_count": 1,
   "metadata": {
    "collapsed": false
   },
   "outputs": [],
   "source": [
    "import pyspark as ps    # for the pyspark suite\n",
    "from pyspark.sql.types import StructType, StructField\n",
    "from pyspark.sql.types import IntegerType, StringType, FloatType, DateType, TimestampType\n",
    "import pyspark.sql.functions as F\n",
    "import re\n",
    "import matplotlib.pyplot as plt\n",
    "%matplotlib inline\n",
    "import numpy as np\n",
    "\n",
    "spark = ps.sql.SparkSession.builder \\\n",
    "            .master(\"local[4]\") \\\n",
    "            .appName(\"df lecture\") \\\n",
    "            .getOrCreate()\n",
    "\n",
    "sc = spark.sparkContext  # for the pre-2.0 sparkContext"
   ]
  },
  {
   "cell_type": "markdown",
   "metadata": {},
   "source": [
    "## 1. Reading ratings from `ratings.dat` (obsolete)"
   ]
  },
  {
   "cell_type": "code",
   "execution_count": 2,
   "metadata": {
    "collapsed": false
   },
   "outputs": [
    {
     "name": "stdout",
     "output_type": "stream",
     "text": [
      "+-------+--------+------+---------+\n",
      "|user_id|movie_id|rating|timestamp|\n",
      "+-------+--------+------+---------+\n",
      "|      1|    1193|     5|978300760|\n",
      "|      1|     661|     3|978302109|\n",
      "|      1|     914|     3|978301968|\n",
      "|      1|    3408|     4|978300275|\n",
      "|      1|    2355|     5|978824291|\n",
      "+-------+--------+------+---------+\n",
      "only showing top 5 rows\n",
      "\n",
      "root\n",
      " |-- user_id: integer (nullable = true)\n",
      " |-- movie_id: integer (nullable = true)\n",
      " |-- rating: integer (nullable = true)\n",
      " |-- timestamp: integer (nullable = true)\n",
      "\n",
      "1000209\n"
     ]
    }
   ],
   "source": [
    "ratings_raw = sc.textFile(\"data/ratings.dat\")\n",
    "\n",
    "def ratings_cleaning_function(inputstring):\n",
    "    \"\"\" to be used inside flatMap, returns a list \"\"\"\n",
    "    user_id, movie_id, rating, timestamp = inputstring.split(\"::\")\n",
    "    return((int(user_id), int(movie_id), int(rating), int(timestamp)))\n",
    "\n",
    "ratings_clean = ratings_raw.map(ratings_cleaning_function)\n",
    "\n",
    "ratings_schema = StructType( [\n",
    "    StructField('user_id',IntegerType(),True),\n",
    "    StructField('movie_id',IntegerType(),True),\n",
    "    StructField('rating',IntegerType(),True),\n",
    "    StructField('timestamp',IntegerType(),True) ] )\n",
    "\n",
    "ratings = spark.createDataFrame(ratings_clean, ratings_schema)\n",
    "\n",
    "ratings.repartition(20,F.col('user_id'))\n",
    "\n",
    "ratings.show(5)\n",
    "ratings.printSchema()\n",
    "\n",
    "print(ratings.count())"
   ]
  },
  {
   "cell_type": "markdown",
   "metadata": {},
   "source": [
    "**Just a quick check, YES each rating is unique.**"
   ]
  },
  {
   "cell_type": "raw",
   "metadata": {},
   "source": [
    "ratings.groupBy('user_id', 'movie_id')\\\n",
    "        .agg(F.count('timestamp').alias('count'))\\\n",
    "        .sort('count', ascending=False)\\\n",
    "        .show(10)"
   ]
  },
  {
   "cell_type": "markdown",
   "metadata": {},
   "source": [
    "## 2. Creating Training/Testing sets and request file"
   ]
  },
  {
   "cell_type": "code",
   "execution_count": 3,
   "metadata": {
    "collapsed": true
   },
   "outputs": [],
   "source": [
    "training = ratings.sort('timestamp', ascending=True).limit(800000)\n",
    "\n",
    "testing = ratings.sort('timestamp', ascending=False).limit(200209)"
   ]
  },
  {
   "cell_type": "code",
   "execution_count": 4,
   "metadata": {
    "collapsed": false
   },
   "outputs": [
    {
     "name": "stdout",
     "output_type": "stream",
     "text": [
      "+-------+--------+------+---------+\n",
      "|user_id|movie_id|rating|timestamp|\n",
      "+-------+--------+------+---------+\n",
      "|      1|       1|     5|978824268|\n",
      "|      1|      48|     5|978824351|\n",
      "|      1|     150|     5|978301777|\n",
      "|      1|     260|     4|978300760|\n",
      "|      1|     527|     5|978824195|\n",
      "|      1|     531|     4|978302149|\n",
      "|      1|     588|     4|978824268|\n",
      "|      1|     594|     4|978302268|\n",
      "|      1|     595|     5|978824268|\n",
      "|      1|     608|     4|978301398|\n",
      "|      1|     661|     3|978302109|\n",
      "|      1|     720|     3|978300760|\n",
      "|      1|     745|     3|978824268|\n",
      "|      1|     783|     4|978824291|\n",
      "|      1|     914|     3|978301968|\n",
      "|      1|     919|     4|978301368|\n",
      "|      1|     938|     4|978301752|\n",
      "|      1|    1022|     5|978300055|\n",
      "|      1|    1028|     5|978301777|\n",
      "|      1|    1029|     5|978302205|\n",
      "+-------+--------+------+---------+\n",
      "only showing top 20 rows\n",
      "\n"
     ]
    }
   ],
   "source": [
    "#testing.sort(F.col('user_id'),F.col('movie_id')).show(20)"
   ]
  },
  {
   "cell_type": "raw",
   "metadata": {
    "collapsed": false
   },
   "source": [
    "trial_training = training.select('user_id').distinct()\n",
    "trial_testing = testing.select('user_id').distinct()\n",
    "print(\"users in train: {}\".format(trial_training.count()))\n",
    "print(\"users in test: {}\".format(trial_testing.count()))\n",
    "\n",
    "trial_both = trial_testing.join(trial_training, 'user_id', 'inner')\n",
    "print(\"users in both: {}\".format(trial_both.count()))"
   ]
  },
  {
   "cell_type": "markdown",
   "metadata": {},
   "source": [
    "Restrict testing to users we know about"
   ]
  },
  {
   "cell_type": "raw",
   "metadata": {
    "collapsed": false
   },
   "source": [
    "new_testing = testing.join(trial_both, 'user_id', 'inner')\n",
    "\n",
    "print(\"ratings in new testing: {}\".format(new_testing.count()))"
   ]
  },
  {
   "cell_type": "markdown",
   "metadata": {},
   "source": [
    "## 3. Writing `training.csv` and `testing.csv`"
   ]
  },
  {
   "cell_type": "code",
   "execution_count": 7,
   "metadata": {
    "collapsed": false
   },
   "outputs": [],
   "source": [
    "with open('data/training.csv', 'w') as trainingfile:\n",
    "    trainingfile.write(\"user,movie,rating,timestamp\\n\")\n",
    "    for row in training.collect():\n",
    "        trainingfile.write(\"{},{},{},{}\\n\".format(row['user_id'],\n",
    "                                                   row['movie_id'],\n",
    "                                                   row['rating'],\n",
    "                                                   row['timestamp']))\n",
    "\n",
    "with open('data/testing.csv', 'w') as testingfile:\n",
    "    with open('data/requests.csv', 'w') as requestfile:\n",
    "        testingfile.write(\"user,movie,actualrating\\n\")\n",
    "        requestfile.write(\"user,movie\\n\")\n",
    "        for row in testing.collect():\n",
    "            testingfile.write(\"{},{},{}\\n\".format(row['user_id'],\n",
    "                                                       row['movie_id'],\n",
    "                                                       row['rating']))\n",
    "            requestfile.write(\"{},{}\\n\".format(row['user_id'],\n",
    "                                               row['movie_id']))"
   ]
  },
  {
   "cell_type": "code",
   "execution_count": null,
   "metadata": {
    "collapsed": true
   },
   "outputs": [],
   "source": []
  }
 ],
 "metadata": {
  "anaconda-cloud": {},
  "kernelspec": {
   "display_name": "Python [conda env:py27]",
   "language": "python",
   "name": "conda-env-py27-py"
  },
  "language_info": {
   "codemirror_mode": {
    "name": "ipython",
    "version": 2
   },
   "file_extension": ".py",
   "mimetype": "text/x-python",
   "name": "python",
   "nbconvert_exporter": "python",
   "pygments_lexer": "ipython2",
   "version": "2.7.12"
  }
 },
 "nbformat": 4,
 "nbformat_minor": 1
}
