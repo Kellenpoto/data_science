{
 "cells": [
  {
   "cell_type": "markdown",
   "metadata": {},
   "source": [
    "Multilayer neural networks are a current hot-topic in machine learning. The multilayer perceptron was the first standardized architecture.  In this assignment, you will learn to tune a [multilayer perceptron](https://en.wikipedia.org/wiki/Multilayer_perceptron) model.\n",
    "\n",
    "There are many libraries for using neural networks, but there isn't yet a single standard.  [Tensorflow](https://www.tensorflow.org/) is used by many, with [Keras](https://keras.io/) as one of the official APIs.\n",
    "\n",
    "\n",
    "## Part 1: Installation, and Introduction to Keras\n",
    "\n",
    "We'll be installing Keras and Tensorflow using a Docker container.  You could install Tensorflow natively (see [here](https://www.tensorflow.org/install/pip)) but Tensforflow typically causes downgrades in the Anaconda environment, and it has screwed up students'  Anaconda distribution in the past.\n",
    "\n",
    "**NOTE** If you have a PC with an NVIDIA GPU, and you want to train on it (highly recommended if you're pursuing a neural-net based capstone project), then you'll want to install `nvidia-docker` instead.  Go to the end of this assignment (the bottom of this page) and follow the install directions there.\n",
    "\n",
    "So, on with the Docker install:\n",
    "* Go to the home directory in your Terminal.  \n",
    "  ```bash\n",
    "  $ cd ~\n",
    "  ```\n",
    "\n",
    "* Start a Jupyter server on a `Docker` instance with Tensorflow 2.0 installed. This will pull the image from Docker Hub and make a container named `tensorflow`.\n",
    "\n",
    "    ```bash\n",
    "    $ docker run -it --name tensorflow -p 8888:8888 -v \"$PWD\":/tf tensorflow/tensorflow:2.0.0a0-py3-jupyter\n",
    "    ```\n",
    "  * After starting up the `docker` container and running the `Jupyter` notebook, you'll see a printout like:\n",
    "    ```\n",
    "    ...\n",
    "    To access the notebook, open this file in a browser:\n",
    "        file:///root/.local/share/jupyter/runtime/nbserver-10-open.html\n",
    "    Or copy and paste one of these URLs:\n",
    "        http://(ae4038ed94a3 or 127.0.0.1):8888/?token=e305929f1dca3ae69707f9a67d6467bd92ce3c1d6521919c\n",
    "    ```\n",
    "    \n",
    "    The hex number after `token=` is a password you need to access the notebook. In this case, it is `e305929f1dca3ae69707f9a67d6467bd92ce3c1d6521919c`, but yours will be different.\n",
    "  * Go to `http://localhost:8888` and enter in the password when prompted.\n",
    "  * If you use the above Docker command, the working directory will map to directory `/tf` in the container. The working directory of the Jupyter notebook in the container is `/tf`, and a useful Python script for this assignment in the `src` directory of this repository. Make sure that the `src` directory is in the Jupyter notebook's Python path, one way or another.\n",
    "\n",
    "* This Docker image (and the resulting container) has `numpy`, `keras`, and `tensorflow` packages.  However, it's lacking `pandas` and `sklearn`.  If you want to use them in this assignment, you'll have to access the container from the command line to install them.  Here's how you do that.  \n",
    "  ```bash\n",
    "  $ docker exec -it tensorflow /bin/bash\n",
    "  ```\n",
    "  Then from within the container:\n",
    "  ```bash\n",
    "  # pip install -U scikit-learn  \n",
    "  # pip install pandas\n",
    "  ```\n",
    "* For this assignment you have a couple of workflow options.  You could work in the Jupyter notebook.  Or, you can access the Tensorflow container from Terminal (as you did above) so that you can run a script from the command line.  To do this, in your Terminal access the running container in the bash shell using:  \n",
    "    ```bash\n",
    "    $ docker exec -it tensorflow /bin/bash\n",
    "    ```\n",
    "  Then from within the container:\n",
    "  ```bash\n",
    "  # python mlp.py\n",
    "  ```  \n",
    "  Or:\n",
    "  ```bash\n",
    "  # ipython\n",
    "  In [1]: run mlp.py\n",
    "  ```\n",
    "\n",
    "* Briefly read some example code for Multilayer Perceptron (the standard neural network) at http://keras.io/examples/. Note that these examples are out of date.  If you want to run the examples in the link, you need to import `keras` and supporting modules differently than what's shown in the examples.  Specifically, they need to be imported from `tensorflow`:\n",
    "\n",
    "    ```python\n",
    "    from tensorflow import keras\n",
    "    from tensorflow.keras.models import Sequential\n",
    "    from tensorflow.keras.layers import Dense, Dropout, Activation\n",
    "    from tensorflow.keras.optimizers import SGD\n",
    "    ```"
   ]
  },
  {
   "cell_type": "code",
   "execution_count": 33,
   "metadata": {},
   "outputs": [],
   "source": [
    "from tensorflow import keras\n",
    "from tensorflow.keras.models import Sequential\n",
    "from tensorflow.keras.layers import Dense, Dropout, Activation\n",
    "from tensorflow.keras.optimizers import SGD"
   ]
  },
  {
   "cell_type": "markdown",
   "metadata": {},
   "source": [
    "## Part 2: Building and tuning a neural network model\n",
    "\n",
    "In the Docker-backed Jupyter notebook/Terminal/Ipython console, use the `load_and_condition_MNIST_data` function in `src/mlp.py` to load a train and test set of images of hand-drawn digits.\n",
    "\n",
    "### Initial inspection\n",
    "\n",
    "```python\n",
    "from mlp import load_and_condition_MNIST_data\n",
    "X_train, y_train, X_test, y_test, y_train_onehot = load_and_condition_MNIST_data()\n",
    "```\n",
    "\n",
    "1. The shape of `X_train` is (n_samples, n_features). How many samples are there in the training set? How many in the test set? How many features are there per sample?"
   ]
  },
  {
   "cell_type": "code",
   "execution_count": 34,
   "metadata": {},
   "outputs": [
    {
     "name": "stdout",
     "output_type": "stream",
     "text": [
      "\u001b[0m\u001b[01;34m__pycache__\u001b[0m/  mlp_soln.py  notebook_assignment_solution.ipynb\r\n"
     ]
    }
   ],
   "source": [
    "ls"
   ]
  },
  {
   "cell_type": "code",
   "execution_count": 35,
   "metadata": {},
   "outputs": [
    {
     "name": "stdout",
     "output_type": "stream",
     "text": [
      "\n",
      "Loaded MNIST images\n",
      "\n",
      "First 5 labels of MNIST y_train:  [5 0 4 1 9]\n",
      "\n",
      "First 5 labels of MNIST y_train (one-hot):\n",
      " [[0. 0. 0. 0. 0. 1. 0. 0. 0. 0.]\n",
      " [1. 0. 0. 0. 0. 0. 0. 0. 0. 0.]\n",
      " [0. 0. 0. 0. 1. 0. 0. 0. 0. 0.]\n",
      " [0. 1. 0. 0. 0. 0. 0. 0. 0. 0.]\n",
      " [0. 0. 0. 0. 0. 0. 0. 0. 0. 1.]]\n",
      "\n"
     ]
    }
   ],
   "source": [
    "from mlp_soln import load_and_condition_MNIST_data\n",
    "X_train, y_train, X_test, y_test, y_train_onehot = load_and_condition_MNIST_data()"
   ]
  },
  {
   "cell_type": "markdown",
   "metadata": {},
   "source": [
    "2. You may have noticed that each sample \"image\" is a row from the `X` matrix - it's a 1-dimensional array. Speculate on why this is a convenient way to store images."
   ]
  },
  {
   "cell_type": "raw",
   "metadata": {},
   "source": [
    "Because it allows us to know where the data is, change their shape, and put it into a NN."
   ]
  },
  {
   "cell_type": "markdown",
   "metadata": {},
   "source": [
    "3. Inspect a few of the sample images. (You may find the `np.reshape` and `ax.imshow` methods useful.) Inspect some of the corresponding labels from the labels `y_train`; you'll find that they're simply a number corresponding to the digit depicted in the image.\n",
    "\n",
    "Look at the `y_train_onehot` labels. What's going on there? We'll get to that soon.\n",
    "\n",
    "Our task is to use X_train and y_train to make a model that will accurately predict the labels in X_test."
   ]
  },
  {
   "cell_type": "code",
   "execution_count": 36,
   "metadata": {
    "scrolled": true
   },
   "outputs": [
    {
     "data": {
      "text/plain": [
       "(784,)"
      ]
     },
     "execution_count": 36,
     "metadata": {},
     "output_type": "execute_result"
    }
   ],
   "source": [
    "X_train[0].shape"
   ]
  },
  {
   "cell_type": "code",
   "execution_count": 37,
   "metadata": {},
   "outputs": [
    {
     "data": {
      "text/plain": [
       "784"
      ]
     },
     "execution_count": 37,
     "metadata": {},
     "output_type": "execute_result"
    }
   ],
   "source": [
    "28**2"
   ]
  },
  {
   "cell_type": "code",
   "execution_count": 38,
   "metadata": {},
   "outputs": [],
   "source": [
    "import matplotlib.pyplot as plt\n",
    "%matplotlib inline"
   ]
  },
  {
   "cell_type": "code",
   "execution_count": 39,
   "metadata": {},
   "outputs": [
    {
     "data": {
      "image/png": "[encoded data removed]",
      "text/plain": [
       "<Figure size 432x288 with 1 Axes>"
      ]
     },
     "metadata": {
      "needs_background": "light"
     },
     "output_type": "display_data"
    }
   ],
   "source": [
    "fig, ax = plt.subplots()\n",
    "ax.imshow(X_train[0].reshape(-1,28), cmap='Greys');"
   ]
  },
  {
   "cell_type": "code",
   "execution_count": 40,
   "metadata": {},
   "outputs": [],
   "source": [
    "import numpy as np"
   ]
  },
  {
   "cell_type": "code",
   "execution_count": 41,
   "metadata": {},
   "outputs": [
    {
     "data": {
      "text/plain": [
       "255.0"
      ]
     },
     "execution_count": 41,
     "metadata": {},
     "output_type": "execute_result"
    }
   ],
   "source": [
    "np.max(X_train[0])"
   ]
  },
  {
   "cell_type": "markdown",
   "metadata": {},
   "source": [
    "### Baseline model\n",
    "\n",
    "If we conceptualize each image sample as a 1-dimensional vector, we can use any multiclass model available. For example, we could simply train a single decision tree:\n",
    "\n",
    "```python\n",
    "from sklearn.tree import DecisionTreeClassifier\n",
    "from sklearn.metrics import accuracy_score\n",
    "\n",
    "clf = DecisionTreeClassifier()\n",
    "clf.fit(X_train, y_train)\n",
    "yhat = clf.predict(X_test)\n",
    "print(accuracy_score(y_test, yhat))\n",
    "```\n",
    "\n",
    "If you run this, you'll find a single decision tree can classify hand-drawn digits with about 88% accuracy. Pretty good for being so simple. That's the score to beat.\n",
    "\n",
    "Take a moment to discuss with your partner what each split in the decision tree means, and what it means for a decision tree to classify an image."
   ]
  },
  {
   "cell_type": "code",
   "execution_count": 42,
   "metadata": {},
   "outputs": [
    {
     "name": "stdout",
     "output_type": "stream",
     "text": [
      "0.8058\n"
     ]
    }
   ],
   "source": [
    "from sklearn.tree import DecisionTreeClassifier\n",
    "from sklearn.metrics import accuracy_score\n",
    "\n",
    "clf = DecisionTreeClassifier()\n",
    "clf.fit(X_train[:10000,:], y_train[:10000])\n",
    "yhat = clf.predict(X_test)\n",
    "print(accuracy_score(y_test, yhat))"
   ]
  },
  {
   "cell_type": "markdown",
   "metadata": {},
   "source": [
    "### Logistic Regression with Keras\n",
    "\n",
    "Maybe the simplest possible model in Keras a neural network with a single unit and no hidden layer:\n",
    "\n",
    "```python\n",
    "from tensorflow.keras.models import Sequential\n",
    "from tensorflow.keras.layers import Dense\n",
    "import numpy as np\n",
    "np.random.seed(42)\n",
    "\n",
    "n_samples, n_feats = X_train.shape\n",
    "\n",
    "model = Sequential() # sequence of layers\n",
    "\n",
    "denselayer = Dense(units=1,\n",
    "                input_dim=n_feats,\n",
    "                kernel_initializer='uniform',\n",
    "                activation='sigmoid')\n",
    "\n",
    "model.add(denselayer)\n",
    "```\n",
    "\n",
    "1. Build this model, and **without training it**, use the `.predict(X_test)` method to predict the output label of the test set. What is the shape of the output of `predict`? Speculate about why this works, even if you haven't trained the model."
   ]
  },
  {
   "cell_type": "code",
   "execution_count": 43,
   "metadata": {},
   "outputs": [],
   "source": [
    "from tensorflow.keras.models import Sequential\n",
    "from tensorflow.keras.layers import Dense\n",
    "import numpy as np\n",
    "np.random.seed(42)\n",
    "\n",
    "n_samples, n_feats = X_train.shape\n",
    "\n",
    "model = Sequential() # sequence of layers\n",
    "\n",
    "denselayer = Dense(units=1,\n",
    "                input_dim=n_feats,\n",
    "                kernel_initializer='uniform',\n",
    "                activation='sigmoid')\n",
    "\n",
    "model.add(denselayer)"
   ]
  },
  {
   "cell_type": "code",
   "execution_count": 44,
   "metadata": {},
   "outputs": [
    {
     "data": {
      "text/plain": [
       "(10000, 1)"
      ]
     },
     "execution_count": 44,
     "metadata": {},
     "output_type": "execute_result"
    }
   ],
   "source": [
    "model.predict(X_test).shape"
   ]
  },
  {
   "cell_type": "markdown",
   "metadata": {},
   "source": [
    "> The shape is (10,000,1) because that is one value output per sample in X_test."
   ]
  },
  {
   "cell_type": "markdown",
   "metadata": {},
   "source": [
    "> Hmmm, but how can we _predict_ before we train? What are the weights? It would be impossible in a linear regression. (We would get an error, there would be no Betas!)"
   ]
  },
  {
   "cell_type": "code",
   "execution_count": 45,
   "metadata": {},
   "outputs": [
    {
     "data": {
      "text/plain": [
       "<matplotlib.image.AxesImage at 0x7f74c00b4128>"
      ]
     },
     "execution_count": 45,
     "metadata": {},
     "output_type": "execute_result"
    },
    {
     "data": {
      "image/png": "[encoded data removed]",
      "text/plain": [
       "<Figure size 432x288 with 1 Axes>"
      ]
     },
     "metadata": {
      "needs_background": "light"
     },
     "output_type": "display_data"
    }
   ],
   "source": [
    "hidden_unit_i = 0\n",
    "plt.imshow(denselayer.weights[0].numpy()[:,hidden_unit_i].reshape(28,28), cmap=\"Greys\")"
   ]
  },
  {
   "cell_type": "markdown",
   "metadata": {},
   "source": [
    "> It would seem that they're random"
   ]
  },
  {
   "cell_type": "markdown",
   "metadata": {},
   "source": [
    "> Let's look at the distribution of the _linear_ outputs"
   ]
  },
  {
   "cell_type": "code",
   "execution_count": 46,
   "metadata": {},
   "outputs": [
    {
     "data": {
      "image/png": "[encoded data removed]",
      "text/plain": [
       "<Figure size 432x288 with 1 Axes>"
      ]
     },
     "metadata": {
      "needs_background": "light"
     },
     "output_type": "display_data"
    }
   ],
   "source": [
    "plt.hist(X_train @ model.get_weights()[0]);"
   ]
  },
  {
   "cell_type": "markdown",
   "metadata": {},
   "source": [
    "> Ok, they're normally distributed... Sooo randomish?"
   ]
  },
  {
   "cell_type": "markdown",
   "metadata": {},
   "source": [
    "> Let's look at the distribution of the _logistic_ outputs"
   ]
  },
  {
   "cell_type": "code",
   "execution_count": 47,
   "metadata": {},
   "outputs": [
    {
     "data": {
      "image/png": "[encoded data removed]",
      "text/plain": [
       "<Figure size 432x288 with 1 Axes>"
      ]
     },
     "metadata": {
      "needs_background": "light"
     },
     "output_type": "display_data"
    }
   ],
   "source": [
    "plt.hist(model.predict(X_test));"
   ]
  },
  {
   "cell_type": "markdown",
   "metadata": {},
   "source": [
    "> the output was random, but then got crunched into the sigmoid function"
   ]
  },
  {
   "cell_type": "markdown",
   "metadata": {},
   "source": [
    "2. The output of this model is the activation of a single \"neuron\" (aka \"unit\"), as a function of all 784 input pixel features. The output of the neuron is `activation_function( m*x+b )`, where `activation_function` is function specified in the `denselayer` layer, and `m` and `b` are the `.weights` and `.bias` members of the layer. Manually obtain the neuron's weight and bias, and use the pseudocode `activation_function( m*x+b )` to calculate the neuron's response to the first test example `X_test[0]`. "
   ]
  },
  {
   "cell_type": "markdown",
   "metadata": {},
   "source": [
    "> Output of the model"
   ]
  },
  {
   "cell_type": "code",
   "execution_count": 54,
   "metadata": {},
   "outputs": [
    {
     "data": {
      "text/plain": [
       "array([[1.]], dtype=float32)"
      ]
     },
     "execution_count": 54,
     "metadata": {},
     "output_type": "execute_result"
    }
   ],
   "source": [
    "model.predict(X_test[0].reshape(1,-1))"
   ]
  },
  {
   "cell_type": "markdown",
   "metadata": {},
   "source": [
    "> output of the model"
   ]
  },
  {
   "cell_type": "code",
   "execution_count": 61,
   "metadata": {},
   "outputs": [
    {
     "data": {
      "text/plain": [
       "<function tensorflow.python.keras.activations.sigmoid(x)>"
      ]
     },
     "execution_count": 61,
     "metadata": {},
     "output_type": "execute_result"
    }
   ],
   "source": [
    "model.get_layer(index=0).activation"
   ]
  },
  {
   "cell_type": "code",
   "execution_count": 56,
   "metadata": {},
   "outputs": [
    {
     "data": {
      "text/plain": [
       "<tf.Tensor: id=7415, shape=(1,), dtype=float32, numpy=array([1.], dtype=float32)>"
      ]
     },
     "execution_count": 56,
     "metadata": {},
     "output_type": "execute_result"
    }
   ],
   "source": [
    "model.get_layer(index=0).activation(X_test[0] @ model.get_weights()[0])"
   ]
  },
  {
   "cell_type": "markdown",
   "metadata": {},
   "source": [
    "Now, find the output of a logistic regression model using `m` as the `beta` and `X_test[0]` as `x_i`. How to they compare?"
   ]
  },
  {
   "cell_type": "code",
   "execution_count": 57,
   "metadata": {},
   "outputs": [],
   "source": [
    "def sigma(x):\n",
    "    return 1 / (1 + 1 / np.exp(x))"
   ]
  },
  {
   "cell_type": "code",
   "execution_count": 58,
   "metadata": {},
   "outputs": [
    {
     "data": {
      "text/plain": [
       "array([1.], dtype=float32)"
      ]
     },
     "execution_count": 58,
     "metadata": {},
     "output_type": "execute_result"
    }
   ],
   "source": [
    "sigma(X_test[0] @ model.get_weights()[0])"
   ]
  },
  {
   "cell_type": "markdown",
   "metadata": {},
   "source": [
    "> they're the same?!!"
   ]
  },
  {
   "cell_type": "markdown",
   "metadata": {},
   "source": [
    "3. The current model can't do multiclass prediction - it can only predict a single thing. Let's use it to predict if an image is a '1'. Create a binary label set `yone_train` and `yone_test` for images that are ones, and then train it like this:\n",
    "\n",
    "```\n",
    "from tensorflow.keras.metrics import Precision, Recall\n",
    "model.compile(loss='binary_crossentropy', optimizer=\"sgd\", metrics=[Precision(), Recall()] ) \n",
    "\n",
    "model.fit(X_train, yone_train, epochs=10, batch_size=5000, verbose=1,\n",
    "              validation_split=0.1)\n",
    "```\n",
    "\n",
    "Take a look at the `weight` and `bias` parameters of the `denselayer`. Have they changed? Now that you've considered the relationship of this neuron to logistic regression, how would you relate training this model to training a logistic regression model? (Consider taking the neuron's `weight` vector, reshaping it into a square, and rendering an image of it.)"
   ]
  },
  {
   "cell_type": "code",
   "execution_count": 23,
   "metadata": {},
   "outputs": [
    {
     "data": {
      "text/plain": [
       "array([False, False, False, ..., False, False, False])"
      ]
     },
     "execution_count": 23,
     "metadata": {},
     "output_type": "execute_result"
    }
   ],
   "source": [
    "y_train==1"
   ]
  },
  {
   "cell_type": "code",
   "execution_count": 24,
   "metadata": {},
   "outputs": [
    {
     "name": "stdout",
     "output_type": "stream",
     "text": [
      "Train on 54000 samples, validate on 6000 samples\n",
      "Epoch 1/10\n",
      "54000/54000 [==============================] - 1s 24us/sample - loss: 7.8219 - precision: 0.6772 - recall: 0.6810 - accuracy: 0.9271 - val_loss: 0.7380 - val_precision: 0.9238 - val_recall: 0.9429 - val_accuracy: 0.9858\n",
      "Epoch 2/10\n",
      "54000/54000 [==============================] - 0s 6us/sample - loss: 0.8713 - precision: 0.9263 - recall: 0.9342 - accuracy: 0.9841 - val_loss: 0.5825 - val_precision: 0.9473 - val_recall: 0.9413 - val_accuracy: 0.9883\n",
      "Epoch 3/10\n",
      "54000/54000 [==============================] - 0s 6us/sample - loss: 0.7150 - precision: 0.9351 - recall: 0.9382 - accuracy: 0.9856 - val_loss: 0.4731 - val_precision: 0.9432 - val_recall: 0.9492 - val_accuracy: 0.9887\n",
      "Epoch 4/10\n",
      "54000/54000 [==============================] - 0s 6us/sample - loss: 0.6110 - precision: 0.9364 - recall: 0.9439 - accuracy: 0.9864 - val_loss: 0.4052 - val_precision: 0.9422 - val_recall: 0.9571 - val_accuracy: 0.9893\n",
      "Epoch 5/10\n",
      "54000/54000 [==============================] - 0s 5us/sample - loss: 0.5426 - precision: 0.9394 - recall: 0.9462 - accuracy: 0.9870 - val_loss: 0.3712 - val_precision: 0.9368 - val_recall: 0.9651 - val_accuracy: 0.9895\n",
      "Epoch 6/10\n",
      "54000/54000 [==============================] - 0s 6us/sample - loss: 0.4906 - precision: 0.9396 - recall: 0.9488 - accuracy: 0.9873 - val_loss: 0.3345 - val_precision: 0.9379 - val_recall: 0.9587 - val_accuracy: 0.9890\n",
      "Epoch 7/10\n",
      "54000/54000 [==============================] - 0s 7us/sample - loss: 0.4484 - precision: 0.9392 - recall: 0.9504 - accuracy: 0.9874 - val_loss: 0.3072 - val_precision: 0.9536 - val_recall: 0.9460 - val_accuracy: 0.9895\n",
      "Epoch 8/10\n",
      "54000/54000 [==============================] - 0s 5us/sample - loss: 0.4123 - precision: 0.9421 - recall: 0.9472 - accuracy: 0.9874 - val_loss: 0.2886 - val_precision: 0.9398 - val_recall: 0.9667 - val_accuracy: 0.9900\n",
      "Epoch 9/10\n",
      "54000/54000 [==============================] - 0s 7us/sample - loss: 0.3820 - precision: 0.9392 - recall: 0.9498 - accuracy: 0.9874 - val_loss: 0.2826 - val_precision: 0.9627 - val_recall: 0.9429 - val_accuracy: 0.9902\n",
      "Epoch 10/10\n",
      "54000/54000 [==============================] - 0s 5us/sample - loss: 0.3592 - precision: 0.9415 - recall: 0.9475 - accuracy: 0.9874 - val_loss: 0.2596 - val_precision: 0.9492 - val_recall: 0.9492 - val_accuracy: 0.9893\n"
     ]
    },
    {
     "data": {
      "text/plain": [
       "<tensorflow.python.keras.callbacks.History at 0x7f74d84eccc0>"
      ]
     },
     "execution_count": 24,
     "metadata": {},
     "output_type": "execute_result"
    }
   ],
   "source": [
    "yone_train = y_train==1\n",
    "yone_test = y_test==1\n",
    "\n",
    "from tensorflow.keras.metrics import Precision, Recall\n",
    "model = Sequential() # sequence of layers\n",
    "\n",
    "denselayer = Dense(units=1,\n",
    "                input_dim=n_feats,\n",
    "                kernel_initializer='uniform',\n",
    "                activation='sigmoid')\n",
    "\n",
    "model.add(denselayer)\n",
    "\n",
    "model.compile(loss='binary_crossentropy', optimizer=\"sgd\", metrics=[Precision(), Recall(), 'accuracy'] ) \n",
    "\n",
    "model.fit(X_train, yone_train, epochs=10, batch_size=5000, verbose=1,\n",
    "              validation_split=0.1)"
   ]
  },
  {
   "cell_type": "code",
   "execution_count": 25,
   "metadata": {},
   "outputs": [
    {
     "data": {
      "text/plain": [
       "array([[-9.51113552e-03, -1.61494240e-02,  4.98741865e-03,\n",
       "        -1.35306343e-02,  4.09037583e-02,  4.51615341e-02,\n",
       "        -4.29510474e-02, -1.56362653e-02,  1.70658715e-02,\n",
       "         4.92255129e-02,  2.76861452e-02, -6.55674934e-03,\n",
       "         4.98711579e-02, -4.50650230e-02, -3.04171089e-02,\n",
       "         4.34661247e-02, -4.44931909e-03,  2.75762118e-02,\n",
       "        -2.60550026e-02,  1.50920190e-02,  2.78774612e-02,\n",
       "         1.06488839e-02,  4.75630648e-02,  2.05459110e-02,\n",
       "        -3.53593938e-02,  4.54674400e-02,  2.08733231e-03,\n",
       "         3.79588716e-02],\n",
       "       [-4.15684804e-02,  2.19164006e-02, -1.37005933e-02,\n",
       "        -1.48350000e-02, -3.56351621e-02, -3.73683870e-04,\n",
       "        -2.82211788e-02, -8.97929817e-03, -2.67670192e-02,\n",
       "         1.82492286e-02,  1.70883629e-02, -1.70346349e-02,\n",
       "        -8.50106217e-03,  9.84223909e-04,  1.09250788e-02,\n",
       "        -3.88185456e-02,  2.40636282e-02, -6.92306599e-03,\n",
       "        -9.18786856e-04,  8.88562761e-03, -2.61877757e-03,\n",
       "        -2.38839649e-02, -4.61227819e-03, -2.47647520e-02,\n",
       "        -4.82428782e-02,  1.94249488e-02,  5.82129881e-03,\n",
       "         2.76446231e-02],\n",
       "       [-2.16107443e-03, -1.01221725e-03, -2.79178862e-02,\n",
       "        -3.77433077e-02, -3.73692997e-02,  2.91074775e-02,\n",
       "         3.69848795e-02, -2.63088979e-02,  1.88109819e-02,\n",
       "         2.07074713e-02, -1.62791703e-02,  4.07694606e-03,\n",
       "        -1.38732148e-02,  3.43658775e-02, -4.36230935e-03,\n",
       "        -4.02612872e-02, -2.17875596e-02,  2.18126923e-02,\n",
       "        -2.95449211e-03, -6.84762886e-03, -2.42914166e-03,\n",
       "         1.92313064e-02,  1.44694019e-02, -3.14202197e-02,\n",
       "        -1.62627976e-02, -4.23492193e-02,  2.02063434e-02,\n",
       "        -2.31045838e-02],\n",
       "       [ 3.31219919e-02, -8.00565630e-03, -1.50350444e-02,\n",
       "        -3.22162732e-02, -3.01177632e-02, -4.36352519e-03,\n",
       "         1.11646892e-03,  7.84340780e-03,  1.54363713e-03,\n",
       "         2.82896832e-02,  2.39754897e-02,  3.36634666e-02,\n",
       "        -4.08483855e-02, -2.14911792e-02,  2.40463559e-02,\n",
       "         3.90065601e-04, -3.27428170e-02, -3.64746638e-02,\n",
       "         1.17000220e-02,  1.33395055e-02, -4.52059954e-02,\n",
       "        -3.00799916e-03,  8.03313404e-03, -2.01841979e-03,\n",
       "        -3.70755605e-02,  4.93048094e-02, -4.11945805e-02,\n",
       "         3.70623805e-02],\n",
       "       [-9.98399407e-03,  2.54493393e-02, -4.91668805e-02,\n",
       "         2.46449541e-02,  4.87067290e-02,  4.93861958e-02,\n",
       "        -4.79983985e-02, -5.12298718e-02, -1.60509441e-02,\n",
       "        -8.80977791e-03,  2.31045410e-02, -9.86534916e-03,\n",
       "         3.76250930e-02, -1.89030487e-02, -2.71417946e-02,\n",
       "         2.63711233e-02,  3.45502496e-02, -3.39108445e-02,\n",
       "         3.75288427e-02, -1.02599999e-02,  3.89118008e-02,\n",
       "         1.05641717e-02, -3.47241350e-02,  4.33494989e-03,\n",
       "         4.84505901e-03, -1.65811069e-02, -4.99692224e-02,\n",
       "         1.28487237e-02],\n",
       "       [ 8.17619637e-03, -2.66216155e-02, -4.71699350e-02,\n",
       "        -9.29893460e-03,  1.49134900e-02,  3.01078372e-02,\n",
       "         1.08218566e-02,  1.56370159e-02, -4.35821153e-02,\n",
       "        -1.89764127e-02, -5.34101240e-02, -1.78520828e-02,\n",
       "         1.10910516e-02, -2.13841833e-02,  1.91367010e-03,\n",
       "         2.84561124e-02, -1.72442775e-02, -1.74981244e-02,\n",
       "         9.54920612e-03, -3.87700722e-02,  7.44759012e-03,\n",
       "        -1.54032977e-02,  2.04628110e-02,  4.29697372e-02,\n",
       "         1.97973568e-03, -2.93187853e-02, -2.21792236e-02,\n",
       "         2.63263844e-02],\n",
       "       [-1.60288215e-02, -3.68953459e-02, -4.21607755e-02,\n",
       "        -3.10684964e-02,  4.50171977e-02,  3.63940001e-02,\n",
       "        -3.54384929e-02,  1.75816305e-02,  2.78285928e-02,\n",
       "        -3.53798755e-02, -6.39144098e-03, -2.08091550e-03,\n",
       "        -2.36669127e-02,  9.12705529e-03, -2.64592795e-03,\n",
       "         4.01276629e-03, -3.40423547e-02,  1.33374361e-02,\n",
       "        -3.83705087e-02,  1.68965273e-02,  1.93800572e-02,\n",
       "         2.67748181e-02, -2.62791328e-02, -4.27758098e-02,\n",
       "         2.82161888e-02, -4.84339744e-02, -7.53325364e-03,\n",
       "        -4.42129374e-03],\n",
       "       [-4.13672440e-02,  3.71981524e-02, -4.02735844e-02,\n",
       "         2.33486164e-02, -2.84708943e-02, -2.81712674e-02,\n",
       "         9.02028847e-03, -2.37348792e-03, -5.27533405e-02,\n",
       "         2.03392562e-02,  2.30502859e-02, -4.93924096e-02,\n",
       "        -1.95886828e-02, -8.65444075e-04, -8.07478651e-03,\n",
       "        -1.90211460e-02, -5.07094897e-03,  3.37177934e-03,\n",
       "         2.24119574e-02,  1.56374089e-02,  2.11935416e-02,\n",
       "         3.29998098e-02,  2.60753604e-03,  2.12706383e-02,\n",
       "        -8.90568458e-03, -5.00562675e-02,  1.90306045e-02,\n",
       "        -1.24814138e-02],\n",
       "       [-3.11201457e-02,  4.85695861e-02, -2.53504645e-02,\n",
       "        -4.60534841e-02, -2.69877315e-02, -7.09945103e-03,\n",
       "        -1.54058374e-02, -3.26225460e-02,  6.21011155e-03,\n",
       "        -6.49475604e-02, -5.61437430e-03, -5.24294600e-02,\n",
       "         2.66768336e-02, -2.84859668e-02, -4.41758782e-02,\n",
       "        -1.32958805e-02, -3.15119401e-02, -1.73182096e-02,\n",
       "        -4.25660843e-03, -4.26539555e-02, -3.56499292e-02,\n",
       "         1.34360781e-02, -1.53296208e-02, -5.46921231e-02,\n",
       "        -3.51903290e-02, -4.54309247e-02,  2.59695984e-02,\n",
       "        -1.39241321e-02],\n",
       "       [-4.22705896e-02,  1.26604475e-02,  2.60290783e-02,\n",
       "        -2.26734150e-02,  1.24427825e-02, -3.81772295e-02,\n",
       "        -3.89482155e-02, -5.36032729e-02,  2.57641785e-02,\n",
       "         2.15814114e-02, -4.32434492e-02, -3.52660380e-02,\n",
       "         4.23065275e-02, -2.15787366e-02,  3.63960415e-02,\n",
       "         2.63295006e-02, -1.25507051e-02,  2.31606830e-02,\n",
       "         3.77964973e-02, -5.13692982e-02,  1.60277337e-02,\n",
       "        -6.60914630e-02,  9.62566677e-03, -4.60798386e-03,\n",
       "         2.60975603e-02,  3.89416069e-02,  1.85759198e-02,\n",
       "         4.94043753e-02],\n",
       "       [-1.41448490e-02, -1.58003084e-02,  9.44905076e-03,\n",
       "         1.11021325e-02,  2.47206818e-02, -9.70988907e-03,\n",
       "        -1.67864673e-02, -3.96417007e-02, -3.60682905e-02,\n",
       "        -2.55160518e-02, -1.67762674e-02, -9.56622139e-03,\n",
       "        -1.36867538e-02, -4.66445647e-03,  5.08728847e-02,\n",
       "         1.58057567e-02, -4.03551338e-03, -3.61807607e-02,\n",
       "        -3.96300592e-02,  2.88077686e-02, -2.90664006e-02,\n",
       "        -1.84996706e-02, -6.27422184e-02, -1.71117447e-02,\n",
       "         1.13720447e-02,  3.70042697e-02, -2.90756971e-02,\n",
       "        -6.67990046e-03],\n",
       "       [-3.44585627e-04, -1.16352048e-02,  3.43454294e-02,\n",
       "         1.59324426e-02,  7.66288908e-03, -1.60877779e-02,\n",
       "        -2.50752885e-02,  2.60007456e-02, -3.45358849e-02,\n",
       "        -4.85250987e-02,  1.51921399e-02, -4.11838666e-02,\n",
       "         1.09321568e-02,  6.14881814e-02,  4.97331806e-02,\n",
       "         1.68984737e-02,  3.20564560e-03,  3.48864123e-02,\n",
       "         2.54881214e-02, -1.56834628e-02, -1.49896024e-02,\n",
       "         1.69256690e-03,  2.11249683e-02, -5.44560608e-03,\n",
       "         4.48928215e-02, -1.82989391e-03, -5.15842857e-03,\n",
       "        -3.97983119e-02],\n",
       "       [-4.77132909e-02, -5.14490530e-03,  4.01018187e-02,\n",
       "         1.83205977e-02, -3.72460224e-02, -2.35836860e-02,\n",
       "         3.82020921e-02,  3.08189262e-02, -4.52892520e-02,\n",
       "        -4.13679555e-02,  2.29563899e-02, -5.47597110e-02,\n",
       "        -3.34816352e-02, -2.36300658e-02,  7.12700700e-03,\n",
       "         5.10117486e-02, -1.67395885e-03, -3.15307975e-02,\n",
       "        -1.19121065e-02, -6.82085529e-02,  2.63792239e-02,\n",
       "        -1.97902415e-02, -2.02522315e-02,  1.66538749e-02,\n",
       "         4.71988767e-02,  9.56301391e-03, -6.95527112e-03,\n",
       "         1.68771539e-02],\n",
       "       [ 3.09775025e-03,  3.95026468e-02,  1.84428357e-02,\n",
       "        -4.07587104e-02,  2.62509119e-02,  3.70746441e-02,\n",
       "        -1.10740596e-02, -6.36161864e-02, -1.94174945e-02,\n",
       "        -7.54432520e-04, -4.19971831e-02, -8.50361586e-03,\n",
       "         9.46971867e-03,  3.64430770e-02,  6.77061230e-02,\n",
       "         4.80366014e-02,  8.22156761e-03,  4.40625194e-03,\n",
       "         1.32590272e-02, -6.22578822e-02,  2.10026763e-02,\n",
       "        -2.84925960e-02,  3.48906443e-02,  1.40579846e-02,\n",
       "        -4.22976725e-03,  3.66959088e-02, -2.70558894e-02,\n",
       "        -4.05703858e-03],\n",
       "       [ 1.65412687e-02, -3.98379080e-02, -4.85643521e-02,\n",
       "        -2.60331761e-02,  3.81243192e-02,  1.14628393e-02,\n",
       "         3.73369170e-04, -5.49037941e-02, -8.12921580e-03,\n",
       "        -8.05917196e-04,  1.22339511e-02, -4.16368060e-02,\n",
       "         2.08504498e-02, -2.83800587e-02,  3.14324833e-02,\n",
       "         2.43621767e-02, -1.48508260e-02, -4.26607765e-02,\n",
       "         1.80979236e-03, -3.70437093e-02, -6.98049963e-02,\n",
       "        -6.01978265e-02, -1.09035149e-02,  1.82548221e-02,\n",
       "        -4.79126088e-02, -2.03495426e-03,  4.82784305e-03,\n",
       "        -2.96996366e-02],\n",
       "       [ 1.39964931e-02,  4.97705601e-02,  2.57905833e-02,\n",
       "        -1.83885302e-02, -1.53071322e-02, -1.05139222e-02,\n",
       "        -4.33165245e-02, -2.04636455e-02,  2.12614727e-03,\n",
       "        -6.46649078e-02, -3.17041129e-02, -1.77064221e-02,\n",
       "         4.63831285e-03,  1.38831334e-02,  1.75386330e-03,\n",
       "         3.83417159e-02,  4.81488736e-04, -5.97901046e-02,\n",
       "        -2.49519479e-02, -2.86248308e-02,  3.01333470e-03,\n",
       "        -8.80838837e-03,  2.55289208e-03,  1.08443934e-03,\n",
       "         4.46797833e-02, -2.46501118e-02, -2.45392509e-02,\n",
       "         3.00081111e-02],\n",
       "       [ 2.34764926e-02, -5.06319164e-04, -1.64552759e-02,\n",
       "         2.09597461e-02, -1.39860939e-02, -2.18024831e-02,\n",
       "        -4.21293713e-02, -1.26037784e-02, -5.48112113e-03,\n",
       "        -5.98232821e-02, -2.88900137e-02,  1.04354043e-02,\n",
       "         2.18759160e-02, -1.89496577e-02,  4.36391160e-02,\n",
       "        -1.75769981e-02,  3.54567170e-02, -5.97805232e-02,\n",
       "        -4.73021790e-02, -1.09999143e-02, -3.53400456e-03,\n",
       "        -4.71462868e-02,  3.18112075e-02, -1.00435466e-02,\n",
       "         2.08367687e-03, -5.35628060e-03, -3.26629728e-02,\n",
       "         3.82167809e-02],\n",
       "       [ 2.74700187e-02,  2.17841882e-02,  4.03502844e-02,\n",
       "        -2.00934839e-02, -4.13884707e-02, -4.68314998e-02,\n",
       "        -5.49598411e-03,  9.54591110e-03, -2.81297266e-02,\n",
       "        -2.00153645e-02,  1.97011493e-02, -5.08783050e-02,\n",
       "         6.34594075e-03,  7.65484874e-04,  3.38171907e-02,\n",
       "         3.89448628e-02, -1.22466693e-02, -3.00292820e-02,\n",
       "         7.18784577e-06, -4.24463972e-02, -6.34480491e-02,\n",
       "         1.57555006e-02, -6.06261827e-02, -1.31586557e-02,\n",
       "        -2.01877635e-02,  3.24550979e-02,  1.96687002e-02,\n",
       "        -4.36781310e-02],\n",
       "       [-4.07870151e-02, -1.30257290e-03, -3.73505652e-02,\n",
       "        -4.19155397e-02, -3.63511895e-03, -3.67754549e-02,\n",
       "        -4.13240604e-02, -6.36056438e-02, -1.69016270e-03,\n",
       "         1.57407429e-02, -1.10694766e-02,  2.41709724e-02,\n",
       "         3.25461254e-02, -1.00598615e-02, -2.44831089e-02,\n",
       "        -4.22690101e-02, -4.86609293e-03, -1.71725880e-02,\n",
       "        -4.70715500e-02, -1.55515578e-02,  2.53170654e-02,\n",
       "        -5.20567559e-02, -5.47424667e-02,  1.51234400e-02,\n",
       "        -3.91705073e-02, -1.92153621e-02,  3.88453528e-02,\n",
       "        -1.63041695e-03],\n",
       "       [-3.67952399e-02,  4.23231125e-02, -2.02147895e-03,\n",
       "        -4.68613356e-02,  2.33265683e-02,  7.76840001e-03,\n",
       "        -9.05224588e-03, -1.09061319e-02, -5.02307387e-03,\n",
       "        -3.00024133e-02, -5.19757345e-02, -2.05072742e-02,\n",
       "        -4.45767213e-03,  2.01669689e-02,  3.85046974e-02,\n",
       "         3.81447002e-02, -2.33465508e-02,  1.38605935e-02,\n",
       "        -1.03175621e-02, -3.19950581e-02, -3.26990746e-02,\n",
       "         3.86012942e-02,  2.64379531e-02, -2.74261404e-02,\n",
       "         3.47271413e-02,  2.90462491e-03, -2.24392340e-02,\n",
       "        -2.51418073e-02],\n",
       "       [-1.21936686e-02, -1.17447944e-02, -4.88558784e-02,\n",
       "         1.41635202e-02, -5.04692867e-02, -4.34227958e-02,\n",
       "         1.18607702e-02, -1.61373662e-03, -3.92628759e-02,\n",
       "         2.19064094e-02,  6.49848429e-04,  1.67898834e-02,\n",
       "        -2.43188068e-02, -4.18534093e-02, -2.79810391e-02,\n",
       "        -4.37265970e-02, -2.67776614e-03,  1.31519297e-02,\n",
       "         2.34730449e-02, -2.12016925e-02,  1.94843505e-02,\n",
       "        -2.28182543e-02, -2.69953348e-02,  1.08977938e-02,\n",
       "        -2.67270133e-02,  4.88983886e-03, -2.61949172e-04,\n",
       "        -7.34275579e-03],\n",
       "       [-4.73953858e-02, -8.93566385e-03, -1.08824465e-02,\n",
       "        -3.60118039e-02,  3.49526107e-02,  3.42729241e-02,\n",
       "        -4.74302238e-03, -2.99360417e-02, -2.61534099e-02,\n",
       "        -2.91403569e-03, -1.28897708e-02, -3.45382839e-02,\n",
       "         1.71926729e-02, -3.64607535e-02,  2.91508362e-02,\n",
       "        -2.64422372e-02,  2.79937051e-02,  9.91818774e-03,\n",
       "        -1.67088807e-02,  3.85138988e-02, -3.00581325e-02,\n",
       "        -1.02079837e-02,  2.48659290e-02, -3.59620564e-02,\n",
       "        -3.49700116e-02, -3.86277661e-02,  4.46618833e-02,\n",
       "         3.44395973e-02],\n",
       "       [-5.19561768e-03, -4.79264222e-02,  7.97222648e-03,\n",
       "        -6.62903022e-03, -3.84143218e-02,  8.24639667e-03,\n",
       "         5.16846403e-02, -4.12778147e-02,  5.80759905e-02,\n",
       "        -3.52681167e-02,  8.40377994e-03, -3.87311280e-02,\n",
       "        -4.82678562e-02,  7.55095948e-03,  1.22727798e-02,\n",
       "        -5.22572771e-02,  7.06799794e-03, -1.46401320e-02,\n",
       "         1.44194961e-02, -9.19930451e-03, -4.19955440e-02,\n",
       "        -6.76657399e-03,  4.58697462e-03, -2.61499267e-02,\n",
       "        -4.85431701e-02,  4.97043915e-02,  2.07940936e-02,\n",
       "         1.71056874e-02],\n",
       "       [-3.03053018e-02, -2.95516010e-02,  9.95583739e-03,\n",
       "        -1.95288891e-03, -1.75802372e-02,  4.14728895e-02,\n",
       "        -1.54796829e-02,  1.82801522e-02, -1.85964964e-02,\n",
       "        -1.75167080e-02,  1.94940101e-02, -4.79062237e-02,\n",
       "        -5.20464256e-02,  9.93520115e-03, -4.73600551e-02,\n",
       "         1.69384722e-02, -2.71920599e-02,  3.40268463e-02,\n",
       "        -3.30866314e-02,  8.92603397e-03, -3.31226573e-03,\n",
       "        -4.95332740e-02,  3.05089690e-02,  1.70213338e-02,\n",
       "        -1.41311632e-02,  4.09119315e-02,  1.58777426e-03,\n",
       "         2.92053074e-03],\n",
       "       [-3.13108452e-02, -3.09778452e-02, -4.15740721e-02,\n",
       "         4.78690118e-02,  3.52205224e-02, -9.79372486e-03,\n",
       "         7.79344887e-03, -1.61856879e-02,  4.40812949e-03,\n",
       "         7.79282534e-03, -2.90670991e-02,  8.57358146e-03,\n",
       "        -2.32867971e-02, -5.93406446e-02,  3.96365020e-03,\n",
       "        -3.95497717e-02, -3.54833789e-02, -1.00147817e-02,\n",
       "        -3.76703292e-02, -4.18156646e-02, -2.67687012e-02,\n",
       "        -2.14859704e-03,  4.83707152e-02, -4.50429879e-03,\n",
       "         3.26833315e-03,  4.18728329e-02, -4.80673313e-02,\n",
       "        -2.13469509e-02],\n",
       "       [ 1.59040727e-02,  1.47639550e-02, -3.64686176e-03,\n",
       "        -1.07793808e-02, -1.40040815e-02, -1.89748611e-02,\n",
       "        -5.00180051e-02, -4.53598499e-02, -1.78759098e-02,\n",
       "        -2.06725250e-04,  3.76413167e-02, -1.51441684e-02,\n",
       "        -4.98452261e-02, -4.09853719e-02,  1.53745497e-02,\n",
       "         3.56514640e-02,  8.77974741e-03, -3.42775024e-02,\n",
       "        -1.53684458e-02,  6.09588111e-03,  1.29085248e-02,\n",
       "        -3.43737416e-02, -2.91047413e-02, -2.70730164e-03,\n",
       "         4.11664434e-02, -3.76754999e-03, -3.64465490e-02,\n",
       "         1.15755685e-02],\n",
       "       [ 4.27420773e-02, -2.16894746e-02,  1.35183334e-04,\n",
       "         4.37768213e-02, -4.02166732e-02, -5.04032522e-03,\n",
       "        -1.65612455e-02, -3.12157883e-03, -3.12156267e-02,\n",
       "        -4.94083762e-02,  1.90953948e-02,  1.28120650e-02,\n",
       "         4.49334877e-03,  2.84668598e-02, -2.23749541e-02,\n",
       "         2.24257223e-02,  7.94741884e-03, -4.97796275e-02,\n",
       "        -4.41966094e-02,  4.56060804e-02, -1.00631341e-02,\n",
       "         2.05729268e-02,  3.11509855e-02, -1.04231015e-02,\n",
       "        -1.83494911e-02, -2.46004015e-03,  2.15709209e-03,\n",
       "        -2.99547315e-02],\n",
       "       [ 1.74901821e-02, -6.23422861e-03,  9.56101343e-03,\n",
       "        -3.41983810e-02,  3.31662931e-02, -1.86889172e-02,\n",
       "         3.58882882e-02,  4.04446833e-02, -3.70206609e-02,\n",
       "        -2.08650492e-02,  6.18671812e-03,  1.33343674e-02,\n",
       "         1.15970848e-02, -4.71561961e-02,  3.94526199e-02,\n",
       "         1.81219615e-02,  4.67623137e-02,  3.97643931e-02,\n",
       "         1.84475444e-02,  4.56395186e-02, -4.02627140e-03,\n",
       "         4.75709513e-03, -3.69936712e-02, -3.51720825e-02,\n",
       "        -1.72978863e-02, -2.51631029e-02,  1.97190531e-02,\n",
       "        -3.49911936e-02]], dtype=float32)"
      ]
     },
     "execution_count": 25,
     "metadata": {},
     "output_type": "execute_result"
    }
   ],
   "source": [
    "model.weights[0].numpy()[:,hidden_unit_i].reshape(28,28)"
   ]
  },
  {
   "cell_type": "code",
   "execution_count": 26,
   "metadata": {},
   "outputs": [
    {
     "data": {
      "text/plain": [
       "<matplotlib.image.AxesImage at 0x7f74d86985c0>"
      ]
     },
     "execution_count": 26,
     "metadata": {},
     "output_type": "execute_result"
    },
    {
     "data": {
      "image/png": "[encoded data removed]",
      "text/plain": [
       "<Figure size 432x288 with 1 Axes>"
      ]
     },
     "metadata": {
      "needs_background": "light"
     },
     "output_type": "display_data"
    }
   ],
   "source": [
    "hidden_unit_i = 0\n",
    "plt.imshow(model.weights[0].numpy()[:,hidden_unit_i].reshape(28,28), cmap=\"Greys\")"
   ]
  },
  {
   "cell_type": "markdown",
   "metadata": {},
   "source": [
    "> Theres a dark spot in the middle! Looking for that vertical line, and it's very white on the sides."
   ]
  },
  {
   "cell_type": "markdown",
   "metadata": {},
   "source": [
    "### Logistic regression in parallel\n",
    "\n",
    "Keras allows us to perform logistic regression _in parallel_ for a large number of target classes:\n",
    "\n",
    "```python\n",
    "np.random.seed(42)\n",
    "\n",
    "n_samples, n_feats = X_train.shape\n",
    "\n",
    "model = Sequential() # sequence of layers\n",
    "\n",
    "denselayer = Dense(units=10,\n",
    "                input_dim=n_feats,\n",
    "                kernel_initializer='uniform',\n",
    "                activation='sigmoid')\n",
    "\n",
    "model.add(denselayer)\n",
    "\n",
    "model.compile(loss='categorical_crossentropy', \n",
    "              optimizer=\"sgd\", metrics=[\"accuracy\"] )\n",
    "```\n",
    "\n",
    "1. Compile and train this model. What test accuracy does it converge to? Is it good or bad?"
   ]
  },
  {
   "cell_type": "code",
   "execution_count": 33,
   "metadata": {},
   "outputs": [
    {
     "name": "stdout",
     "output_type": "stream",
     "text": [
      "Train on 54000 samples, validate on 6000 samples\n",
      "Epoch 1/10\n",
      "54000/54000 [==============================] - 1s 24us/sample - loss: 4.0182 - accuracy: 0.1601 - val_loss: 2.3763 - val_accuracy: 0.1882\n",
      "Epoch 2/10\n",
      "54000/54000 [==============================] - 1s 14us/sample - loss: 2.3421 - accuracy: 0.1811 - val_loss: 2.2868 - val_accuracy: 0.1870\n",
      "Epoch 3/10\n",
      "54000/54000 [==============================] - 1s 13us/sample - loss: 2.2932 - accuracy: 0.1834 - val_loss: 2.2681 - val_accuracy: 0.1892\n",
      "Epoch 4/10\n",
      "54000/54000 [==============================] - 1s 10us/sample - loss: 2.2737 - accuracy: 0.1870 - val_loss: 2.2578 - val_accuracy: 0.1917\n",
      "Epoch 5/10\n",
      "54000/54000 [==============================] - 1s 10us/sample - loss: 2.2616 - accuracy: 0.1907 - val_loss: 2.2490 - val_accuracy: 0.1953\n",
      "Epoch 6/10\n",
      "54000/54000 [==============================] - 1s 10us/sample - loss: 2.2528 - accuracy: 0.1956 - val_loss: 2.2425 - val_accuracy: 0.1995\n",
      "Epoch 7/10\n",
      "54000/54000 [==============================] - 1s 11us/sample - loss: 2.2457 - accuracy: 0.2003 - val_loss: 2.2365 - val_accuracy: 0.2048\n",
      "Epoch 8/10\n",
      "54000/54000 [==============================] - 1s 9us/sample - loss: 2.2390 - accuracy: 0.2070 - val_loss: 2.2310 - val_accuracy: 0.2102\n",
      "Epoch 9/10\n",
      "54000/54000 [==============================] - 0s 9us/sample - loss: 2.2329 - accuracy: 0.2129 - val_loss: 2.2252 - val_accuracy: 0.2153\n",
      "Epoch 10/10\n",
      "54000/54000 [==============================] - 0s 9us/sample - loss: 2.2268 - accuracy: 0.2183 - val_loss: 2.2195 - val_accuracy: 0.2222\n"
     ]
    },
    {
     "data": {
      "text/plain": [
       "<tensorflow.python.keras.callbacks.History at 0x7f354a706550>"
      ]
     },
     "execution_count": 33,
     "metadata": {},
     "output_type": "execute_result"
    }
   ],
   "source": [
    "np.random.seed(42)\n",
    "\n",
    "n_samples, n_feats = X_train.shape\n",
    "\n",
    "model = Sequential() # sequence of layers\n",
    "\n",
    "denselayer = Dense(units=10,\n",
    "                input_dim=n_feats,\n",
    "                kernel_initializer='uniform',\n",
    "                activation='sigmoid')\n",
    "\n",
    "model.add(denselayer)\n",
    "\n",
    "model.compile(loss='categorical_crossentropy', \n",
    "              optimizer=\"sgd\", metrics=[\"accuracy\"] )\n",
    "from tensorflow.keras.utils import to_categorical\n",
    "model.fit(X_train, to_categorical(y_train), epochs=10, batch_size=5000, verbose=1,\n",
    "              validation_split=0.1)"
   ]
  },
  {
   "cell_type": "code",
   "execution_count": 34,
   "metadata": {},
   "outputs": [
    {
     "data": {
      "text/plain": [
       "array([1.        , 0.        , 1.        , 1.        , 0.9997985 ,\n",
       "       1.        , 1.        , 1.        , 0.99997675, 1.        ],\n",
       "      dtype=float32)"
      ]
     },
     "execution_count": 34,
     "metadata": {},
     "output_type": "execute_result"
    }
   ],
   "source": [
    "model.predict(X_test)[0]"
   ]
  },
  {
   "cell_type": "code",
   "execution_count": 35,
   "metadata": {},
   "outputs": [
    {
     "data": {
      "text/plain": [
       "7"
      ]
     },
     "execution_count": 35,
     "metadata": {},
     "output_type": "execute_result"
    }
   ],
   "source": [
    "y_test[0]"
   ]
  },
  {
   "cell_type": "markdown",
   "metadata": {},
   "source": [
    "2. Use the model to find a probabilistic prediction on any item in `X_test`. What is the _sum of probabilities_ for every predicted class?\n",
    "\n",
    "You'll notice the predictions are hot garbage (with an accuracy around 20%), and that the class probabilities for every class sum to more than 1.0.\n",
    "\n",
    "One solution is to apply a function to the neuron outputs that normalizes the vector such that it's constrained to add up to 1.0, and then on a loss from _that_ function."
   ]
  },
  {
   "cell_type": "code",
   "execution_count": 36,
   "metadata": {},
   "outputs": [
    {
     "data": {
      "text/plain": [
       "array([5870.704 , 6997.9746, 8427.09  , 9522.488 , 9605.1   , 9973.965 ,\n",
       "       9619.411 , 9409.269 , 9722.523 , 9877.384 ], dtype=float32)"
      ]
     },
     "execution_count": 36,
     "metadata": {},
     "output_type": "execute_result"
    }
   ],
   "source": [
    "model.predict(X_test).sum(axis=0)"
   ]
  },
  {
   "cell_type": "code",
   "execution_count": 37,
   "metadata": {},
   "outputs": [
    {
     "data": {
      "text/plain": [
       "array([[1.        , 0.        , 1.        , ..., 1.        , 0.99997675,\n",
       "        1.        ],\n",
       "       [0.        , 1.        , 1.        , ..., 1.        , 1.        ,\n",
       "        1.        ],\n",
       "       [0.        , 1.        , 1.        , ..., 0.47325078, 1.        ,\n",
       "        1.        ],\n",
       "       ...,\n",
       "       [1.        , 0.        , 1.        , ..., 1.        , 1.        ,\n",
       "        1.        ],\n",
       "       [1.        , 1.        , 1.        , ..., 1.        , 1.        ,\n",
       "        1.        ],\n",
       "       [1.        , 1.        , 1.        , ..., 1.        , 1.        ,\n",
       "        1.        ]], dtype=float32)"
      ]
     },
     "execution_count": 37,
     "metadata": {},
     "output_type": "execute_result"
    }
   ],
   "source": [
    "model.predict(X_test)"
   ]
  },
  {
   "cell_type": "markdown",
   "metadata": {},
   "source": [
    "3. Change the `activation` argument to \"softmax\", and retrain the model. What is the test accuracy? What is the sum of classification probabilities for all classes, for a single prediction?"
   ]
  },
  {
   "cell_type": "code",
   "execution_count": 38,
   "metadata": {},
   "outputs": [
    {
     "name": "stdout",
     "output_type": "stream",
     "text": [
      "Train on 54000 samples, validate on 6000 samples\n",
      "Epoch 1/10\n",
      "54000/54000 [==============================] - 1s 16us/sample - loss: 186.8225 - accuracy: 0.4214 - val_loss: 26.8597 - val_accuracy: 0.7410\n",
      "Epoch 2/10\n",
      "54000/54000 [==============================] - 1s 11us/sample - loss: 28.0254 - accuracy: 0.7536 - val_loss: 14.4070 - val_accuracy: 0.8430\n",
      "Epoch 3/10\n",
      "54000/54000 [==============================] - 1s 12us/sample - loss: 12.2037 - accuracy: 0.8477 - val_loss: 10.0931 - val_accuracy: 0.8645\n",
      "Epoch 4/10\n",
      "54000/54000 [==============================] - 1s 13us/sample - loss: 20.5367 - accuracy: 0.7897 - val_loss: 18.4241 - val_accuracy: 0.8105\n",
      "Epoch 5/10\n",
      "54000/54000 [==============================] - 1s 12us/sample - loss: 16.3915 - accuracy: 0.8130 - val_loss: 7.6938 - val_accuracy: 0.8898\n",
      "Epoch 6/10\n",
      "54000/54000 [==============================] - 1s 11us/sample - loss: 8.8445 - accuracy: 0.8723 - val_loss: 10.2794 - val_accuracy: 0.8470\n",
      "Epoch 7/10\n",
      "54000/54000 [==============================] - 0s 9us/sample - loss: 17.8096 - accuracy: 0.8051 - val_loss: 27.2423 - val_accuracy: 0.7455\n",
      "Epoch 8/10\n",
      "54000/54000 [==============================] - 1s 14us/sample - loss: 18.4806 - accuracy: 0.7981 - val_loss: 9.3148 - val_accuracy: 0.8755\n",
      "Epoch 9/10\n",
      "54000/54000 [==============================] - 1s 15us/sample - loss: 7.9707 - accuracy: 0.8826 - val_loss: 6.1653 - val_accuracy: 0.8967\n",
      "Epoch 10/10\n",
      "54000/54000 [==============================] - 1s 22us/sample - loss: 19.7877 - accuracy: 0.8055 - val_loss: 18.7631 - val_accuracy: 0.8233\n"
     ]
    },
    {
     "data": {
      "text/plain": [
       "<tensorflow.python.keras.callbacks.History at 0x7f3561096320>"
      ]
     },
     "execution_count": 38,
     "metadata": {},
     "output_type": "execute_result"
    }
   ],
   "source": [
    "np.random.seed(42)\n",
    "\n",
    "n_samples, n_feats = X_train.shape\n",
    "\n",
    "model = Sequential() # sequence of layers\n",
    "\n",
    "denselayer = Dense(units=10,\n",
    "                input_dim=n_feats,\n",
    "                kernel_initializer='uniform',\n",
    "                activation='softmax')\n",
    "\n",
    "model.add(denselayer)\n",
    "\n",
    "model.compile(loss='categorical_crossentropy', optimizer=\"sgd\", metrics=[\"accuracy\"] )\n",
    "from tensorflow.keras.utils import to_categorical\n",
    "model.fit(X_train, to_categorical(y_train), epochs=10, batch_size=5000, verbose=1,\n",
    "              validation_split=0.1)"
   ]
  },
  {
   "cell_type": "markdown",
   "metadata": {},
   "source": [
    "Extra credit: train with a large `batch` argument in `.fit`, and make pictures of the unit weights reshaped into 28x28 images."
   ]
  },
  {
   "cell_type": "code",
   "execution_count": null,
   "metadata": {},
   "outputs": [],
   "source": []
  },
  {
   "cell_type": "markdown",
   "metadata": {},
   "source": [
    "### Perceptrons: logistic regression with hidden features\n",
    "\n",
    "A perceptron is an architecture whereby an input is classified into a number of features; features that are actually unknown when model training begins. Then, logistic regression (or softmax regression) using the _hidden features_ as inputs is used to find the final class probabilities. This architecture is called a \"perceptron\", \"multiplayer perceptron\", or \"MLP\". Here's how to define an MLP with 300 neurons in one hidden layer, using Keras:\n",
    "\n",
    "```python\n",
    "np.random.seed(42)\n",
    "\n",
    "n_samples, n_feats = X_train.shape\n",
    "\n",
    "model = Sequential() # sequence of layers\n",
    "\n",
    "hidden_units = 300\n",
    "n_classes = 10\n",
    "\n",
    "hidden_layer = Dense(units=hidden_units,\n",
    "                input_dim=n_feats,\n",
    "                kernel_initializer='constant',\n",
    "                activation='sigmoid')\n",
    "\n",
    "output_layer = Dense(units=n_classes,\n",
    "                input_dim=hidden_units,\n",
    "                kernel_initializer='uniform',\n",
    "                activation='softmax')\n",
    "\n",
    "model.add(hidden_layer)\n",
    "model.add(output_layer)\n",
    "```\n",
    "\n",
    "1. Compile and train this model on the MNIST dataset. The 'adam' optimizer tends to do well. What kind of accuracy do you get? "
   ]
  },
  {
   "cell_type": "code",
   "execution_count": 39,
   "metadata": {},
   "outputs": [
    {
     "name": "stdout",
     "output_type": "stream",
     "text": [
      "60000/60000 [==============================] - 17s 283us/sample - loss: 0.4297 - accuracy: 0.8869\n"
     ]
    },
    {
     "data": {
      "text/plain": [
       "<tensorflow.python.keras.callbacks.History at 0x7f355e605710>"
      ]
     },
     "execution_count": 39,
     "metadata": {},
     "output_type": "execute_result"
    }
   ],
   "source": [
    "np.random.seed(42)\n",
    "\n",
    "n_samples, n_feats = X_train.shape\n",
    "\n",
    "model = Sequential() # sequence of layers\n",
    "\n",
    "hidden_units = 300\n",
    "n_classes = 10\n",
    "\n",
    "hidden_layer = Dense(units=hidden_units,\n",
    "                input_dim=n_feats,\n",
    "                kernel_initializer='constant',\n",
    "                activation='sigmoid')\n",
    "\n",
    "output_layer = Dense(units=n_classes,\n",
    "                input_dim=hidden_units,\n",
    "                kernel_initializer='uniform',\n",
    "                activation='softmax')\n",
    "\n",
    "model.add(hidden_layer)\n",
    "model.add(output_layer)\n",
    "model.compile(loss='categorical_crossentropy', optimizer=\"adam\", metrics=[\"accuracy\"])\n",
    "model.fit(X_train, to_categorical(y_train))"
   ]
  },
  {
   "cell_type": "markdown",
   "metadata": {},
   "source": [
    "2. Vary the hyperparameters. Choose differnet activations, kernal initializers, hidden units, optimizers, and optimizer parameters. To access optimizer parameters, instantiate optimizer objects from `tensorflow.keras.optimizers`. Can you get a better accuracy than 94%?\n",
    "\n",
    "This task might feel a little like looking for a needle in a haystack.  Perhaps you can think of an automated approach instead of a manual brute force search? (but with some intuition the brute force search will get you there, too.)  Keras has a [wrapper](https://keras.io/scikit-learn-api/) for the scikit-learn API where you can interface with GridSearch.  See this [blog post.](https://machinelearningmastery.com/grid-search-hyperparameters-deep-learning-models-python-keras/)"
   ]
  },
  {
   "cell_type": "code",
   "execution_count": 41,
   "metadata": {},
   "outputs": [
    {
     "name": "stdout",
     "output_type": "stream",
     "text": [
      "Epoch 1/10\n",
      "60000/60000 [==============================] - 21s 346us/sample - loss: 0.4333 - accuracy: 0.8850\n",
      "Epoch 2/10\n",
      "60000/60000 [==============================] - 16s 263us/sample - loss: 0.3153 - accuracy: 0.9107\n",
      "Epoch 3/10\n",
      "60000/60000 [==============================] - 15s 250us/sample - loss: 0.2869 - accuracy: 0.9154\n",
      "Epoch 4/10\n",
      "60000/60000 [==============================] - 15s 255us/sample - loss: 0.2676 - accuracy: 0.9199\n",
      "Epoch 5/10\n",
      "60000/60000 [==============================] - 27s 446us/sample - loss: 0.2516 - accuracy: 0.9247\n",
      "Epoch 6/10\n",
      "60000/60000 [==============================] - 27s 455us/sample - loss: 0.2492 - accuracy: 0.9257\n",
      "Epoch 7/10\n",
      "60000/60000 [==============================] - 23s 391us/sample - loss: 0.2422 - accuracy: 0.9270\n",
      "Epoch 8/10\n",
      "60000/60000 [==============================] - 24s 401us/sample - loss: 0.2398 - accuracy: 0.9273\n",
      "Epoch 9/10\n",
      "60000/60000 [==============================] - 24s 394us/sample - loss: 0.2210 - accuracy: 0.9324\n",
      "Epoch 10/10\n",
      "60000/60000 [==============================] - 26s 438us/sample - loss: 0.2267 - accuracy: 0.9320\n"
     ]
    },
    {
     "data": {
      "text/plain": [
       "<tensorflow.python.keras.callbacks.History at 0x7f355a022400>"
      ]
     },
     "execution_count": 41,
     "metadata": {},
     "output_type": "execute_result"
    }
   ],
   "source": [
    "np.random.seed(42)\n",
    "\n",
    "n_samples, n_feats = X_train.shape\n",
    "\n",
    "model = Sequential() # sequence of layers\n",
    "\n",
    "hidden_units = 300\n",
    "n_classes = 10\n",
    "\n",
    "hidden_layer = Dense(units=hidden_units,\n",
    "                input_dim=n_feats,\n",
    "                kernel_initializer='constant',\n",
    "                activation='sigmoid')\n",
    "\n",
    "output_layer = Dense(units=n_classes,\n",
    "                input_dim=hidden_units,\n",
    "                kernel_initializer='uniform',\n",
    "                activation='softmax')\n",
    "\n",
    "model.add(hidden_layer)\n",
    "# model.add(Dense(units=hidden_units,\n",
    "#                 input_dim=hidden_units,\n",
    "#                 kernel_initializer='uniform',\n",
    "#                 activation='softmax'))\n",
    "model.add(output_layer)\n",
    "model.compile(loss='categorical_crossentropy', optimizer=\"adam\", metrics=[\"accuracy\"])\n",
    "model.fit(X_train, to_categorical(y_train), epochs=10)"
   ]
  },
  {
   "cell_type": "markdown",
   "metadata": {},
   "source": [
    "3. When you have a very good accuracy, make a picture of the weights associated with the hidden layers.\n",
    "\n",
    "Hint: do this, \n",
    "```python\n",
    "hidden_unit_i = 0\n",
    "plt.imshow(hidden_layer.weights[0].numpy()[:,hidden_unit_i].reshape(28,28))\n",
    "```\n",
    "\n",
    "Speculate on what this might mean."
   ]
  },
  {
   "cell_type": "code",
   "execution_count": 55,
   "metadata": {},
   "outputs": [
    {
     "data": {
      "text/plain": [
       "<matplotlib.image.AxesImage at 0x7f34fc2259b0>"
      ]
     },
     "execution_count": 55,
     "metadata": {},
     "output_type": "execute_result"
    },
    {
     "data": {
      "image/png": "[encoded data removed]",
      "text/plain": [
       "<Figure size 432x288 with 1 Axes>"
      ]
     },
     "metadata": {
      "needs_background": "light"
     },
     "output_type": "display_data"
    }
   ],
   "source": [
    "hidden_unit_i = 0\n",
    "plt.imshow(hidden_layer.weights[0].numpy()[:,hidden_unit_i].reshape(28,28), cmap=\"Greys\")"
   ]
  },
  {
   "cell_type": "markdown",
   "metadata": {},
   "source": [
    "## Installation for PCs with NVIDIA GPUs that wish to use the GPU to speed up training.  \n",
    "\n",
    "1) Go [here](https://github.com/NVIDIA/nvidia-docker) and follow the directions to install `nvidia-docker`."
   ]
  },
  {
   "cell_type": "code",
   "execution_count": null,
   "metadata": {},
   "outputs": [],
   "source": []
  },
  {
   "cell_type": "markdown",
   "metadata": {},
   "source": [
    "2) Check that it works:  \n",
    "   ```bash\n",
    "   $ docker run --gpus all nvidia/cuda:9.0-base nvidia-smi\n",
    "   ```"
   ]
  },
  {
   "cell_type": "code",
   "execution_count": null,
   "metadata": {},
   "outputs": [],
   "source": []
  },
  {
   "cell_type": "markdown",
   "metadata": {},
   "source": [
    "3) Download an image, make a container and a volume:\n",
    "   ```\n",
    "   $ cd ~\n",
    "   $ docker run --gpus all -it --name tensorflow-gpu -p 8888:8888 -v \"$PWD\":/tf tensorflow/tensorflow:latest-gpu-py3-jupyter\n",
    "   ```\n",
    "\n",
    "As discussed in Part I, you can work with the container in a Jupyter notebook or from terminal."
   ]
  },
  {
   "cell_type": "code",
   "execution_count": null,
   "metadata": {},
   "outputs": [],
   "source": []
  }
 ],
 "metadata": {
  "kernelspec": {
   "display_name": "Python 3",
   "language": "python",
   "name": "python3"
  },
  "language_info": {
   "codemirror_mode": {
    "name": "ipython",
    "version": 3
   },
   "file_extension": ".py",
   "mimetype": "text/x-python",
   "name": "python",
   "nbconvert_exporter": "python",
   "pygments_lexer": "ipython3",
   "version": "3.5.2"
  }
 },
 "nbformat": 4,
 "nbformat_minor": 2
}
