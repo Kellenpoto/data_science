{
 "cells": [
  {
   "cell_type": "markdown",
   "metadata": {
    "toc": true
   },
   "source": [
    "<h1>Table of Contents<span class=\"tocSkip\"></span></h1>\n",
    "<div class=\"toc\"><ul class=\"toc-item\"><li><span><a href=\"#FrozenLake-v0-Environment-Solution\" data-toc-modified-id=\"FrozenLake-v0-Environment-Solution-1\"><span class=\"toc-item-num\">1&nbsp;&nbsp;</span>FrozenLake-v0 Environment Solution</a></span><ul class=\"toc-item\"><li><span><a href=\"#Random-Walk\" data-toc-modified-id=\"Random-Walk-1.1\"><span class=\"toc-item-num\">1.1&nbsp;&nbsp;</span>Random Walk</a></span></li><li><span><a href=\"#Q-learning\" data-toc-modified-id=\"Q-learning-1.2\"><span class=\"toc-item-num\">1.2&nbsp;&nbsp;</span>Q-learning</a></span></li><li><span><a href=\"#Deep-Q-learning\" data-toc-modified-id=\"Deep-Q-learning-1.3\"><span class=\"toc-item-num\">1.3&nbsp;&nbsp;</span>Deep Q-learning</a></span></li></ul></li></ul></div>"
   ]
  },
  {
   "cell_type": "markdown",
   "metadata": {},
   "source": [
    "# FrozenLake-v0 Environment Solution"
   ]
  },
  {
   "cell_type": "markdown",
   "metadata": {},
   "source": [
    "## Random Walk"
   ]
  },
  {
   "cell_type": "code",
   "execution_count": 114,
   "metadata": {},
   "outputs": [
    {
     "name": "stdout",
     "output_type": "stream",
     "text": [
      "\n",
      "\u001b[41mS\u001b[0mFFF\n",
      "FHFH\n",
      "FFFH\n",
      "HFFG\n",
      "\n",
      "  (Left)\n",
      "\u001b[41mS\u001b[0mFFF\n",
      "FHFH\n",
      "FFFH\n",
      "HFFG\n",
      "Reward: 0.00\n",
      "\n",
      "  (Down)\n",
      "SFFF\n",
      "\u001b[41mF\u001b[0mHFH\n",
      "FFFH\n",
      "HFFG\n",
      "Reward: 0.00\n",
      "\n",
      "  (Left)\n",
      "SFFF\n",
      "FHFH\n",
      "\u001b[41mF\u001b[0mFFH\n",
      "HFFG\n",
      "Reward: 0.00\n",
      "\n",
      "  (Down)\n",
      "SFFF\n",
      "FHFH\n",
      "FFFH\n",
      "\u001b[41mH\u001b[0mFFG\n",
      "Reward: 0.00\n",
      "\n",
      "  (Down)\n",
      "\u001b[41mS\u001b[0mFFF\n",
      "FHFH\n",
      "FFFH\n",
      "HFFG\n",
      "Reward: 0.00\n",
      "\n",
      "  (Right)\n",
      "SFFF\n",
      "\u001b[41mF\u001b[0mHFH\n",
      "FFFH\n",
      "HFFG\n",
      "Reward: 0.00\n",
      "\n",
      "  (Left)\n",
      "SFFF\n",
      "FHFH\n",
      "\u001b[41mF\u001b[0mFFH\n",
      "HFFG\n",
      "Reward: 0.00\n",
      "\n",
      "  (Right)\n",
      "SFFF\n",
      "\u001b[41mF\u001b[0mHFH\n",
      "FFFH\n",
      "HFFG\n",
      "Reward: 0.00\n",
      "no.of attempts 2\n",
      "the winning sequence ['Down', 'Right', 'Left', 'Right']\n"
     ]
    }
   ],
   "source": [
    "import gym\n",
    "import random\n",
    "\n",
    "env = gym.make(\"FrozenLake-v0\")\n",
    "env.reset()\n",
    "env.render()\n",
    "reward=0.00\n",
    "forbidden=[5,7,11,12]\n",
    "actions = {\n",
    "    'Left': 0,\n",
    "    'Down': 1,\n",
    "    'Right': 2,\n",
    "    'Up': 3}\n",
    "counter=0\n",
    "done = True\n",
    "while done:\n",
    "    counter=counter+1\n",
    "    winning_sequence=[random.choice([\"Left\",\"Down\",\"Right\"]),\n",
    "                      random.choice([\"Left\",\"Down\",\"Right\"]),\n",
    "                      random.choice([\"Left\",\"Down\"]),\n",
    "                      random.choice([\"Left\",\"Down\",\"Right\",\"Up\"])]\n",
    "    for a in winning_sequence:\n",
    "        new_state, reward, done, info = env.step(actions[a])\n",
    "        print()\n",
    "        env.render()\n",
    "        print(\"Reward: {:.2f}\".format(reward))\n",
    "        if new_state in forbidden:\n",
    "            env.reset()\n",
    "            break\n",
    "        if new_state==15:\n",
    "            done=False\n",
    "            break\n",
    "print(\"no.of attempts\",counter)\n",
    "print(\"the winning sequence\",winning_sequence)"
   ]
  },
  {
   "cell_type": "markdown",
   "metadata": {},
   "source": [
    "## Q-learning\n",
    "Please find the original solution [here](https://gym.openai.com/evaluations/eval_OAbMaV0TKe71Cq5Mtof7g/)."
   ]
  },
  {
   "cell_type": "code",
   "execution_count": 115,
   "metadata": {},
   "outputs": [],
   "source": [
    "# https://gym.openai.com/evaluations/eval_OAbMaV0TKe71Cq5Mtof7g/\n",
    "# used tutorial https://medium.com/emergent-future/simple-reinforcement-learning-with-tensorflow-part-0-q-learning-with-tables-and-neural-networks-d195264329d0\n",
    "# author Akhan Ismailov\n",
    "# Q-learning algorithm, line 24\n",
    "\n",
    "import gym\n",
    "import numpy as np\n",
    "from gym import wrappers\n",
    "from tqdm import tqdm"
   ]
  },
  {
   "cell_type": "code",
   "execution_count": 116,
   "metadata": {},
   "outputs": [
    {
     "name": "stderr",
     "output_type": "stream",
     "text": [
      "100%|██████████| 2000/2000 [00:07<00:00, 254.11it/s]"
     ]
    },
    {
     "name": "stdout",
     "output_type": "stream",
     "text": [
      "0.76\n"
     ]
    },
    {
     "name": "stderr",
     "output_type": "stream",
     "text": [
      "\n"
     ]
    }
   ],
   "source": [
    "Q = np.zeros([env.observation_space.n, env.action_space.n])\n",
    "lr = 0.85\n",
    "gamma = 0.99\n",
    "num_episodes = 2000\n",
    "num_iterations = 200\n",
    "rewards = np.zeros(num_episodes)\n",
    "\n",
    "for episode in tqdm(range(num_episodes)):\n",
    "    state = env.reset()\n",
    "    for iteration in range(num_iterations):\n",
    "        action = np.argmax( Q[state, :] + np.random.randn(1, env.action_space.n)*(1./(episode+1)) )\n",
    "        state_new, reward, done, _ = env.step(action)\n",
    "        Q[state, action] = Q[state, action] + lr*(reward + gamma*np.max(Q[state_new,:]) - Q[state, action])\n",
    "        state = state_new\n",
    "\n",
    "        if done or iteration == num_iterations-1:\n",
    "            rewards[episode] = reward\n",
    "\n",
    "        if done:\n",
    "            break\n",
    "\n",
    "def find_conseq_max():\n",
    "    sum_cur = sum(rewards[0:100])\n",
    "    maxx = sum_cur\n",
    "    for i in range(100, num_episodes):\n",
    "        sum_cur += rewards[i] - rewards[i-100]\n",
    "        maxx = max(maxx, sum_cur)\n",
    "    return maxx / 100\n",
    "\n",
    "# From the website, solved after 413 episodes. Best 100-episode average reward was 0.82 ± 0.04.\n",
    "\n",
    "print(find_conseq_max())"
   ]
  },
  {
   "cell_type": "markdown",
   "metadata": {},
   "source": [
    "## Deep Q-learning "
   ]
  },
  {
   "cell_type": "code",
   "execution_count": 117,
   "metadata": {},
   "outputs": [
    {
     "name": "stdout",
     "output_type": "stream",
     "text": [
      "\n",
      "\u001b[41mS\u001b[0mFFF\n",
      "FHFH\n",
      "FFFH\n",
      "HFFG\n"
     ]
    }
   ],
   "source": [
    "env.reset()\n",
    "env.render()"
   ]
  },
  {
   "cell_type": "code",
   "execution_count": 118,
   "metadata": {},
   "outputs": [
    {
     "name": "stdout",
     "output_type": "stream",
     "text": [
      "Number of actions: 4\n",
      "Number of states: 16\n"
     ]
    }
   ],
   "source": [
    "print(\"Number of actions: %d\" % env.action_space.n)\n",
    "print(\"Number of states: %d\" % env.observation_space.n)"
   ]
  },
  {
   "cell_type": "code",
   "execution_count": 119,
   "metadata": {},
   "outputs": [],
   "source": [
    "# ！pip install keras==2.3.1 The latest keras version that doesn't requrie TF 2.2+\n",
    "# !git clone https://github.com/wau/keras-rl2.git\n",
    "# !cd keras-rl\n",
    "# !python install ."
   ]
  },
  {
   "cell_type": "code",
   "execution_count": 120,
   "metadata": {},
   "outputs": [],
   "source": [
    "from tensorflow.keras.models import Sequential\n",
    "from tensorflow.keras.layers import Dense, Activation, Flatten, Embedding, Reshape\n",
    "from tensorflow.keras.optimizers import Adam\n",
    "from rl.agents.dqn import DQNAgent\n",
    "from rl.policy import Policy, BoltzmannQPolicy\n",
    "from rl.memory import SequentialMemory"
   ]
  },
  {
   "cell_type": "code",
   "execution_count": 121,
   "metadata": {},
   "outputs": [],
   "source": [
    "class DecayEpsGreedyQPolicy(Policy):\n",
    "    def __init__(self, max_eps=.1, min_eps=.05, lamb=0.001):\n",
    "        super(DecayEpsGreedyQPolicy, self).__init__()\n",
    "        self.max_eps = max_eps\n",
    "        self.lambd = lamb\n",
    "        self._steps = 0\n",
    "        self.min_eps = min_eps\n",
    "\n",
    "    def select_action(self, q_values):\n",
    "        assert q_values.ndim == 1\n",
    "        nb_actions = q_values.shape[0]\n",
    "        eps = self.min_eps + (self.max_eps - self.min_eps) * \\\n",
    "            np.exp(-self.lambd * self._steps)\n",
    "        self._steps += 1\n",
    "        if self._steps % 1e3 == 0:\n",
    "            print(\"Current eps:\", eps)\n",
    "        if np.random.uniform() < eps:\n",
    "            action = np.random.random_integers(0, nb_actions - 1)\n",
    "        else:\n",
    "            action = np.argmax(q_values)\n",
    "        return action"
   ]
  },
  {
   "cell_type": "code",
   "execution_count": 134,
   "metadata": {},
   "outputs": [
    {
     "name": "stdout",
     "output_type": "stream",
     "text": [
      "Model: \"sequential_54\"\n",
      "_________________________________________________________________\n",
      "Layer (type)                 Output Shape              Param #   \n",
      "=================================================================\n",
      "embedding_48 (Embedding)     (None, 1, 4)              64        \n",
      "_________________________________________________________________\n",
      "dense_101 (Dense)            (None, 1, 64)             320       \n",
      "_________________________________________________________________\n",
      "dense_102 (Dense)            (None, 1, 16)             1040      \n",
      "_________________________________________________________________\n",
      "dense_103 (Dense)            (None, 1, 4)              68        \n",
      "_________________________________________________________________\n",
      "reshape_49 (Reshape)         (None, 4)                 0         \n",
      "=================================================================\n",
      "Total params: 1,492\n",
      "Trainable params: 1,492\n",
      "Non-trainable params: 0\n",
      "_________________________________________________________________\n",
      "None\n"
     ]
    }
   ],
   "source": [
    "np.set_printoptions(threshold=np.inf)\n",
    "np.set_printoptions(precision=4)\n",
    "\n",
    "# Get the environment and extract the number of actions.\n",
    "env.reset()\n",
    "np.random.seed(123)\n",
    "env.seed(123)\n",
    "nb_actions = env.action_space.n\n",
    "\n",
    "def get_keras_model(action_space_shape):\n",
    "    model = Sequential()\n",
    "    model.add(Embedding(16, 4, input_length=1))\n",
    "    model.add(Dense(64, activation='relu'))\n",
    "    model.add(Dense(16, activation='relu'))\n",
    "    model.add(Dense(4, activation='relu'))\n",
    "    model.add(Reshape((4,)))\n",
    "    print(model.summary())\n",
    "    return model\n",
    "\n",
    "model = get_keras_model(nb_actions)\n",
    "\n",
    "memory = SequentialMemory(limit=10000, window_length=1)\n",
    "policy = DecayEpsGreedyQPolicy(max_eps=0.9, min_eps=0, lamb=1 / (1e4))\n",
    "dqn = DQNAgent(model=model, nb_actions=nb_actions,\n",
    "               memory=memory, nb_steps_warmup=500,\n",
    "               target_model_update=1e-2, policy=policy,\n",
    "               enable_double_dqn=False, batch_size=512\n",
    "               )\n",
    "dqn.compile(Adam());"
   ]
  },
  {
   "cell_type": "code",
   "execution_count": 137,
   "metadata": {},
   "outputs": [
    {
     "name": "stdout",
     "output_type": "stream",
     "text": [
      "Training for 4000 steps ...\n",
      "Interval 1 (0 steps performed)\n",
      "   21/10000 [..............................] - ETA: 1:19 - reward: 0.0000e+00"
     ]
    },
    {
     "name": "stderr",
     "output_type": "stream",
     "text": [
      "/home/ubuntu/anaconda3/lib/python3.7/site-packages/ipykernel_launcher.py:18: DeprecationWarning: This function is deprecated. Please call randint(0, 3 + 1) instead\n"
     ]
    },
    {
     "name": "stdout",
     "output_type": "stream",
     "text": [
      "  788/10000 [=>............................] - ETA: 4:27 - reward: 0.0013Current eps: 0.7369313672223718\n",
      " 1694/10000 [====>.........................] - ETA: 6:40 - reward: 0.0012Current eps: 0.6668030755872005\n",
      " 2606/10000 [======>.......................] - ETA: 6:42 - reward: 0.0019Current eps: 0.6033483732527594\n",
      " 3529/10000 [=========>....................] - ETA: 6:10 - reward: 0.0028Current eps: 0.5459321842302232\n",
      " 4000/10000 [===========>..................] - ETA: 5:47 - reward: 0.0027done, took 231.574 seconds\n",
      "CPU times: user 4min 8s, sys: 7.14 s, total: 4min 15s\n",
      "Wall time: 3min 51s\n"
     ]
    },
    {
     "data": {
      "text/plain": [
       "<tensorflow.python.keras.callbacks.History at 0x7f769556e6d0>"
      ]
     },
     "execution_count": 137,
     "metadata": {},
     "output_type": "execute_result"
    }
   ],
   "source": [
    "%%time\n",
    "dqn.fit(env, nb_steps=4000, visualize=False, verbose=1)"
   ]
  },
  {
   "cell_type": "code",
   "execution_count": 124,
   "metadata": {},
   "outputs": [],
   "source": [
    "ENV_NAME = 'FrozenLake-v0'"
   ]
  },
  {
   "cell_type": "code",
   "execution_count": 125,
   "metadata": {},
   "outputs": [],
   "source": [
    "dqn.save_weights('dqn_{}_weights.h5f'.format(ENV_NAME), overwrite=True)"
   ]
  },
  {
   "cell_type": "code",
   "execution_count": 138,
   "metadata": {},
   "outputs": [
    {
     "name": "stdout",
     "output_type": "stream",
     "text": [
      "Testing for 20 episodes ...\n",
      "Episode 1: reward: 1.000, steps: 16\n",
      "Episode 2: reward: 0.000, steps: 20\n",
      "Episode 3: reward: 0.000, steps: 11\n",
      "Episode 4: reward: 1.000, steps: 24\n",
      "Episode 5: reward: 1.000, steps: 20\n",
      "Episode 6: reward: 0.000, steps: 16\n",
      "Episode 7: reward: 1.000, steps: 34\n",
      "Episode 8: reward: 1.000, steps: 79\n",
      "Episode 9: reward: 1.000, steps: 38\n",
      "Episode 10: reward: 1.000, steps: 19\n",
      "Episode 11: reward: 0.000, steps: 14\n",
      "Episode 12: reward: 0.000, steps: 36\n",
      "Episode 13: reward: 1.000, steps: 46\n",
      "Episode 14: reward: 0.000, steps: 13\n",
      "Episode 15: reward: 1.000, steps: 46\n",
      "Episode 16: reward: 0.000, steps: 100\n",
      "Episode 17: reward: 1.000, steps: 24\n",
      "Episode 18: reward: 0.000, steps: 42\n",
      "Episode 19: reward: 0.000, steps: 10\n",
      "Episode 20: reward: 0.000, steps: 62\n"
     ]
    },
    {
     "data": {
      "text/plain": [
       "<tensorflow.python.keras.callbacks.History at 0x7f76950d0ed0>"
      ]
     },
     "execution_count": 138,
     "metadata": {},
     "output_type": "execute_result"
    }
   ],
   "source": [
    "# Finally, evaluate our algorithm for 20 episodes.\n",
    "dqn.test(env, nb_episodes=20, visualize=False)"
   ]
  }
 ],
 "metadata": {
  "kernelspec": {
   "display_name": "Python 3",
   "language": "python",
   "name": "python3"
  },
  "language_info": {
   "codemirror_mode": {
    "name": "ipython",
    "version": 3
   },
   "file_extension": ".py",
   "mimetype": "text/x-python",
   "name": "python",
   "nbconvert_exporter": "python",
   "pygments_lexer": "ipython3",
   "version": "3.7.6"
  },
  "toc": {
   "base_numbering": 1,
   "nav_menu": {},
   "number_sections": true,
   "sideBar": true,
   "skip_h1_title": false,
   "title_cell": "Table of Contents",
   "title_sidebar": "Contents",
   "toc_cell": true,
   "toc_position": {},
   "toc_section_display": true,
   "toc_window_display": true
  }
 },
 "nbformat": 4,
 "nbformat_minor": 2
}
