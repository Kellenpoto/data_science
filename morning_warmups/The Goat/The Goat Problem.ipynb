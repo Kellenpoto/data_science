{
 "cells": [
  {
   "cell_type": "markdown",
   "metadata": {},
   "source": [
    "# The Goat Problem\n",
    "\n",
    "The goat problem is a classic brain teaser first proposed in 1748.\n",
    "\n",
    "Although it seems simple, it is deceptively difficult. The first closed-form solution of the problem was found in 2020, nearly 300 years after the problem was posed!\n",
    "\n",
    "## The Problem:\n",
    "\n",
    "Suppose you have a circular lawn with radius = 1. You want to tether a goat to a point ($Q$) on the circumference of the circle, so that the goat can eat exactly half of the grass.\n",
    "\n",
    "How long should the tether ($r$) be?\n",
    "\n",
    "![](goat.png)"
   ]
  },
  {
   "cell_type": "markdown",
   "metadata": {},
   "source": [
    "## Advice:\n",
    "\n",
    "Although it is possible to find a solution using geometry, calculus or complex analysis, try to take a **Data Science** approach. "
   ]
  },
  {
   "cell_type": "code",
   "execution_count": null,
   "metadata": {},
   "outputs": [],
   "source": []
  }
 ],
 "metadata": {
  "kernelspec": {
   "display_name": "Python 3",
   "language": "python",
   "name": "python3"
  },
  "language_info": {
   "codemirror_mode": {
    "name": "ipython",
    "version": 3
   },
   "file_extension": ".py",
   "mimetype": "text/x-python",
   "name": "python",
   "nbconvert_exporter": "python",
   "pygments_lexer": "ipython3",
   "version": "3.8.5"
  }
 },
 "nbformat": 4,
 "nbformat_minor": 4
}
