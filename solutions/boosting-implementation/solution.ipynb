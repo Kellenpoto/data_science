{
 "cells": [
  {
   "cell_type": "markdown",
   "metadata": {},
   "source": [
    "# Boosting Implementation\n",
    "\n",
    "This assignment will have us develop a gradient boosted regressor using Decision Tree models from `sklearn`, to help us understand the how the algorithm works.\n",
    "\n",
    "## Basic\n",
    "### Part 1: Implement basic boosting model\n",
    "\n",
    "Write code (in `src/boosting.py`) to implement a gradient-boosted regressor.\n",
    "\n",
    "> We're including the intermediate code in this solutions notebook so you can see each stage, though best practice is to write most code directly in `.py` files (other than EDA and figuring things out).\n",
    "\n",
    "1. Load the boston data set into a notebook and do a train-test split. Import the existing stub class. Instantiate it and fit and predict on the data, confirming it does what you expect (i.e., nothing). After each subsequent step, fit and predict on the results, and verify you are getting the results you expect."
   ]
  },
  {
   "cell_type": "code",
   "execution_count": 1,
   "metadata": {},
   "outputs": [],
   "source": [
    "from sklearn.datasets import load_boston\n",
    "from sklearn.model_selection import train_test_split\n",
    "import matplotlib.pyplot as plt\n",
    "from sklearn.linear_model import LinearRegression\n",
    "from sklearn.neighbors import KNeighborsRegressor\n",
    "%matplotlib inline"
   ]
  },
  {
   "cell_type": "code",
   "execution_count": 2,
   "metadata": {},
   "outputs": [],
   "source": [
    "data = load_boston()\n",
    "X = data.data\n",
    "y = data.target\n",
    "\n",
    "X_train, X_test, y_train, y_test = train_test_split(X, y)"
   ]
  },
  {
   "cell_type": "code",
   "execution_count": 3,
   "metadata": {},
   "outputs": [],
   "source": [
    "class GradientBoostedRegressor:\n",
    "    \"\"\"A gradient boosting class\n",
    "    \"\"\"\n",
    "    def __init__(self):\n",
    "        pass\n",
    "\n",
    "    def fit(self, X, y):\n",
    "        pass\n",
    "\n",
    "    def predict(self, X):\n",
    "        pass"
   ]
  },
  {
   "cell_type": "code",
   "execution_count": 4,
   "metadata": {},
   "outputs": [
    {
     "name": "stdout",
     "output_type": "stream",
     "text": [
      "None\n"
     ]
    }
   ],
   "source": [
    "model = GradientBoostedRegressor()\n",
    "model.fit(X_train, y_train)\n",
    "print(model.predict(X_test))"
   ]
  },
  {
   "cell_type": "markdown",
   "metadata": {},
   "source": [
    "2. Implement the `__init__` method, for now adding `n_estimators` and `learning_rate` as the only other parameters. Set matching attributes, and an attribute (a list) with the estimators."
   ]
  },
  {
   "cell_type": "code",
   "execution_count": 5,
   "metadata": {},
   "outputs": [],
   "source": [
    "class GradientBoostedRegressor:\n",
    "    \"\"\"A gradient boosting class\n",
    "    \"\"\"\n",
    "    def __init__(self,\n",
    "                 n_estimators=100, \n",
    "                 learning_rate=0.1):\n",
    "        self.n_estimators = n_estimators\n",
    "        self.learning_rate = learning_rate\n",
    "        self.estimators = []\n",
    "\n",
    "    def fit(self, X, y):\n",
    "        pass\n",
    "\n",
    "    def predict(self, X):\n",
    "        pass"
   ]
  },
  {
   "cell_type": "code",
   "execution_count": 6,
   "metadata": {},
   "outputs": [
    {
     "name": "stdout",
     "output_type": "stream",
     "text": [
      "100 0.1 []\n"
     ]
    }
   ],
   "source": [
    "model = GradientBoostedRegressor()\n",
    "print(model.n_estimators, model.learning_rate, model.estimators)"
   ]
  },
  {
   "cell_type": "markdown",
   "metadata": {},
   "source": [
    "3. Begin implementing the `fit` method, creating just the first estimator and add it to the list. The first estimator should predict the mean of the y values used to fit it (you can use `DummyRegressor`)."
   ]
  },
  {
   "cell_type": "code",
   "execution_count": 7,
   "metadata": {},
   "outputs": [],
   "source": [
    "from sklearn.dummy import DummyRegressor\n",
    "\n",
    "class GradientBoostedRegressor:\n",
    "    \"\"\"A gradient boosting class\n",
    "    \"\"\"\n",
    "    def __init__(self,\n",
    "                 n_estimators=100, \n",
    "                 learning_rate=0.1):\n",
    "        self.n_estimators = n_estimators\n",
    "        self.learning_rate = learning_rate\n",
    "        self.estimators = []\n",
    "\n",
    "    def fit(self, X, y):\n",
    "        dummy = DummyRegressor()\n",
    "        dummy.fit(X, y)\n",
    "        self.estimators.append(dummy)\n",
    "\n",
    "    def predict(self, X):\n",
    "        pass"
   ]
  },
  {
   "cell_type": "code",
   "execution_count": 8,
   "metadata": {},
   "outputs": [
    {
     "data": {
      "text/plain": [
       "[DummyRegressor(constant=None, quantile=None, strategy='mean')]"
      ]
     },
     "execution_count": 8,
     "metadata": {},
     "output_type": "execute_result"
    }
   ],
   "source": [
    "model = GradientBoostedRegressor()\n",
    "model.fit(X_train, y_train)\n",
    "model.estimators"
   ]
  },
  {
   "cell_type": "markdown",
   "metadata": {},
   "source": [
    "4. Implement the `predict` method. It should return the total prediction of all the estimators (even though right now you only have one)."
   ]
  },
  {
   "cell_type": "code",
   "execution_count": 9,
   "metadata": {},
   "outputs": [],
   "source": [
    "import numpy as np\n",
    "from sklearn.dummy import DummyRegressor\n",
    "\n",
    "class GradientBoostedRegressor:\n",
    "    \"\"\"A gradient boosting class\n",
    "    \"\"\"\n",
    "    def __init__(self,\n",
    "                 n_estimators=100, \n",
    "                 learning_rate=0.1):\n",
    "        self.n_estimators = n_estimators\n",
    "        self.learning_rate = learning_rate\n",
    "        self.estimators = []\n",
    "\n",
    "    def fit(self, X, y):\n",
    "        dummy = DummyRegressor()\n",
    "        dummy.fit(X, y)\n",
    "        self.estimators.append(dummy)\n",
    "\n",
    "    def predict(self, X):\n",
    "        predictions = np.zeros((len(self.estimators),\n",
    "                                len(X)))\n",
    "        for i, estimator in enumerate(self.estimators):\n",
    "            predictions[i] = estimator.predict(X)\n",
    "\n",
    "        return predictions.sum(axis=0)"
   ]
  },
  {
   "cell_type": "code",
   "execution_count": 10,
   "metadata": {},
   "outputs": [
    {
     "data": {
      "text/plain": [
       "array([22.8182058, 22.8182058, 22.8182058, 22.8182058, 22.8182058,\n",
       "       22.8182058, 22.8182058, 22.8182058, 22.8182058, 22.8182058,\n",
       "       22.8182058, 22.8182058, 22.8182058, 22.8182058, 22.8182058,\n",
       "       22.8182058, 22.8182058, 22.8182058, 22.8182058, 22.8182058,\n",
       "       22.8182058, 22.8182058, 22.8182058, 22.8182058, 22.8182058,\n",
       "       22.8182058, 22.8182058, 22.8182058, 22.8182058, 22.8182058,\n",
       "       22.8182058, 22.8182058, 22.8182058, 22.8182058, 22.8182058,\n",
       "       22.8182058, 22.8182058, 22.8182058, 22.8182058, 22.8182058,\n",
       "       22.8182058, 22.8182058, 22.8182058, 22.8182058, 22.8182058,\n",
       "       22.8182058, 22.8182058, 22.8182058, 22.8182058, 22.8182058,\n",
       "       22.8182058, 22.8182058, 22.8182058, 22.8182058, 22.8182058,\n",
       "       22.8182058, 22.8182058, 22.8182058, 22.8182058, 22.8182058,\n",
       "       22.8182058, 22.8182058, 22.8182058, 22.8182058, 22.8182058,\n",
       "       22.8182058, 22.8182058, 22.8182058, 22.8182058, 22.8182058,\n",
       "       22.8182058, 22.8182058, 22.8182058, 22.8182058, 22.8182058,\n",
       "       22.8182058, 22.8182058, 22.8182058, 22.8182058, 22.8182058,\n",
       "       22.8182058, 22.8182058, 22.8182058, 22.8182058, 22.8182058,\n",
       "       22.8182058, 22.8182058, 22.8182058, 22.8182058, 22.8182058,\n",
       "       22.8182058, 22.8182058, 22.8182058, 22.8182058, 22.8182058,\n",
       "       22.8182058, 22.8182058, 22.8182058, 22.8182058, 22.8182058,\n",
       "       22.8182058, 22.8182058, 22.8182058, 22.8182058, 22.8182058,\n",
       "       22.8182058, 22.8182058, 22.8182058, 22.8182058, 22.8182058,\n",
       "       22.8182058, 22.8182058, 22.8182058, 22.8182058, 22.8182058,\n",
       "       22.8182058, 22.8182058, 22.8182058, 22.8182058, 22.8182058,\n",
       "       22.8182058, 22.8182058, 22.8182058, 22.8182058, 22.8182058,\n",
       "       22.8182058, 22.8182058])"
      ]
     },
     "execution_count": 10,
     "metadata": {},
     "output_type": "execute_result"
    }
   ],
   "source": [
    "model = GradientBoostedRegressor()\n",
    "model.fit(X_train, y_train)\n",
    "model.predict(X_test)"
   ]
  },
  {
   "cell_type": "markdown",
   "metadata": {},
   "source": [
    "5. Finish the `fit` method. After creating the first estimator, do `self.n_estimators` times:\n",
    "    a. Predict on the training data over the previous estimators,\n",
    "    b. Subtract those predictions from the training targets, and multiply by the learning rate,\n",
    "    c. Create a new estimator (using a `DecisionTreeRegressor` from `sklearn`) using the above as a target, and\n",
    "    d. Append the estimator to the list."
   ]
  },
  {
   "cell_type": "code",
   "execution_count": 11,
   "metadata": {},
   "outputs": [],
   "source": [
    "import numpy as np\n",
    "from sklearn.dummy import DummyRegressor\n",
    "from sklearn.tree import DecisionTreeRegressor\n",
    "\n",
    "class GradientBoostedRegressor:\n",
    "    \"\"\"A gradient boosting class\n",
    "    \"\"\"\n",
    "    def __init__(self,\n",
    "                 n_estimators=100, \n",
    "                 learning_rate=0.1):\n",
    "        self.n_estimators = n_estimators\n",
    "        self.learning_rate = learning_rate\n",
    "        self.estimators = []\n",
    "\n",
    "    def fit(self, X, y):\n",
    "        dummy = DummyRegressor()\n",
    "        dummy.fit(X, y)\n",
    "        self.estimators.append(dummy)\n",
    "        \n",
    "        # NB: it would be easier to call the predict method\n",
    "        # of this model and avoid duplicated code, but that\n",
    "        # adds a O(n**2) term in the number of estimators\n",
    "        # because earlier estimators are called multiple\n",
    "        # times during fitting\n",
    "        prediction = np.zeros(len(y))\n",
    "        for i in range(self.n_estimators):\n",
    "            prediction = prediction + self.estimators[i].predict(X)\n",
    "            \n",
    "            target = self.learning_rate * (y - prediction)\n",
    "            estimator = DecisionTreeRegressor()\n",
    "            estimator.fit(X, target)\n",
    "            self.estimators.append(estimator)\n",
    "\n",
    "    def predict(self, X):\n",
    "        predictions = np.zeros((len(self.estimators),\n",
    "                                len(X)))\n",
    "        for i, estimator in enumerate(self.estimators):\n",
    "            predictions[i] = estimator.predict(X)\n",
    "\n",
    "        return predictions.sum(axis=0)"
   ]
  },
  {
   "cell_type": "code",
   "execution_count": 12,
   "metadata": {},
   "outputs": [
    {
     "data": {
      "text/plain": [
       "array([24.28986559, 22.51815099,  9.10908478, 48.78624493, 18.69458655,\n",
       "       16.85091524, 21.51440237, 17.74244793, 10.34344723, 22.46063913,\n",
       "       49.99224709, 20.1720664 , 33.71313942, 13.19283704, 33.53895409,\n",
       "       26.70202952, 49.27412928, 32.25352689, 24.29051533, 16.42564807,\n",
       "       14.38717422, 23.10865948, 34.59419953, 23.73759309, 34.65299579,\n",
       "       15.65849526, 23.26044742, 37.74853943, 30.4299748 , 20.74734539,\n",
       "       24.95155277, 17.69363853, 23.06549901, 11.36083388, 19.10032236,\n",
       "        9.17873179, 17.49199618, 44.32367609, 22.67909762, 23.38263164,\n",
       "       19.83969503, 18.88746933, 32.95021496, 21.68146513, 24.41155387,\n",
       "       22.63843136, 16.53633574, 13.14068348,  5.34531059, 27.14929573,\n",
       "        8.53755843, 23.0520794 , 18.65950857, 26.99904022, 22.65072002,\n",
       "       23.9033523 ,  8.97473292, 11.89476208, 21.33149703, 44.84893541,\n",
       "       24.21946709, 24.88590666, 18.37651309, 20.62625462, 18.4704283 ,\n",
       "       48.74037189, 14.99939733, 32.21994753, 24.41009717, 20.84698234,\n",
       "       23.36829616, 18.34284651, 17.26115378,  8.89277568, 23.28641098,\n",
       "       22.79500043, 24.45394263, 22.48826688, 23.05560458, 24.36549525,\n",
       "       23.56101947, 24.4666367 , 24.62332366, 19.87280098, 30.41942238,\n",
       "       24.52109301, 17.44764484,  9.13831975, 12.86782008, 22.32253893,\n",
       "       23.04232951, 11.10356961, 19.62776056, 19.7008732 , 13.20772298,\n",
       "       14.75563271,  5.35001669, 17.06722161, 21.00757745, 21.08721378,\n",
       "       36.72608842, 19.7014406 , 12.61119219, 23.50404465, 10.80682777,\n",
       "       20.89265371, 21.18686368, 19.11764364, 14.97088427, 12.29125566,\n",
       "       18.20281437, 14.87211977, 49.99314277, 18.37664489, 36.30739703,\n",
       "       23.37204858, 23.19902234, 15.95334286, 17.10717319, 10.37225786,\n",
       "       24.31348791, 34.17900596, 10.45608258, 10.39875459, 14.97962032,\n",
       "       17.69266338, 24.13648404])"
      ]
     },
     "execution_count": 12,
     "metadata": {},
     "output_type": "execute_result"
    }
   ],
   "source": [
    "model = GradientBoostedRegressor()\n",
    "model.fit(X_train, y_train)\n",
    "model.predict(X_test)"
   ]
  },
  {
   "cell_type": "markdown",
   "metadata": {},
   "source": [
    "6. Calculate the mean-squared error on the training data for a one, five, twenty, and 100 estimators using a 0.01 learning rate. Check the error occasionally on later steps.\n",
    "\n",
    "Note that this is **not** how you would ordinarily find the best value for n_estimators when using gradient boosting. A model fit to 100 estimators could be written to predict with any smaller number of estimators (staged predict in sklearn) but we aren't implementing that."
   ]
  },
  {
   "cell_type": "code",
   "execution_count": 13,
   "metadata": {},
   "outputs": [
    {
     "name": "stdout",
     "output_type": "stream",
     "text": [
      "MSE for n_estimators =   1: 70.32380550214674\n",
      "MSE for n_estimators =   5: 34.061362062316576\n",
      "MSE for n_estimators =  20: 10.409427615003096\n",
      "MSE for n_estimators = 100: 10.221807631976576\n"
     ]
    }
   ],
   "source": [
    "for n_estimators in [1, 5, 20, 100]:\n",
    "    model = GradientBoostedRegressor(n_estimators=n_estimators,\n",
    "                                     learning_rate=0.1)\n",
    "    model.fit(X_train, y_train)\n",
    "    print(\"MSE for n_estimators = {:3}: {}\".format(n_estimators,\n",
    "        ((y_test-model.predict(X_test))**2).mean()))"
   ]
  },
  {
   "cell_type": "markdown",
   "metadata": {},
   "source": [
    "### Part 3: Add hyperparameters\n",
    "\n",
    "1. Add a `subsample` parameter to `__init__`, specifying the fraction of data points to include in each step. Use a reasonable default, using the principles that the default value should be a) the best choice to use most of the time and b) the simplest option, and c) consistent with other code. Discuss your choice of default with your neighbor."
   ]
  },
  {
   "cell_type": "markdown",
   "metadata": {},
   "source": [
    "> We're using 0.5 for a default for subsample because it's a reasonably intuitive values while having good performance. Note that sklearn uses 1.0, which is more intuitive but has much worse performance. But in our rough tests below, the error might be larger of subsample=0.5."
   ]
  },
  {
   "cell_type": "code",
   "execution_count": 14,
   "metadata": {},
   "outputs": [],
   "source": [
    "import numpy as np\n",
    "from sklearn.dummy import DummyRegressor\n",
    "from sklearn.tree import DecisionTreeRegressor\n",
    "\n",
    "class GradientBoostedRegressor:\n",
    "    \"\"\"A gradient boosting class\n",
    "    \"\"\"\n",
    "    def __init__(self,\n",
    "                 n_estimators=100, \n",
    "                 learning_rate=0.1,\n",
    "                 subsample=0.5):\n",
    "        self.n_estimators = n_estimators\n",
    "        self.learning_rate = learning_rate\n",
    "        self.subsample = subsample\n",
    "        self.estimators = []\n",
    "\n",
    "    def fit(self, X, y):\n",
    "        dummy = DummyRegressor()\n",
    "        dummy.fit(X, y)\n",
    "        self.estimators.append(dummy)\n",
    "        \n",
    "        # NB: it would be easier to call the predict method\n",
    "        # of this model and avoid duplicated code, but that\n",
    "        # adds a O(n**2) term in the number of estimators\n",
    "        # because earlier estimators are called multiple\n",
    "        # times during fitting\n",
    "        prediction = np.zeros(len(y))\n",
    "        for i in range(self.n_estimators):\n",
    "            prediction = prediction + self.estimators[i].predict(X)\n",
    "            \n",
    "            target = self.learning_rate * (y - prediction)\n",
    "            estimator = DecisionTreeRegressor()\n",
    "            \n",
    "            subsample_idx = np.random.choice(range(len(X)),\n",
    "                                             round(self.subsample * len(X)),\n",
    "                                             replace=False)\n",
    "            estimator.fit(X[subsample_idx],\n",
    "                          target[subsample_idx])\n",
    "            self.estimators.append(estimator)\n",
    "\n",
    "    def predict(self, X):\n",
    "        predictions = np.zeros((len(self.estimators),\n",
    "                                len(X)))\n",
    "        for i, estimator in enumerate(self.estimators):\n",
    "            predictions[i] = estimator.predict(X)\n",
    "\n",
    "        return predictions.sum(axis=0)"
   ]
  },
  {
   "cell_type": "code",
   "execution_count": 15,
   "metadata": {},
   "outputs": [
    {
     "name": "stdout",
     "output_type": "stream",
     "text": [
      "MSE for n_estimators =   1 and subsample = 0.1: 72.7329528459649\n",
      "MSE for n_estimators =   1 and subsample = 0.5: 71.42609286840273\n",
      "MSE for n_estimators =   1 and subsample = 1.0: 70.15750389617992\n",
      "MSE for n_estimators =   5 and subsample = 0.1: 44.715283525402626\n",
      "MSE for n_estimators =   5 and subsample = 0.5: 38.595538894111435\n",
      "MSE for n_estimators =   5 and subsample = 1.0: 34.0989171655253\n",
      "MSE for n_estimators =  20 and subsample = 0.1: 17.53071290408111\n",
      "MSE for n_estimators =  20 and subsample = 0.5: 10.592999236656112\n",
      "MSE for n_estimators =  20 and subsample = 1.0: 10.35874746235306\n",
      "MSE for n_estimators = 100 and subsample = 0.1: 11.621282906851429\n",
      "MSE for n_estimators = 100 and subsample = 0.5: 8.189490512321212\n",
      "MSE for n_estimators = 100 and subsample = 1.0: 10.904327316636078\n"
     ]
    }
   ],
   "source": [
    "for n_estimators in [1, 5, 20, 100]:\n",
    "    for subsample in [0.1, 0.5, 1.0]:\n",
    "        model = GradientBoostedRegressor(n_estimators=n_estimators,\n",
    "                                         learning_rate=0.1,\n",
    "                                         subsample=subsample)\n",
    "        model.fit(X_train, y_train)\n",
    "        print(\"MSE for n_estimators = {:3} and subsample = {:3.1f}: {}\".format(n_estimators,\n",
    "            subsample,\n",
    "            ((y_test-model.predict(X_test))**2).mean()))"
   ]
  },
  {
   "cell_type": "markdown",
   "metadata": {},
   "source": [
    "2. Most of the hyperparameters generally used with boosted trees are hyperparameters of the underlying estimators (e.g., `max_depth`). While we could include these individually and it would let us verify them better, it's quicker and easier to allow arbitrary named parameters.\n",
    "\n",
    "Add a `**kwargs` parameter to the `__init__` method. Save any such arguments as attributes and pass them as arguments to the `DecisionTreeRegressor` using the `**` syntax."
   ]
  },
  {
   "cell_type": "code",
   "execution_count": 16,
   "metadata": {},
   "outputs": [],
   "source": [
    "import numpy as np\n",
    "from sklearn.dummy import DummyRegressor\n",
    "from sklearn.tree import DecisionTreeRegressor\n",
    "\n",
    "class GradientBoostedRegressor:\n",
    "    \"\"\"A gradient boosting class\n",
    "    \"\"\"\n",
    "    def __init__(self,\n",
    "                 n_estimators=100, \n",
    "                 learning_rate=0.1,\n",
    "                 subsample=0.5,\n",
    "                 **kwargs):\n",
    "        self.n_estimators = n_estimators\n",
    "        self.learning_rate = learning_rate\n",
    "        self.subsample = subsample\n",
    "        self.kwargs = kwargs\n",
    "        self.estimators = []\n",
    "\n",
    "    def fit(self, X, y):\n",
    "        dummy = DummyRegressor()\n",
    "        dummy.fit(X, y)\n",
    "        self.estimators.append(dummy)\n",
    "        \n",
    "        # NB: it would be easier to call the predict method\n",
    "        # of this model and avoid duplicated code, but that\n",
    "        # adds a O(n**2) term in the number of estimators\n",
    "        # because earlier estimators are called multiple\n",
    "        # times during fitting\n",
    "        prediction = np.zeros(len(y))\n",
    "        for i in range(self.n_estimators):\n",
    "            prediction = prediction + self.estimators[i].predict(X)\n",
    "            \n",
    "            target = self.learning_rate * (y - prediction)\n",
    "            estimator = DecisionTreeRegressor(**self.kwargs)\n",
    "            \n",
    "            subsample_idx = np.random.choice(range(len(X)),\n",
    "                                             round(self.subsample * len(X)),\n",
    "                                             replace=False)\n",
    "            estimator.fit(X[subsample_idx],\n",
    "                          target[subsample_idx])\n",
    "            self.estimators.append(estimator)\n",
    "\n",
    "    def predict(self, X):\n",
    "        predictions = np.zeros((len(self.estimators),\n",
    "                                len(X)))\n",
    "        for i, estimator in enumerate(self.estimators):\n",
    "            predictions[i] = estimator.predict(X)\n",
    "\n",
    "        return predictions.sum(axis=0)"
   ]
  },
  {
   "cell_type": "code",
   "execution_count": 17,
   "metadata": {},
   "outputs": [
    {
     "name": "stdout",
     "output_type": "stream",
     "text": [
      "MSE for n_estimators =   1 and max_depth =  2: 74.19707801366286\n",
      "MSE for n_estimators =   1 and max_depth =  3: 74.67330970702932\n",
      "MSE for n_estimators =   1 and max_depth =  5: 72.36207362309692\n",
      "MSE for n_estimators =   1 and max_depth = 10: 70.67367345181908\n",
      "MSE for n_estimators =   5 and max_depth =  2: 46.36150364679963\n",
      "MSE for n_estimators =   5 and max_depth =  3: 40.03830851798527\n",
      "MSE for n_estimators =   5 and max_depth =  5: 37.81937472291935\n",
      "MSE for n_estimators =   5 and max_depth = 10: 37.769281301266595\n",
      "MSE for n_estimators =  20 and max_depth =  2: 15.600361937971565\n",
      "MSE for n_estimators =  20 and max_depth =  3: 11.587106914792244\n",
      "MSE for n_estimators =  20 and max_depth =  5: 9.075205127060329\n",
      "MSE for n_estimators =  20 and max_depth = 10: 8.62592034624359\n",
      "MSE for n_estimators = 100 and max_depth =  2: 9.594852318900678\n",
      "MSE for n_estimators = 100 and max_depth =  3: 7.874722273050714\n",
      "MSE for n_estimators = 100 and max_depth =  5: 8.216280107394633\n",
      "MSE for n_estimators = 100 and max_depth = 10: 6.080895777534703\n"
     ]
    }
   ],
   "source": [
    "for n_estimators in [1, 5, 20, 100]:\n",
    "    for max_depth in [2, 3, 5, 10]:\n",
    "        model = GradientBoostedRegressor(n_estimators=n_estimators,\n",
    "                                         learning_rate=0.1,\n",
    "                                         max_depth=max_depth)\n",
    "        model.fit(X_train, y_train)\n",
    "        print(\"MSE for n_estimators = {:3} and max_depth = {:2}: {}\".format(n_estimators,\n",
    "            max_depth,\n",
    "            ((y_test-model.predict(X_test))**2).mean()))"
   ]
  },
  {
   "cell_type": "markdown",
   "metadata": {},
   "source": [
    "## Advanced\n",
    "### Part 3: Mean-absolute-error loss\n",
    "\n",
    "The code above uses the mean-squared error as a loss function. The derivative of this loss function with respect to the prediction at a single point is simply the residual itself.\n",
    "\n",
    "$$\n",
    "\\mathcal{L} = \\frac{1}{N} \\sum_{i=0}^N r_i^2\n",
    "$$\n",
    "where $r_i$ is the residual $y_i - \\bar{y}_i$. So\n",
    "\n",
    "$$\n",
    "\\frac{\\partial \\mathcal{L} }{\\partial r_i} = \\frac{1}{N} 2r_i\n",
    "$$\n",
    "\n",
    "We're then fitting next model by some constant times the residuals (we can treat the $2 \\over N$ constant as part of the learning rate).\n",
    "\n",
    "Suppose we use the mean of absolute values of the residuals as a loss function instead.\n",
    "\n",
    "$$\n",
    "\\mathcal{L} = \\frac{1}{N} \\sum_{i=0}^N |r_i|\n",
    "$$\n",
    "\n",
    "1. What is the derivative of the loss function with respect to each of the residuals? How should we change the gradient step to account for the different loss function? Discuss this with other students or instructors to make sure you understand before proceeding."
   ]
  },
  {
   "cell_type": "markdown",
   "metadata": {},
   "source": [
    "> The derivative of the loss function with respect to one of the residuals is the signum function of the corresponding residual: 1 if the residual is positive, -1 if it's negative."
   ]
  },
  {
   "cell_type": "markdown",
   "metadata": {},
   "source": [
    "2. Add an optional paramenter to `__init__` specififying the loss function. If it has a value of `mae`, use the alternate loss function."
   ]
  },
  {
   "cell_type": "code",
   "execution_count": 18,
   "metadata": {},
   "outputs": [],
   "source": [
    "import numpy as np\n",
    "from sklearn.dummy import DummyRegressor\n",
    "from sklearn.tree import DecisionTreeRegressor\n",
    "\n",
    "class GradientBoostedRegressor:\n",
    "    \"\"\"A gradient boosting class\n",
    "    \"\"\"\n",
    "    def __init__(self,\n",
    "                 n_estimators=100, \n",
    "                 learning_rate=0.1,\n",
    "                 subsample=0.5,\n",
    "                 loss='mse',\n",
    "                 **kwargs):\n",
    "        self.n_estimators = n_estimators\n",
    "        self.learning_rate = learning_rate\n",
    "        self.subsample = subsample\n",
    "        self.loss = loss\n",
    "        if loss not in ('mse', 'mae'):\n",
    "            raise ValueError(\"Loss must be 'mse' or 'mae'\")\n",
    "        self.kwargs = kwargs\n",
    "        self.estimators = []\n",
    "\n",
    "    def fit(self, X, y):\n",
    "        dummy = DummyRegressor()\n",
    "        dummy.fit(X, y)\n",
    "        self.estimators.append(dummy)\n",
    "        \n",
    "        # NB: it would be easier to call the predict method\n",
    "        # of this model and avoid duplicated code, but that\n",
    "        # adds a O(n**2) term in the number of estimators\n",
    "        # because earlier estimators are called multiple\n",
    "        # times during fitting\n",
    "        prediction = np.zeros(len(y))\n",
    "        for i in range(self.n_estimators):\n",
    "            prediction = prediction + self.estimators[i].predict(X)\n",
    "            \n",
    "            if self.loss == 'mae':\n",
    "                target = self.learning_rate * np.sign(y - prediction)\n",
    "            else:\n",
    "                target = self.learning_rate * (y - prediction)\n",
    "            estimator = DecisionTreeRegressor(**self.kwargs)\n",
    "            \n",
    "            subsample_idx = np.random.choice(range(len(X)),\n",
    "                                             round(self.subsample * len(X)),\n",
    "                                             replace=False)\n",
    "            estimator.fit(X[subsample_idx],\n",
    "                          target[subsample_idx])\n",
    "            self.estimators.append(estimator)\n",
    "\n",
    "    def predict(self, X):\n",
    "        predictions = np.zeros((len(self.estimators),\n",
    "                                len(X)))\n",
    "        for i, estimator in enumerate(self.estimators):\n",
    "            predictions[i] = estimator.predict(X)\n",
    "\n",
    "        return predictions.sum(axis=0)"
   ]
  },
  {
   "cell_type": "markdown",
   "metadata": {},
   "source": [
    "> Ideally the model with the MAE loss should give a smaller MAE than the model with MSE loss. That's not showing up here, at least in part because the learning rates aren't comparable and the underlying decision trees aren't using MAE error. "
   ]
  },
  {
   "cell_type": "code",
   "execution_count": 19,
   "metadata": {},
   "outputs": [
    {
     "name": "stdout",
     "output_type": "stream",
     "text": [
      "n_estimators =    1 and loss = mse -> MSE: 72.317 MAE:  6.237\n",
      "n_estimators =    1 and loss = mae -> MSE: 84.367 MAE:  6.773\n",
      "n_estimators =    5 and loss = mse -> MSE: 38.323 MAE:  4.600\n",
      "n_estimators =    5 and loss = mae -> MSE: 80.087 MAE:  6.534\n",
      "n_estimators =   20 and loss = mse -> MSE:  9.242 MAE:  2.303\n",
      "n_estimators =   20 and loss = mae -> MSE: 67.014 MAE:  5.750\n",
      "n_estimators =  100 and loss = mse -> MSE:  9.346 MAE:  2.168\n",
      "n_estimators =  100 and loss = mae -> MSE: 25.377 MAE:  3.084\n"
     ]
    }
   ],
   "source": [
    "for n_estimators in [1, 5, 20, 100]:\n",
    "    for loss in ['mse', 'mae']:\n",
    "        model = GradientBoostedRegressor(n_estimators=n_estimators,\n",
    "                                         learning_rate=0.1,\n",
    "                                         max_depth=5,\n",
    "                                         loss=loss)\n",
    "        model.fit(X_train, y_train)\n",
    "        print(\"n_estimators = {:4} and loss = {:3} -> MSE: {:6.3f} MAE: {:6.3f}\".format(n_estimators,\n",
    "            loss,\n",
    "            ((y_test-model.predict(X_test))**2).mean(),\n",
    "            np.abs(y_test-model.predict(X_test)).mean()))"
   ]
  },
  {
   "cell_type": "markdown",
   "metadata": {},
   "source": [
    "3. Test out the result on some fake data with outliers:\n",
    "```python\n",
    "import numpy as np\n",
    "from scipy import stats\n",
    "from sklearn.model_selection import train_test_split\n",
    "npts = 500\n",
    "noutliners = 10\n",
    "xfake = stats.uniform(0, 10).rvs(npts)\n",
    "yfake = np.sin(xfake) + stats.norm(0, 0.5).rvs(npts)\n",
    "yfake[:noutliners] = 20\n",
    "```\n",
    "Make of a graph of the predictions with the original model and the MAE version. How do they compare? Hint: use a large number of points in the graph to capture any spikes around outliers."
   ]
  },
  {
   "cell_type": "code",
   "execution_count": 20,
   "metadata": {},
   "outputs": [],
   "source": [
    "import numpy as np\n",
    "from scipy import stats\n",
    "from sklearn.model_selection import train_test_split\n",
    "npts = 500\n",
    "noutliners = 10\n",
    "xfake = stats.uniform(0, 10).rvs(npts)\n",
    "yfake = np.sin(xfake) + stats.norm(0, 0.5).rvs(npts)\n",
    "yfake[:noutliners] = 20"
   ]
  },
  {
   "cell_type": "code",
   "execution_count": 21,
   "metadata": {
    "scrolled": false
   },
   "outputs": [],
   "source": [
    "model_mse = GradientBoostedRegressor(n_estimators=100, learning_rate=0.1, loss='mse', max_depth=2)\n",
    "model_mae = GradientBoostedRegressor(n_estimators=100, learning_rate=0.1, loss='mae', max_depth=2)\n",
    "\n",
    "model_mse.fit(xfake[:, None], yfake)\n",
    "model_mae.fit(xfake[:, None], yfake)"
   ]
  },
  {
   "cell_type": "code",
   "execution_count": 22,
   "metadata": {},
   "outputs": [
    {
     "data": {
      "text/plain": [
       "<matplotlib.legend.Legend at 0x107d80cd0>"
      ]
     },
     "execution_count": 22,
     "metadata": {},
     "output_type": "execute_result"
    },
    {
     "data": {
      "image/png": "[encoded data removed]",
      "text/plain": [
       "<Figure size 864x432 with 1 Axes>"
      ]
     },
     "metadata": {
      "needs_background": "light"
     },
     "output_type": "display_data"
    }
   ],
   "source": [
    "fig, ax = plt.subplots(figsize=(12, 6))\n",
    "xpts = np.linspace(0, 10, 1000)\n",
    "ax.scatter(xfake, yfake, s=5)\n",
    "ax.plot(xpts,\n",
    "        model_mse.predict(xpts[:, None]),\n",
    "        label='Predictions with MSE loss')\n",
    "ax.plot(xpts,\n",
    "        model_mae.predict(xpts[:, None]),\n",
    "        label='Predictions with MAE loss')\n",
    "ax.legend()"
   ]
  },
  {
   "cell_type": "code",
   "execution_count": 23,
   "metadata": {},
   "outputs": [],
   "source": [
    "import numpy as np\n",
    "from sklearn.dummy import DummyRegressor\n",
    "from sklearn.tree import DecisionTreeRegressor\n",
    "\n",
    "class GradientBoostedRegressor:\n",
    "    \"\"\"A gradient boosting class\n",
    "    \"\"\"\n",
    "    def __init__(self,\n",
    "                 n_estimators=100, \n",
    "                 learning_rate=0.1,\n",
    "                 subsample=0.5,\n",
    "                 model=DecisionTreeRegressor,\n",
    "                 loss='mse',\n",
    "                 **kwargs):\n",
    "        self.n_estimators = n_estimators\n",
    "        self.learning_rate = learning_rate\n",
    "        self.subsample = subsample\n",
    "        self.loss = loss\n",
    "        self.model = model\n",
    "        if loss not in ('mse', 'mae'):\n",
    "            raise ValueError(\"Loss must be 'mse' or 'mae'\")\n",
    "        self.kwargs = kwargs\n",
    "        self.estimators = []\n",
    "\n",
    "    def fit(self, X, y):\n",
    "        dummy = DummyRegressor()\n",
    "        dummy.fit(X, y)\n",
    "        self.estimators.append(dummy)\n",
    "        \n",
    "        # NB: it would be easier to call the predict method\n",
    "        # of this model and avoid duplicated code, but that\n",
    "        # adds a O(n**2) term in the number of estimators\n",
    "        # because earlier estimators are called multiple\n",
    "        # times during fitting\n",
    "        prediction = np.zeros(len(y))\n",
    "        for i in range(self.n_estimators):\n",
    "            prediction = prediction + self.estimators[i].predict(X)\n",
    "            \n",
    "            if self.loss == 'mae':\n",
    "                target = self.learning_rate * np.sign(y - prediction)\n",
    "            else:\n",
    "                target = self.learning_rate * (y - prediction)\n",
    "            estimator = self.model(**self.kwargs)\n",
    "            \n",
    "            subsample_idx = np.random.choice(range(len(X)),\n",
    "                                             round(self.subsample * len(X)),\n",
    "                                             replace=False)\n",
    "            estimator.fit(X[subsample_idx],\n",
    "                          target[subsample_idx])\n",
    "            self.estimators.append(estimator)\n",
    "\n",
    "    def predict(self, X):\n",
    "        predictions = np.zeros((len(self.estimators),\n",
    "                                len(X)))\n",
    "        for i, estimator in enumerate(self.estimators):\n",
    "            predictions[i] = estimator.predict(X)\n",
    "\n",
    "        return predictions.sum(axis=0)"
   ]
  },
  {
   "cell_type": "markdown",
   "metadata": {},
   "source": [
    "### Part 4: Other estimators\n",
    "\n",
    "1. Add a parameter to `__init__` representing the underlying estimator. It should expect a class (with a default value of `DecisionTreeRegressor`). Save that as an attribute, and use that to create the estimators rather than `DecisionTreeRegressor`."
   ]
  },
  {
   "cell_type": "markdown",
   "metadata": {},
   "source": [
    "2. Test the results the code using `LinearRegression`. Compare the predictions to those from those with `LinearRegression` alone. Are the results what you expect? Why?"
   ]
  },
  {
   "cell_type": "code",
   "execution_count": 24,
   "metadata": {},
   "outputs": [
    {
     "name": "stdout",
     "output_type": "stream",
     "text": [
      "MSE for n_estimators =   1: 74.41805655154876\n",
      "MSE for n_estimators =   5: 43.34486919641221\n",
      "MSE for n_estimators =  20: 22.73637874570571\n",
      "MSE for n_estimators = 100: 22.72586080487477\n",
      "MSE for Linear Regression = 100: 21.0634529896124\n"
     ]
    }
   ],
   "source": [
    "from sklearn.linear_model import LinearRegression\n",
    "for n_estimators in [1, 5, 20, 100]:\n",
    "    model = GradientBoostedRegressor(n_estimators=n_estimators,\n",
    "                                     learning_rate=0.1,\n",
    "                                     model=LinearRegression)\n",
    "    model.fit(X_train, y_train)\n",
    "    print(\"MSE for n_estimators = {:3}: {}\".format(n_estimators,\n",
    "        ((y_test-model.predict(X_test))**2).mean()))\n",
    "lr_model = LinearRegression()\n",
    "lr_model.fit(X_train, y_train)\n",
    "print(\"MSE for Linear Regression = {:3}: {}\".format(n_estimators,\n",
    "        ((y_test-lr_model.predict(X_test))**2).mean()))"
   ]
  },
  {
   "cell_type": "markdown",
   "metadata": {},
   "source": [
    "> The sum of predictions of linear-regression models is just another linear regression model, so we'd expect to converge toward the best linear-regression model. We're a bit off because of random noise in the subsampling.\n",
    "\n",
    "> We seem to do better for a smaller number of estimators; this is equivalent to regularization."
   ]
  },
  {
   "cell_type": "markdown",
   "metadata": {},
   "source": [
    "3. Test the results with `KNeighborsRegressor`.  Compare the predictions to those from those with `KNeighborsRegressor` alone. Are the results what you expect? Why?"
   ]
  },
  {
   "cell_type": "code",
   "execution_count": 25,
   "metadata": {},
   "outputs": [
    {
     "name": "stdout",
     "output_type": "stream",
     "text": [
      "MSE for n_estimators =   1: 83.95000152872278\n",
      "MSE for n_estimators =   5: 77.66484732298713\n",
      "MSE for n_estimators =  20: 61.647244664936295\n",
      "MSE for n_estimators = 100: 38.23327452252657\n",
      "MSE for n_estimators = 200: 37.72801433491426\n",
      "MSE for n_estimators = 500: 56.29395641379696\n",
      "MSE for n_estimators = 1000: 215.6750899313481\n",
      "MSE for KNN = 1000: 41.53896692913385\n"
     ]
    }
   ],
   "source": [
    "from sklearn.neighbors import KNeighborsRegressor\n",
    "for n_estimators in [1, 5, 20, 100, 200, 500, 1000]:\n",
    "    model = GradientBoostedRegressor(n_estimators=n_estimators,\n",
    "                                     learning_rate=0.02,\n",
    "                                     model=KNeighborsRegressor)\n",
    "    model.fit(X_train, y_train)\n",
    "    print(\"MSE for n_estimators = {:3}: {}\".format(n_estimators,\n",
    "        ((y_test-model.predict(X_test))**2).mean()))\n",
    "knn_model = KNeighborsRegressor()\n",
    "knn_model.fit(X_train, y_train)\n",
    "print(\"MSE for KNN = {:3}: {}\".format(n_estimators,\n",
    "        ((y_test-knn_model.predict(X_test))**2).mean()))"
   ]
  },
  {
   "cell_type": "markdown",
   "metadata": {},
   "source": [
    "> We did a bit better here, though it behaves very poorly with a large number of estimators. The overfitting causes large oscillations in the predictions. Here's what it looks like in one dimension:"
   ]
  },
  {
   "cell_type": "code",
   "execution_count": 26,
   "metadata": {},
   "outputs": [],
   "source": [
    "feature = 6 # we'll just use one feature to visualize it\n",
    "models_knn = {}\n",
    "for n in (10, 30, 100, 300, 1000):\n",
    "    models_knn[n] = GradientBoostedRegressor(n_estimators=n,\n",
    "                                             learning_rate=0.01,\n",
    "                                             model=KNeighborsRegressor)\n",
    "    models_knn[n].fit(X_train[:, [feature]], y_train)"
   ]
  },
  {
   "cell_type": "code",
   "execution_count": 27,
   "metadata": {},
   "outputs": [
    {
     "data": {
      "text/plain": [
       "<matplotlib.legend.Legend at 0x1a1cc5af10>"
      ]
     },
     "execution_count": 27,
     "metadata": {},
     "output_type": "execute_result"
    },
    {
     "data": {
      "image/png": "[encoded data removed]",
      "text/plain": [
       "<Figure size 864x432 with 1 Axes>"
      ]
     },
     "metadata": {
      "needs_background": "light"
     },
     "output_type": "display_data"
    }
   ],
   "source": [
    "fig, ax = plt.subplots(figsize=(12, 6))\n",
    "xpts = np.linspace(X_train[:, feature].min(), X_train[:, feature].max(), 1000)\n",
    "ax.scatter(X_train[:, feature], y_train, s=5, color='k')\n",
    "for n in models_knn:\n",
    "    ax.plot(xpts,\n",
    "            models_knn[n].predict(xpts[:, None]),\n",
    "            label=f'Boosted KNN with {n} estimators')\n",
    "ax.legend()"
   ]
  },
  {
   "cell_type": "markdown",
   "metadata": {},
   "source": [
    "## Extra credit\n",
    "\n",
    "### Part 5: Sklearn estimators\n",
    "\n",
    "Look at he [documentation](https://scikit-learn.org/stable/developers/develop.html) for developing estimators for `sklearn`. Update your code to follow the guidelines."
   ]
  },
  {
   "cell_type": "code",
   "execution_count": null,
   "metadata": {},
   "outputs": [],
   "source": []
  }
 ],
 "metadata": {
  "kernelspec": {
   "display_name": "Python 3",
   "language": "python",
   "name": "python3"
  },
  "language_info": {
   "codemirror_mode": {
    "name": "ipython",
    "version": 3
   },
   "file_extension": ".py",
   "mimetype": "text/x-python",
   "name": "python",
   "nbconvert_exporter": "python",
   "pygments_lexer": "ipython3",
   "version": "3.7.6"
  },
  "toc": {
   "base_numbering": 1,
   "nav_menu": {},
   "number_sections": true,
   "sideBar": true,
   "skip_h1_title": true,
   "title_cell": "Contents",
   "title_sidebar": "Contents",
   "toc_cell": true,
   "toc_position": {},
   "toc_section_display": true,
   "toc_window_display": false
  }
 },
 "nbformat": 4,
 "nbformat_minor": 4
}
