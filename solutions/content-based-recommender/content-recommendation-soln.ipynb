{
 "cells": [
  {
   "cell_type": "code",
   "execution_count": 1,
   "metadata": {},
   "outputs": [],
   "source": [
    "import pandas as pd\n",
    "from rake_nltk import Rake\n",
    "import numpy as np\n",
    "from sklearn.metrics.pairwise import cosine_similarity\n",
    "from sklearn.feature_extraction.text import CountVectorizer, TfidfVectorizer\n",
    "\n",
    "from src.item_recommender import ItemRecommender\n",
    "\n",
    "import re"
   ]
  },
  {
   "cell_type": "markdown",
   "metadata": {},
   "source": [
    "## Basic\n",
    "\n",
    "### Part 1: Build a recommender\n",
    "\n",
    "Load the pickle file and set the index to the title, create a bag of words representataion and get predictions"
   ]
  },
  {
   "cell_type": "code",
   "execution_count": 2,
   "metadata": {},
   "outputs": [
    {
     "data": {
      "text/html": [
       "<div>\n",
       "<style scoped>\n",
       "    .dataframe tbody tr th:only-of-type {\n",
       "        vertical-align: middle;\n",
       "    }\n",
       "\n",
       "    .dataframe tbody tr th {\n",
       "        vertical-align: top;\n",
       "    }\n",
       "\n",
       "    .dataframe thead th {\n",
       "        text-align: right;\n",
       "    }\n",
       "</style>\n",
       "<table border=\"1\" class=\"dataframe\">\n",
       "  <thead>\n",
       "    <tr style=\"text-align: right;\">\n",
       "      <th></th>\n",
       "      <th>Title</th>\n",
       "      <th>Genre</th>\n",
       "      <th>Director</th>\n",
       "      <th>Actors</th>\n",
       "      <th>Key_words</th>\n",
       "    </tr>\n",
       "  </thead>\n",
       "  <tbody>\n",
       "    <tr>\n",
       "      <th>0</th>\n",
       "      <td>The Shawshank Redemption</td>\n",
       "      <td>[crime,  drama]</td>\n",
       "      <td>frankdarabont</td>\n",
       "      <td>[timrobbins, morganfreeman, bobgunton]</td>\n",
       "      <td>[common, decency, finding, solace, number, two...</td>\n",
       "    </tr>\n",
       "    <tr>\n",
       "      <th>1</th>\n",
       "      <td>The Godfather</td>\n",
       "      <td>[crime,  drama]</td>\n",
       "      <td>francisfordcoppola</td>\n",
       "      <td>[marlonbrando, alpacino, jamescaan]</td>\n",
       "      <td>[reluctant, son, aging, patriarch, clandestine...</td>\n",
       "    </tr>\n",
       "    <tr>\n",
       "      <th>2</th>\n",
       "      <td>The Godfather: Part II</td>\n",
       "      <td>[crime,  drama]</td>\n",
       "      <td>francisfordcoppola</td>\n",
       "      <td>[alpacino, robertduvall, dianekeaton]</td>\n",
       "      <td>[grip, portrayed, career, tightens, son, vito,...</td>\n",
       "    </tr>\n",
       "    <tr>\n",
       "      <th>3</th>\n",
       "      <td>The Dark Knight</td>\n",
       "      <td>[action,  crime,  drama]</td>\n",
       "      <td>christophernolan</td>\n",
       "      <td>[christianbale, heathledger, aaroneckhart]</td>\n",
       "      <td>[ability, dark, knight, must, accept, one, fig...</td>\n",
       "    </tr>\n",
       "    <tr>\n",
       "      <th>4</th>\n",
       "      <td>12 Angry Men</td>\n",
       "      <td>[crime,  drama]</td>\n",
       "      <td>sidneylumet</td>\n",
       "      <td>[martinbalsam, johnfiedler, leej.cobb]</td>\n",
       "      <td>[evidence, colleagues, forcing, reconsider, ju...</td>\n",
       "    </tr>\n",
       "  </tbody>\n",
       "</table>\n",
       "</div>"
      ],
      "text/plain": [
       "                      Title                     Genre            Director  \\\n",
       "0  The Shawshank Redemption           [crime,  drama]       frankdarabont   \n",
       "1             The Godfather           [crime,  drama]  francisfordcoppola   \n",
       "2    The Godfather: Part II           [crime,  drama]  francisfordcoppola   \n",
       "3           The Dark Knight  [action,  crime,  drama]    christophernolan   \n",
       "4              12 Angry Men           [crime,  drama]         sidneylumet   \n",
       "\n",
       "                                       Actors  \\\n",
       "0      [timrobbins, morganfreeman, bobgunton]   \n",
       "1         [marlonbrando, alpacino, jamescaan]   \n",
       "2       [alpacino, robertduvall, dianekeaton]   \n",
       "3  [christianbale, heathledger, aaroneckhart]   \n",
       "4      [martinbalsam, johnfiedler, leej.cobb]   \n",
       "\n",
       "                                           Key_words  \n",
       "0  [common, decency, finding, solace, number, two...  \n",
       "1  [reluctant, son, aging, patriarch, clandestine...  \n",
       "2  [grip, portrayed, career, tightens, son, vito,...  \n",
       "3  [ability, dark, knight, must, accept, one, fig...  \n",
       "4  [evidence, colleagues, forcing, reconsider, ju...  "
      ]
     },
     "execution_count": 2,
     "metadata": {},
     "output_type": "execute_result"
    }
   ],
   "source": [
    "df = pd.read_pickle('data/movie_data.pickle')\n",
    "df.head()"
   ]
  },
  {
   "cell_type": "code",
   "execution_count": 3,
   "metadata": {},
   "outputs": [
    {
     "data": {
      "text/html": [
       "<div>\n",
       "<style scoped>\n",
       "    .dataframe tbody tr th:only-of-type {\n",
       "        vertical-align: middle;\n",
       "    }\n",
       "\n",
       "    .dataframe tbody tr th {\n",
       "        vertical-align: top;\n",
       "    }\n",
       "\n",
       "    .dataframe thead th {\n",
       "        text-align: right;\n",
       "    }\n",
       "</style>\n",
       "<table border=\"1\" class=\"dataframe\">\n",
       "  <thead>\n",
       "    <tr style=\"text-align: right;\">\n",
       "      <th></th>\n",
       "      <th>Genre</th>\n",
       "      <th>Director</th>\n",
       "      <th>Actors</th>\n",
       "      <th>Key_words</th>\n",
       "    </tr>\n",
       "    <tr>\n",
       "      <th>Title</th>\n",
       "      <th></th>\n",
       "      <th></th>\n",
       "      <th></th>\n",
       "      <th></th>\n",
       "    </tr>\n",
       "  </thead>\n",
       "  <tbody>\n",
       "    <tr>\n",
       "      <th>The Shawshank Redemption</th>\n",
       "      <td>[crime,  drama]</td>\n",
       "      <td>frankdarabont</td>\n",
       "      <td>[timrobbins, morganfreeman, bobgunton]</td>\n",
       "      <td>[common, decency, finding, solace, number, two...</td>\n",
       "    </tr>\n",
       "    <tr>\n",
       "      <th>The Godfather</th>\n",
       "      <td>[crime,  drama]</td>\n",
       "      <td>francisfordcoppola</td>\n",
       "      <td>[marlonbrando, alpacino, jamescaan]</td>\n",
       "      <td>[reluctant, son, aging, patriarch, clandestine...</td>\n",
       "    </tr>\n",
       "    <tr>\n",
       "      <th>The Godfather: Part II</th>\n",
       "      <td>[crime,  drama]</td>\n",
       "      <td>francisfordcoppola</td>\n",
       "      <td>[alpacino, robertduvall, dianekeaton]</td>\n",
       "      <td>[grip, portrayed, career, tightens, son, vito,...</td>\n",
       "    </tr>\n",
       "    <tr>\n",
       "      <th>The Dark Knight</th>\n",
       "      <td>[action,  crime,  drama]</td>\n",
       "      <td>christophernolan</td>\n",
       "      <td>[christianbale, heathledger, aaroneckhart]</td>\n",
       "      <td>[ability, dark, knight, must, accept, one, fig...</td>\n",
       "    </tr>\n",
       "    <tr>\n",
       "      <th>12 Angry Men</th>\n",
       "      <td>[crime,  drama]</td>\n",
       "      <td>sidneylumet</td>\n",
       "      <td>[martinbalsam, johnfiedler, leej.cobb]</td>\n",
       "      <td>[evidence, colleagues, forcing, reconsider, ju...</td>\n",
       "    </tr>\n",
       "  </tbody>\n",
       "</table>\n",
       "</div>"
      ],
      "text/plain": [
       "                                             Genre            Director  \\\n",
       "Title                                                                    \n",
       "The Shawshank Redemption           [crime,  drama]       frankdarabont   \n",
       "The Godfather                      [crime,  drama]  francisfordcoppola   \n",
       "The Godfather: Part II             [crime,  drama]  francisfordcoppola   \n",
       "The Dark Knight           [action,  crime,  drama]    christophernolan   \n",
       "12 Angry Men                       [crime,  drama]         sidneylumet   \n",
       "\n",
       "                                                              Actors  \\\n",
       "Title                                                                  \n",
       "The Shawshank Redemption      [timrobbins, morganfreeman, bobgunton]   \n",
       "The Godfather                    [marlonbrando, alpacino, jamescaan]   \n",
       "The Godfather: Part II         [alpacino, robertduvall, dianekeaton]   \n",
       "The Dark Knight           [christianbale, heathledger, aaroneckhart]   \n",
       "12 Angry Men                  [martinbalsam, johnfiedler, leej.cobb]   \n",
       "\n",
       "                                                                  Key_words  \n",
       "Title                                                                        \n",
       "The Shawshank Redemption  [common, decency, finding, solace, number, two...  \n",
       "The Godfather             [reluctant, son, aging, patriarch, clandestine...  \n",
       "The Godfather: Part II    [grip, portrayed, career, tightens, son, vito,...  \n",
       "The Dark Knight           [ability, dark, knight, must, accept, one, fig...  \n",
       "12 Angry Men              [evidence, colleagues, forcing, reconsider, ju...  "
      ]
     },
     "execution_count": 3,
     "metadata": {},
     "output_type": "execute_result"
    }
   ],
   "source": [
    "df.set_index('Title', inplace = True)\n",
    "df.head()"
   ]
  },
  {
   "cell_type": "code",
   "execution_count": 4,
   "metadata": {},
   "outputs": [],
   "source": [
    "df['bag_of_words'] = ''\n",
    "columns = df.columns\n",
    "for index, row in df.iterrows():\n",
    "    words = ''\n",
    "    for col in columns:\n",
    "        if col != 'Director':\n",
    "            words += ' '.join(row[col])+ ' '\n",
    "        else:\n",
    "            words += row[col]+ ' '\n",
    "    row['bag_of_words'] = words\n",
    "    \n",
    "df.drop(columns = [col for col in df.columns if col!= 'bag_of_words'], inplace = True)"
   ]
  },
  {
   "cell_type": "code",
   "execution_count": 5,
   "metadata": {},
   "outputs": [
    {
     "data": {
      "text/html": [
       "<div>\n",
       "<style scoped>\n",
       "    .dataframe tbody tr th:only-of-type {\n",
       "        vertical-align: middle;\n",
       "    }\n",
       "\n",
       "    .dataframe tbody tr th {\n",
       "        vertical-align: top;\n",
       "    }\n",
       "\n",
       "    .dataframe thead th {\n",
       "        text-align: right;\n",
       "    }\n",
       "</style>\n",
       "<table border=\"1\" class=\"dataframe\">\n",
       "  <thead>\n",
       "    <tr style=\"text-align: right;\">\n",
       "      <th></th>\n",
       "      <th>bag_of_words</th>\n",
       "    </tr>\n",
       "    <tr>\n",
       "      <th>Title</th>\n",
       "      <th></th>\n",
       "    </tr>\n",
       "  </thead>\n",
       "  <tbody>\n",
       "    <tr>\n",
       "      <th>The Shawshank Redemption</th>\n",
       "      <td>crime  drama frankdarabont timrobbins morganfr...</td>\n",
       "    </tr>\n",
       "    <tr>\n",
       "      <th>The Godfather</th>\n",
       "      <td>crime  drama francisfordcoppola marlonbrando a...</td>\n",
       "    </tr>\n",
       "    <tr>\n",
       "      <th>The Godfather: Part II</th>\n",
       "      <td>crime  drama francisfordcoppola alpacino rober...</td>\n",
       "    </tr>\n",
       "    <tr>\n",
       "      <th>The Dark Knight</th>\n",
       "      <td>action  crime  drama christophernolan christia...</td>\n",
       "    </tr>\n",
       "    <tr>\n",
       "      <th>12 Angry Men</th>\n",
       "      <td>crime  drama sidneylumet martinbalsam johnfied...</td>\n",
       "    </tr>\n",
       "  </tbody>\n",
       "</table>\n",
       "</div>"
      ],
      "text/plain": [
       "                                                               bag_of_words\n",
       "Title                                                                      \n",
       "The Shawshank Redemption  crime  drama frankdarabont timrobbins morganfr...\n",
       "The Godfather             crime  drama francisfordcoppola marlonbrando a...\n",
       "The Godfather: Part II    crime  drama francisfordcoppola alpacino rober...\n",
       "The Dark Knight           action  crime  drama christophernolan christia...\n",
       "12 Angry Men              crime  drama sidneylumet martinbalsam johnfied..."
      ]
     },
     "execution_count": 5,
     "metadata": {},
     "output_type": "execute_result"
    }
   ],
   "source": [
    "df.head()"
   ]
  },
  {
   "cell_type": "code",
   "execution_count": 6,
   "metadata": {},
   "outputs": [],
   "source": [
    "# instantiating and generating the count matrix\n",
    "count = CountVectorizer()\n",
    "count_matrix = count.fit_transform(df['bag_of_words'])\n",
    "\n",
    "# creating a Series for the movie titles so they are associated to an ordered numerical\n",
    "# list I will use later to match the indexes\n",
    "indices = pd.Series(df.index)\n"
   ]
  },
  {
   "cell_type": "markdown",
   "metadata": {},
   "source": [
    "#### Create a instance of my recommender class and get predictions"
   ]
  },
  {
   "cell_type": "code",
   "execution_count": 7,
   "metadata": {},
   "outputs": [],
   "source": [
    "rec = ItemRecommender()\n",
    "count_df = pd.DataFrame(count_matrix.todense(), index=indices.values)"
   ]
  },
  {
   "cell_type": "code",
   "execution_count": 8,
   "metadata": {},
   "outputs": [],
   "source": [
    "rec.fit(count_df)"
   ]
  },
  {
   "cell_type": "code",
   "execution_count": 9,
   "metadata": {},
   "outputs": [
    {
     "name": "stdout",
     "output_type": "stream",
     "text": [
      "['No Country for Old Men' 'The Departed' 'Rope' 'The Godfather'\n",
      " 'Reservoir Dogs']\n"
     ]
    }
   ],
   "source": [
    "print(rec.get_recommendations('Fargo'))"
   ]
  },
  {
   "cell_type": "markdown",
   "metadata": {},
   "source": [
    "### Q 4)\n",
    "Fill in code for the `create_user_profile` method."
   ]
  },
  {
   "cell_type": "code",
   "execution_count": 10,
   "metadata": {},
   "outputs": [],
   "source": [
    "profile = rec.get_user_profile(['The Godfather','The Godfather: Part II'])"
   ]
  },
  {
   "cell_type": "code",
   "execution_count": 11,
   "metadata": {},
   "outputs": [
    {
     "data": {
      "text/plain": [
       "array([0., 0., 0., ..., 0., 0., 0.])"
      ]
     },
     "execution_count": 11,
     "metadata": {},
     "output_type": "execute_result"
    }
   ],
   "source": [
    "profile"
   ]
  },
  {
   "cell_type": "markdown",
   "metadata": {},
   "source": [
    "There is not much to see as this is a large matrix however I know one index 584 has values in it so we can look there."
   ]
  },
  {
   "cell_type": "code",
   "execution_count": 12,
   "metadata": {},
   "outputs": [
    {
     "data": {
      "text/plain": [
       "4.0"
      ]
     },
     "execution_count": 12,
     "metadata": {},
     "output_type": "execute_result"
    }
   ],
   "source": [
    "profile[584]"
   ]
  },
  {
   "cell_type": "code",
   "execution_count": 13,
   "metadata": {},
   "outputs": [
    {
     "data": {
      "text/plain": [
       "'crime'"
      ]
     },
     "execution_count": 13,
     "metadata": {},
     "output_type": "execute_result"
    }
   ],
   "source": [
    "count.get_feature_names()[584]"
   ]
  },
  {
   "cell_type": "markdown",
   "metadata": {},
   "source": [
    "It looks like the word crime shows up a lot in the 2 movies involved with this profile.   \n",
    "    \n",
    "    \n",
    "### Q 5)\n",
    "\n",
    "Fill in the `get_user_recommendation` and test it."
   ]
  },
  {
   "cell_type": "code",
   "execution_count": 14,
   "metadata": {},
   "outputs": [
    {
     "name": "stdout",
     "output_type": "stream",
     "text": [
      "['Goodfellas' 'Rope' 'Cool Hand Luke' 'Scarface' 'Fargo']\n"
     ]
    }
   ],
   "source": [
    "print(rec.get_user_recommendation(['The Godfather','The Godfather: Part II']))"
   ]
  },
  {
   "cell_type": "code",
   "execution_count": null,
   "metadata": {},
   "outputs": [],
   "source": []
  },
  {
   "cell_type": "code",
   "execution_count": null,
   "metadata": {},
   "outputs": [],
   "source": []
  },
  {
   "cell_type": "markdown",
   "metadata": {},
   "source": [
    "## Advanced\n",
    "\n",
    "### Part 2: Recommend articles "
   ]
  },
  {
   "cell_type": "code",
   "execution_count": 17,
   "metadata": {},
   "outputs": [],
   "source": [
    "news = pd.read_csv('data/articles.csv')"
   ]
  },
  {
   "cell_type": "code",
   "execution_count": 18,
   "metadata": {},
   "outputs": [
    {
     "data": {
      "text/html": [
       "<div>\n",
       "<style scoped>\n",
       "    .dataframe tbody tr th:only-of-type {\n",
       "        vertical-align: middle;\n",
       "    }\n",
       "\n",
       "    .dataframe tbody tr th {\n",
       "        vertical-align: top;\n",
       "    }\n",
       "\n",
       "    .dataframe thead th {\n",
       "        text-align: right;\n",
       "    }\n",
       "</style>\n",
       "<table border=\"1\" class=\"dataframe\">\n",
       "  <thead>\n",
       "    <tr style=\"text-align: right;\">\n",
       "      <th></th>\n",
       "      <th>Unnamed: 0</th>\n",
       "      <th>document_type</th>\n",
       "      <th>web_url</th>\n",
       "      <th>lead_paragraph</th>\n",
       "      <th>abstract</th>\n",
       "      <th>snippet</th>\n",
       "      <th>news_desk</th>\n",
       "      <th>word_count</th>\n",
       "      <th>source</th>\n",
       "      <th>section_name</th>\n",
       "      <th>subsection_name</th>\n",
       "      <th>_id</th>\n",
       "      <th>pub_date</th>\n",
       "      <th>print_page</th>\n",
       "      <th>headline</th>\n",
       "      <th>content</th>\n",
       "      <th>content_and_title</th>\n",
       "    </tr>\n",
       "  </thead>\n",
       "  <tbody>\n",
       "    <tr>\n",
       "      <th>0</th>\n",
       "      <td>6</td>\n",
       "      <td>article</td>\n",
       "      <td>http://www.nytimes.com/2013/10/03/sports/socce...</td>\n",
       "      <td>Defending champion Bayern Munich produced a po...</td>\n",
       "      <td>Bayern Munich beats Manchester City, 3-1, in U...</td>\n",
       "      <td>Defending champion Bayern Munich produced a po...</td>\n",
       "      <td>Sports</td>\n",
       "      <td>190</td>\n",
       "      <td>The New York Times</td>\n",
       "      <td>Sports</td>\n",
       "      <td>Soccer</td>\n",
       "      <td>524ce87638f0d8198973ff59</td>\n",
       "      <td>2013-10-03T00:00:00Z</td>\n",
       "      <td>14</td>\n",
       "      <td>Bayern Munich Dominates Manchester City</td>\n",
       "      <td>defending champion bayern munich produced powe...</td>\n",
       "      <td>defending champion bayern munich produced powe...</td>\n",
       "    </tr>\n",
       "    <tr>\n",
       "      <th>1</th>\n",
       "      <td>8</td>\n",
       "      <td>article</td>\n",
       "      <td>http://www.nytimes.com/2013/10/03/sports/hocke...</td>\n",
       "      <td>The Devils announced that Cory Schneider would...</td>\n",
       "      <td>New Jersey Devils announce that Cory Schneider...</td>\n",
       "      <td>The Devils announced that Cory Schneider would...</td>\n",
       "      <td>Sports</td>\n",
       "      <td>110</td>\n",
       "      <td>The New York Times</td>\n",
       "      <td>Sports</td>\n",
       "      <td>Hockey</td>\n",
       "      <td>524ceb0338f0d8198973ff5c</td>\n",
       "      <td>2013-10-03T00:00:00Z</td>\n",
       "      <td>14</td>\n",
       "      <td>Brodeur’s Starting Streak to End</td>\n",
       "      <td>the devil announced cory schneider would start...</td>\n",
       "      <td>the devil announced cory schneider would start...</td>\n",
       "    </tr>\n",
       "    <tr>\n",
       "      <th>2</th>\n",
       "      <td>12</td>\n",
       "      <td>article</td>\n",
       "      <td>http://www.nytimes.com/2013/10/03/business/ene...</td>\n",
       "      <td>Clean Energy Fuels is selling Redeem, a vehicl...</td>\n",
       "      <td>Clean Energy Fuels is selling Redeem, vehicle ...</td>\n",
       "      <td>Clean Energy Fuels is selling Redeem, a vehicl...</td>\n",
       "      <td>Business</td>\n",
       "      <td>743</td>\n",
       "      <td>The New York Times</td>\n",
       "      <td>Business Day</td>\n",
       "      <td>Energy &amp; Environment</td>\n",
       "      <td>524ccb1738f0d8198973ff11</td>\n",
       "      <td>2013-10-03T00:00:00Z</td>\n",
       "      <td>9</td>\n",
       "      <td>Fuel From Landfill Methane Goes on Sale</td>\n",
       "      <td>farmer waste management company energy industr...</td>\n",
       "      <td>farmer waste management company energy industr...</td>\n",
       "    </tr>\n",
       "    <tr>\n",
       "      <th>3</th>\n",
       "      <td>13</td>\n",
       "      <td>article</td>\n",
       "      <td>http://www.nytimes.com/2013/10/03/world/africa...</td>\n",
       "      <td>With her fashion shows, Akuja de Garang is try...</td>\n",
       "      <td>Juba Journal; fashion show organizer Akuja de ...</td>\n",
       "      <td>With her fashion shows, Akuja de Garang is try...</td>\n",
       "      <td>Foreign</td>\n",
       "      <td>1234</td>\n",
       "      <td>The New York Times</td>\n",
       "      <td>World</td>\n",
       "      <td>Africa</td>\n",
       "      <td>524cc70538f0d8198973ff0a</td>\n",
       "      <td>2013-10-03T00:00:00Z</td>\n",
       "      <td>8</td>\n",
       "      <td>On Fashion Runway, South Sudan Takes Steps Tow...</td>\n",
       "      <td>juba south sudan even standard fashion model w...</td>\n",
       "      <td>juba south sudan even standard fashion model w...</td>\n",
       "    </tr>\n",
       "    <tr>\n",
       "      <th>4</th>\n",
       "      <td>20</td>\n",
       "      <td>article</td>\n",
       "      <td>http://www.nytimes.com/2013/10/03/world/middle...</td>\n",
       "      <td>President Hassan Rouhani of Iran dismissed the...</td>\n",
       "      <td>Iran's Pres Hassan Rouhani dismisses verbal as...</td>\n",
       "      <td>President Hassan Rouhani of Iran dismissed the...</td>\n",
       "      <td>Foreign</td>\n",
       "      <td>164</td>\n",
       "      <td>The New York Times</td>\n",
       "      <td>World</td>\n",
       "      <td>Middle East</td>\n",
       "      <td>524cc1f038f0d8198973fef2</td>\n",
       "      <td>2013-10-03T00:00:00Z</td>\n",
       "      <td>9</td>\n",
       "      <td>Iran’s President Responds to Netanyahu</td>\n",
       "      <td>president hassan rouhani iran wednesday dismis...</td>\n",
       "      <td>president hassan rouhani iran wednesday dismis...</td>\n",
       "    </tr>\n",
       "  </tbody>\n",
       "</table>\n",
       "</div>"
      ],
      "text/plain": [
       "   Unnamed: 0 document_type  \\\n",
       "0           6       article   \n",
       "1           8       article   \n",
       "2          12       article   \n",
       "3          13       article   \n",
       "4          20       article   \n",
       "\n",
       "                                             web_url  \\\n",
       "0  http://www.nytimes.com/2013/10/03/sports/socce...   \n",
       "1  http://www.nytimes.com/2013/10/03/sports/hocke...   \n",
       "2  http://www.nytimes.com/2013/10/03/business/ene...   \n",
       "3  http://www.nytimes.com/2013/10/03/world/africa...   \n",
       "4  http://www.nytimes.com/2013/10/03/world/middle...   \n",
       "\n",
       "                                      lead_paragraph  \\\n",
       "0  Defending champion Bayern Munich produced a po...   \n",
       "1  The Devils announced that Cory Schneider would...   \n",
       "2  Clean Energy Fuels is selling Redeem, a vehicl...   \n",
       "3  With her fashion shows, Akuja de Garang is try...   \n",
       "4  President Hassan Rouhani of Iran dismissed the...   \n",
       "\n",
       "                                            abstract  \\\n",
       "0  Bayern Munich beats Manchester City, 3-1, in U...   \n",
       "1  New Jersey Devils announce that Cory Schneider...   \n",
       "2  Clean Energy Fuels is selling Redeem, vehicle ...   \n",
       "3  Juba Journal; fashion show organizer Akuja de ...   \n",
       "4  Iran's Pres Hassan Rouhani dismisses verbal as...   \n",
       "\n",
       "                                             snippet news_desk  word_count  \\\n",
       "0  Defending champion Bayern Munich produced a po...    Sports         190   \n",
       "1  The Devils announced that Cory Schneider would...    Sports         110   \n",
       "2  Clean Energy Fuels is selling Redeem, a vehicl...  Business         743   \n",
       "3  With her fashion shows, Akuja de Garang is try...   Foreign        1234   \n",
       "4  President Hassan Rouhani of Iran dismissed the...   Foreign         164   \n",
       "\n",
       "               source  section_name        subsection_name  \\\n",
       "0  The New York Times        Sports                 Soccer   \n",
       "1  The New York Times        Sports                 Hockey   \n",
       "2  The New York Times  Business Day  Energy & Environment    \n",
       "3  The New York Times         World                 Africa   \n",
       "4  The New York Times         World            Middle East   \n",
       "\n",
       "                        _id              pub_date  print_page  \\\n",
       "0  524ce87638f0d8198973ff59  2013-10-03T00:00:00Z          14   \n",
       "1  524ceb0338f0d8198973ff5c  2013-10-03T00:00:00Z          14   \n",
       "2  524ccb1738f0d8198973ff11  2013-10-03T00:00:00Z           9   \n",
       "3  524cc70538f0d8198973ff0a  2013-10-03T00:00:00Z           8   \n",
       "4  524cc1f038f0d8198973fef2  2013-10-03T00:00:00Z           9   \n",
       "\n",
       "                                            headline  \\\n",
       "0            Bayern Munich Dominates Manchester City   \n",
       "1                   Brodeur’s Starting Streak to End   \n",
       "2            Fuel From Landfill Methane Goes on Sale   \n",
       "3  On Fashion Runway, South Sudan Takes Steps Tow...   \n",
       "4             Iran’s President Responds to Netanyahu   \n",
       "\n",
       "                                             content  \\\n",
       "0  defending champion bayern munich produced powe...   \n",
       "1  the devil announced cory schneider would start...   \n",
       "2  farmer waste management company energy industr...   \n",
       "3  juba south sudan even standard fashion model w...   \n",
       "4  president hassan rouhani iran wednesday dismis...   \n",
       "\n",
       "                                   content_and_title  \n",
       "0  defending champion bayern munich produced powe...  \n",
       "1  the devil announced cory schneider would start...  \n",
       "2  farmer waste management company energy industr...  \n",
       "3  juba south sudan even standard fashion model w...  \n",
       "4  president hassan rouhani iran wednesday dismis...  "
      ]
     },
     "execution_count": 18,
     "metadata": {},
     "output_type": "execute_result"
    }
   ],
   "source": [
    "news.head()"
   ]
  },
  {
   "cell_type": "code",
   "execution_count": 19,
   "metadata": {},
   "outputs": [
    {
     "data": {
      "text/plain": [
       "0                Bayern Munich Dominates Manchester City\n",
       "1                       Brodeur’s Starting Streak to End\n",
       "2                Fuel From Landfill Methane Goes on Sale\n",
       "3      On Fashion Runway, South Sudan Takes Steps Tow...\n",
       "4                 Iran’s President Responds to Netanyahu\n",
       "                             ...                        \n",
       "695    Defining and Demanding a Musician’s Fair Shake...\n",
       "696    Britain Plans to Require Community Service for...\n",
       "697    Old Atrocities, Now Official, Galvanize Afghan...\n",
       "698    Discussing Iran, Obama and Netanyahu Display U...\n",
       "699              Government Shuts Down in Budget Impasse\n",
       "Name: headline, Length: 700, dtype: object"
      ]
     },
     "execution_count": 19,
     "metadata": {},
     "output_type": "execute_result"
    }
   ],
   "source": [
    "news.headline"
   ]
  },
  {
   "cell_type": "code",
   "execution_count": 20,
   "metadata": {},
   "outputs": [],
   "source": [
    "vectorizer = TfidfVectorizer(stop_words='english', max_features=10000)\n",
    "vectorized_df = vectorizer.fit_transform(news.content)"
   ]
  },
  {
   "cell_type": "code",
   "execution_count": 21,
   "metadata": {},
   "outputs": [],
   "source": [
    "news_recommender = ItemRecommender()\n",
    "news_recommender.fit(vectorized_df, titles = news.headline)"
   ]
  },
  {
   "cell_type": "code",
   "execution_count": 24,
   "metadata": {},
   "outputs": [
    {
     "name": "stdout",
     "output_type": "stream",
     "text": [
      "['Özil Scores as Arsenal Blanks Napoli'\n",
      " 'Neymar Scores as Barcelona Stays Perfect in League Play'\n",
      " 'Manchester Teams Stumble and Fall' 'Devils Defeat Flyers'\n",
      " 'City Humbles United in Manchester Derby']\n"
     ]
    }
   ],
   "source": [
    "print(news_recommender.get_recommendations('Bayern Munich Dominates Manchester City'))"
   ]
  },
  {
   "cell_type": "markdown",
   "metadata": {},
   "source": [
    "## Extra Credit\n",
    "\n",
    "### Part 3: Improving the recommender"
   ]
  },
  {
   "cell_type": "code",
   "execution_count": 25,
   "metadata": {},
   "outputs": [
    {
     "data": {
      "text/html": [
       "<div>\n",
       "<style scoped>\n",
       "    .dataframe tbody tr th:only-of-type {\n",
       "        vertical-align: middle;\n",
       "    }\n",
       "\n",
       "    .dataframe tbody tr th {\n",
       "        vertical-align: top;\n",
       "    }\n",
       "\n",
       "    .dataframe thead th {\n",
       "        text-align: right;\n",
       "    }\n",
       "</style>\n",
       "<table border=\"1\" class=\"dataframe\">\n",
       "  <thead>\n",
       "    <tr style=\"text-align: right;\">\n",
       "      <th></th>\n",
       "      <th>Unnamed: 0</th>\n",
       "      <th>document_type</th>\n",
       "      <th>web_url</th>\n",
       "      <th>lead_paragraph</th>\n",
       "      <th>abstract</th>\n",
       "      <th>snippet</th>\n",
       "      <th>news_desk</th>\n",
       "      <th>word_count</th>\n",
       "      <th>source</th>\n",
       "      <th>section_name</th>\n",
       "      <th>subsection_name</th>\n",
       "      <th>_id</th>\n",
       "      <th>pub_date</th>\n",
       "      <th>print_page</th>\n",
       "      <th>headline</th>\n",
       "      <th>content</th>\n",
       "      <th>content_and_title</th>\n",
       "    </tr>\n",
       "  </thead>\n",
       "  <tbody>\n",
       "    <tr>\n",
       "      <th>0</th>\n",
       "      <td>6</td>\n",
       "      <td>article</td>\n",
       "      <td>http://www.nytimes.com/2013/10/03/sports/socce...</td>\n",
       "      <td>Defending champion Bayern Munich produced a po...</td>\n",
       "      <td>Bayern Munich beats Manchester City, 3-1, in U...</td>\n",
       "      <td>Defending champion Bayern Munich produced a po...</td>\n",
       "      <td>Sports</td>\n",
       "      <td>190</td>\n",
       "      <td>The New York Times</td>\n",
       "      <td>Sports</td>\n",
       "      <td>Soccer</td>\n",
       "      <td>524ce87638f0d8198973ff59</td>\n",
       "      <td>2013-10-03T00:00:00Z</td>\n",
       "      <td>14</td>\n",
       "      <td>Bayern Munich Dominates Manchester City</td>\n",
       "      <td>defending champion bayern munich produced powe...</td>\n",
       "      <td>defending champion bayern munich produced powe...</td>\n",
       "    </tr>\n",
       "    <tr>\n",
       "      <th>1</th>\n",
       "      <td>8</td>\n",
       "      <td>article</td>\n",
       "      <td>http://www.nytimes.com/2013/10/03/sports/hocke...</td>\n",
       "      <td>The Devils announced that Cory Schneider would...</td>\n",
       "      <td>New Jersey Devils announce that Cory Schneider...</td>\n",
       "      <td>The Devils announced that Cory Schneider would...</td>\n",
       "      <td>Sports</td>\n",
       "      <td>110</td>\n",
       "      <td>The New York Times</td>\n",
       "      <td>Sports</td>\n",
       "      <td>Hockey</td>\n",
       "      <td>524ceb0338f0d8198973ff5c</td>\n",
       "      <td>2013-10-03T00:00:00Z</td>\n",
       "      <td>14</td>\n",
       "      <td>Brodeur’s Starting Streak to End</td>\n",
       "      <td>the devil announced cory schneider would start...</td>\n",
       "      <td>the devil announced cory schneider would start...</td>\n",
       "    </tr>\n",
       "    <tr>\n",
       "      <th>2</th>\n",
       "      <td>12</td>\n",
       "      <td>article</td>\n",
       "      <td>http://www.nytimes.com/2013/10/03/business/ene...</td>\n",
       "      <td>Clean Energy Fuels is selling Redeem, a vehicl...</td>\n",
       "      <td>Clean Energy Fuels is selling Redeem, vehicle ...</td>\n",
       "      <td>Clean Energy Fuels is selling Redeem, a vehicl...</td>\n",
       "      <td>Business</td>\n",
       "      <td>743</td>\n",
       "      <td>The New York Times</td>\n",
       "      <td>Business Day</td>\n",
       "      <td>Energy &amp; Environment</td>\n",
       "      <td>524ccb1738f0d8198973ff11</td>\n",
       "      <td>2013-10-03T00:00:00Z</td>\n",
       "      <td>9</td>\n",
       "      <td>Fuel From Landfill Methane Goes on Sale</td>\n",
       "      <td>farmer waste management company energy industr...</td>\n",
       "      <td>farmer waste management company energy industr...</td>\n",
       "    </tr>\n",
       "  </tbody>\n",
       "</table>\n",
       "</div>"
      ],
      "text/plain": [
       "   Unnamed: 0 document_type  \\\n",
       "0           6       article   \n",
       "1           8       article   \n",
       "2          12       article   \n",
       "\n",
       "                                             web_url  \\\n",
       "0  http://www.nytimes.com/2013/10/03/sports/socce...   \n",
       "1  http://www.nytimes.com/2013/10/03/sports/hocke...   \n",
       "2  http://www.nytimes.com/2013/10/03/business/ene...   \n",
       "\n",
       "                                      lead_paragraph  \\\n",
       "0  Defending champion Bayern Munich produced a po...   \n",
       "1  The Devils announced that Cory Schneider would...   \n",
       "2  Clean Energy Fuels is selling Redeem, a vehicl...   \n",
       "\n",
       "                                            abstract  \\\n",
       "0  Bayern Munich beats Manchester City, 3-1, in U...   \n",
       "1  New Jersey Devils announce that Cory Schneider...   \n",
       "2  Clean Energy Fuels is selling Redeem, vehicle ...   \n",
       "\n",
       "                                             snippet news_desk  word_count  \\\n",
       "0  Defending champion Bayern Munich produced a po...    Sports         190   \n",
       "1  The Devils announced that Cory Schneider would...    Sports         110   \n",
       "2  Clean Energy Fuels is selling Redeem, a vehicl...  Business         743   \n",
       "\n",
       "               source  section_name        subsection_name  \\\n",
       "0  The New York Times        Sports                 Soccer   \n",
       "1  The New York Times        Sports                 Hockey   \n",
       "2  The New York Times  Business Day  Energy & Environment    \n",
       "\n",
       "                        _id              pub_date  print_page  \\\n",
       "0  524ce87638f0d8198973ff59  2013-10-03T00:00:00Z          14   \n",
       "1  524ceb0338f0d8198973ff5c  2013-10-03T00:00:00Z          14   \n",
       "2  524ccb1738f0d8198973ff11  2013-10-03T00:00:00Z           9   \n",
       "\n",
       "                                  headline  \\\n",
       "0  Bayern Munich Dominates Manchester City   \n",
       "1         Brodeur’s Starting Streak to End   \n",
       "2  Fuel From Landfill Methane Goes on Sale   \n",
       "\n",
       "                                             content  \\\n",
       "0  defending champion bayern munich produced powe...   \n",
       "1  the devil announced cory schneider would start...   \n",
       "2  farmer waste management company energy industr...   \n",
       "\n",
       "                                   content_and_title  \n",
       "0  defending champion bayern munich produced powe...  \n",
       "1  the devil announced cory schneider would start...  \n",
       "2  farmer waste management company energy industr...  "
      ]
     },
     "execution_count": 25,
     "metadata": {},
     "output_type": "execute_result"
    }
   ],
   "source": [
    "news['content_and_title'] = news.content + news.headline\n",
    "news.head(3)"
   ]
  },
  {
   "cell_type": "code",
   "execution_count": 26,
   "metadata": {},
   "outputs": [
    {
     "data": {
      "text/plain": [
       "TfidfVectorizer(max_features=10000, stop_words='english')"
      ]
     },
     "execution_count": 26,
     "metadata": {},
     "output_type": "execute_result"
    }
   ],
   "source": [
    "vectorizer2 = TfidfVectorizer(stop_words='english', max_features=10000)\n",
    "vectorizer2.fit(news.content_and_title)"
   ]
  },
  {
   "cell_type": "code",
   "execution_count": 27,
   "metadata": {},
   "outputs": [],
   "source": [
    "content_matrix = vectorizer2.transform(news.content)\n",
    "headline_matrix = vectorizer2.transform(news.headline)"
   ]
  },
  {
   "cell_type": "code",
   "execution_count": 28,
   "metadata": {},
   "outputs": [],
   "source": [
    "def weighted_vector(content_matrix, headline_matrix, alpha):\n",
    "    return (content_matrix * alpha) + (headline_matrix * (1-alpha))"
   ]
  },
  {
   "cell_type": "code",
   "execution_count": 29,
   "metadata": {},
   "outputs": [],
   "source": [
    "weighted_vector = weighted_vector(content_matrix, headline_matrix, .9)"
   ]
  },
  {
   "cell_type": "code",
   "execution_count": 31,
   "metadata": {},
   "outputs": [
    {
     "name": "stdout",
     "output_type": "stream",
     "text": [
      "['Özil Scores as Arsenal Blanks Napoli'\n",
      " 'Manchester Teams Stumble and Fall'\n",
      " 'Neymar Scores as Barcelona Stays Perfect in League Play'\n",
      " 'City Humbles United in Manchester Derby' 'Manchester United Wins']\n"
     ]
    }
   ],
   "source": [
    "weighted_recommender = ItemRecommender()\n",
    "weighted_recommender.fit(weighted_vector, titles = news.headline)\n",
    "print(weighted_recommender.get_recommendations('Bayern Munich Dominates Manchester City'))"
   ]
  }
 ],
 "metadata": {
  "kernelspec": {
   "display_name": "Python 3",
   "language": "python",
   "name": "python3"
  },
  "language_info": {
   "codemirror_mode": {
    "name": "ipython",
    "version": 3
   },
   "file_extension": ".py",
   "mimetype": "text/x-python",
   "name": "python",
   "nbconvert_exporter": "python",
   "pygments_lexer": "ipython3",
   "version": "3.8.5"
  },
  "toc": {
   "base_numbering": 1,
   "nav_menu": {},
   "number_sections": true,
   "sideBar": true,
   "skip_h1_title": false,
   "title_cell": "Table of Contents",
   "title_sidebar": "Contents",
   "toc_cell": false,
   "toc_position": {},
   "toc_section_display": true,
   "toc_window_display": false
  }
 },
 "nbformat": 4,
 "nbformat_minor": 2
}
