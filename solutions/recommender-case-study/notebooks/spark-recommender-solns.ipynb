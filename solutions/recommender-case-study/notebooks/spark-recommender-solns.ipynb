{
 "cells": [
  {
   "cell_type": "code",
   "execution_count": 1,
   "metadata": {
    "collapsed": false
   },
   "outputs": [],
   "source": [
    "import re\n",
    "import numpy as np\n",
    "import pandas as pd\n",
    "import matplotlib.pyplot as plt\n",
    "%matplotlib inline\n",
    "\n",
    "import pyspark as ps    # for the pyspark suite\n",
    "from pyspark.sql.types import StructType, StructField\n",
    "from pyspark.sql.types import IntegerType, StringType, FloatType, DateType, TimestampType\n",
    "import pyspark.sql.functions as F\n",
    "\n",
    "spark = ps.sql.SparkSession.builder \\\n",
    "            .master(\"local[4]\") \\\n",
    "            .appName(\"df lecture\") \\\n",
    "            .getOrCreate()\n",
    "\n",
    "sc = spark.sparkContext  # for the pre-2.0 sparkContext"
   ]
  },
  {
   "cell_type": "markdown",
   "metadata": {},
   "source": [
    "# 1. Importing Data\n",
    "\n",
    "## 1.1. Users dataframe\n",
    "\n",
    "First, load `data/users.dat` into an RDD for cleaning."
   ]
  },
  {
   "cell_type": "code",
   "execution_count": 2,
   "metadata": {
    "collapsed": false
   },
   "outputs": [
    {
     "name": "stdout",
     "output_type": "stream",
     "text": [
      "[u'1::F::1::10::48067', u'2::M::56::16::70072', u'3::M::25::15::55117', u'4::M::45::7::02460', u'5::M::25::20::55455']\n"
     ]
    }
   ],
   "source": [
    "users_raw = sc.textFile(\"../data/users.dat\")\n",
    "\n",
    "print(users_raw.take(5))"
   ]
  },
  {
   "cell_type": "markdown",
   "metadata": {},
   "source": [
    "Then we \"clean\" that rdd by splitting values, casting types and translating numerical ids into categorical (explicit strings) values."
   ]
  },
  {
   "cell_type": "code",
   "execution_count": 3,
   "metadata": {
    "collapsed": false
   },
   "outputs": [
    {
     "name": "stdout",
     "output_type": "stream",
     "text": [
      "[(1, 1, u'F', 1, 'Under 18', 10, 'K-12 student', u'48067'), (2, 0, u'M', 56, '56+', 16, 'self-employed', u'70072'), (3, 0, u'M', 25, '25-34', 15, 'scientist', u'55117'), (4, 0, u'M', 45, '45-49', 7, 'executive/managerial', u'02460'), (5, 0, u'M', 25, '25-34', 20, 'writer', u'55455')]\n"
     ]
    }
   ],
   "source": [
    "def users_cleaning_functions(row_string):\n",
    "    fields_ = row_string.split(\"::\")\n",
    "    user_id, gender_str, age_id, occupation_id, zipcode = fields_\n",
    "\n",
    "    user_id = int(user_id)\n",
    "    \n",
    "    gender_dict = {'F':1, 'M':0}\n",
    "    gender_id = gender_dict[gender_str]\n",
    "\n",
    "    age_dict = {1:\"Under 18\",\n",
    "                18:  \"18-24\",\n",
    "                25:  \"25-34\",\n",
    "                35:  \"35-44\",\n",
    "                45:  \"45-49\",\n",
    "                50:  \"50-55\",\n",
    "                56:  \"56+\"}\n",
    "    age = age_dict[int(age_id)]\n",
    "    \n",
    "    occupation_dict = {0:  \"other\",\n",
    "                1:  \"academic/educator\",\n",
    "                2:  \"artist\",\n",
    "                3:  \"clerical/admin\",\n",
    "                4:  \"college/grad student\",\n",
    "                5:  \"customer service\",\n",
    "                6:  \"doctor/health care\",\n",
    "                7:  \"executive/managerial\",\n",
    "                8:  \"farmer\",\n",
    "                9:  \"homemaker\",\n",
    "                10:  \"K-12 student\",\n",
    "                11:  \"lawyer\",\n",
    "                12:  \"programmer\",\n",
    "                13:  \"retired\",\n",
    "                14:  \"sales/marketing\",\n",
    "                15:  \"scientist\",\n",
    "                16:  \"self-employed\",\n",
    "                17:  \"technician/engineer\",\n",
    "                18:  \"tradesman/craftsman\",\n",
    "                19:  \"unemployed\",\n",
    "                20:  \"writer\" }\n",
    "    occupation = occupation_dict[int(occupation_id)]\n",
    "    \n",
    "    return((user_id,\n",
    "            gender_id,\n",
    "            gender_str,\n",
    "            int(age_id),\n",
    "            age,\n",
    "            int(occupation_id),\n",
    "            occupation, zipcode))\n",
    "\n",
    "users_clean = users_raw.map(users_cleaning_functions)\n",
    "\n",
    "print(users_clean.take(5))"
   ]
  },
  {
   "cell_type": "markdown",
   "metadata": {},
   "source": [
    "Create a DataFrame by providing the right schema."
   ]
  },
  {
   "cell_type": "code",
   "execution_count": 4,
   "metadata": {
    "collapsed": false
   },
   "outputs": [
    {
     "name": "stdout",
     "output_type": "stream",
     "text": [
      "+----+---------+------+------+--------+-------------+--------------------+-------+\n",
      "|user|gender_id|gender|age_id|     age|occupation_id|          occupation|zipcode|\n",
      "+----+---------+------+------+--------+-------------+--------------------+-------+\n",
      "|   1|        1|     F|     1|Under 18|           10|        K-12 student|  48067|\n",
      "|   2|        0|     M|    56|     56+|           16|       self-employed|  70072|\n",
      "|   3|        0|     M|    25|   25-34|           15|           scientist|  55117|\n",
      "|   4|        0|     M|    45|   45-49|            7|executive/managerial|  02460|\n",
      "|   5|        0|     M|    25|   25-34|           20|              writer|  55455|\n",
      "+----+---------+------+------+--------+-------------+--------------------+-------+\n",
      "only showing top 5 rows\n",
      "\n",
      "root\n",
      " |-- user: integer (nullable = true)\n",
      " |-- gender_id: integer (nullable = true)\n",
      " |-- gender: string (nullable = true)\n",
      " |-- age_id: integer (nullable = true)\n",
      " |-- age: string (nullable = true)\n",
      " |-- occupation_id: integer (nullable = true)\n",
      " |-- occupation: string (nullable = true)\n",
      " |-- zipcode: string (nullable = true)\n",
      "\n"
     ]
    }
   ],
   "source": [
    "users_schema = StructType( [\n",
    "    StructField('user',IntegerType(),True),\n",
    "    StructField('gender_id',IntegerType(),True),\n",
    "    StructField('gender',StringType(),True),\n",
    "    StructField('age_id',IntegerType(),True),\n",
    "    StructField('age',StringType(),True),\n",
    "    StructField('occupation_id',IntegerType(),True),\n",
    "    StructField('occupation',StringType(),True),\n",
    "    StructField('zipcode',StringType(),True) ] )\n",
    "\n",
    "users = spark.createDataFrame(users_clean, users_schema)\n",
    "\n",
    "users.show(5)\n",
    "users.printSchema()"
   ]
  },
  {
   "cell_type": "markdown",
   "metadata": {},
   "source": [
    "## 1.2. Movies dataframe\n",
    "\n",
    "Load the `data/movies.dat` file in an RDD."
   ]
  },
  {
   "cell_type": "code",
   "execution_count": 5,
   "metadata": {
    "collapsed": false
   },
   "outputs": [
    {
     "name": "stdout",
     "output_type": "stream",
     "text": [
      "[u\"1::Toy Story (1995)::Animation|Children's|Comedy\", u\"2::Jumanji (1995)::Adventure|Children's|Fantasy\", u'3::Grumpier Old Men (1995)::Comedy|Romance', u'4::Waiting to Exhale (1995)::Comedy|Drama', u'5::Father of the Bride Part II (1995)::Comedy']\n"
     ]
    }
   ],
   "source": [
    "movies_raw = sc.textFile(\"../data/movies.dat\")\n",
    "\n",
    "print(movies_raw.take(5))"
   ]
  },
  {
   "cell_type": "markdown",
   "metadata": {},
   "source": [
    "The \"genres\" column is formatted as a `|` separated-list. Our choice here is to 'pivot' the movies genres so that we assign one column per genre, and have a value (`1` or `null`) indicating if the movie belongs to this genre. This will let us query this dataset by genre more easily and create a genre vector.\n",
    "\n",
    "**First step** to achieve that, create one line per `movie * genre`. Here, `split()` on genres then `flatMap()`."
   ]
  },
  {
   "cell_type": "code",
   "execution_count": 6,
   "metadata": {
    "collapsed": false
   },
   "outputs": [
    {
     "name": "stdout",
     "output_type": "stream",
     "text": [
      "[(1, u'Toy Story (1995)', 1995, u'Animation'), (1, u'Toy Story (1995)', 1995, u\"Children's\"), (1, u'Toy Story (1995)', 1995, u'Comedy'), (2, u'Jumanji (1995)', 1995, u'Adventure'), (2, u'Jumanji (1995)', 1995, u\"Children's\")]\n"
     ]
    }
   ],
   "source": [
    "def movies_cleaning_function(inputstring):\n",
    "    \"\"\" to be used inside flatMap, returns a list \"\"\"\n",
    "    movie_id_, title_, genres_ = inputstring.split(\"::\")\n",
    "    movie_id_ = int(movie_id_)\n",
    "    year_ = re.search('.*\\(([0-9]+)\\)$', title_).group(1)\n",
    "    return [(movie_id_, title_, int(year_), token) for token in genres_.split('|')]\n",
    "\n",
    "movies_clean = movies_raw.flatMap(movies_cleaning_function)\n",
    "\n",
    "print(movies_clean.take(5))"
   ]
  },
  {
   "cell_type": "markdown",
   "metadata": {},
   "source": [
    "Then we turn it into a dataframe and use the `pivot()` function to do the trick."
   ]
  },
  {
   "cell_type": "code",
   "execution_count": 7,
   "metadata": {
    "collapsed": false
   },
   "outputs": [
    {
     "name": "stdout",
     "output_type": "stream",
     "text": [
      "+-----+--------------------+----+------+---------+---------+----------+------+-----+-----------+-----+-------+---------+------+-------+-------+-------+------+--------+---+-------+\n",
      "|movie|               title|year|Action|Adventure|Animation|Children's|Comedy|Crime|Documentary|Drama|Fantasy|Film-Noir|Horror|Musical|Mystery|Romance|Sci-Fi|Thriller|War|Western|\n",
      "+-----+--------------------+----+------+---------+---------+----------+------+-----+-----------+-----+-------+---------+------+-------+-------+-------+------+--------+---+-------+\n",
      "|  380|    True Lies (1994)|1994|     1|        1|        0|         0|     1|    0|          0|    0|      0|        0|     0|      0|      0|      1|     0|       0|  0|      0|\n",
      "| 3341|Born Yesterday (1...|1950|     0|        0|        0|         0|     1|    0|          0|    0|      0|        0|     0|      0|      0|      0|     0|       0|  0|      0|\n",
      "| 3699|      Starman (1984)|1984|     0|        1|        0|         0|     0|    0|          0|    1|      0|        0|     0|      0|      0|      1|     1|       0|  0|      0|\n",
      "| 2417|    Heartburn (1986)|1986|     0|        0|        0|         0|     1|    0|          0|    1|      0|        0|     0|      0|      0|      0|     0|       0|  0|      0|\n",
      "| 2105|         Tron (1982)|1982|     1|        1|        0|         0|     0|    0|          0|    0|      1|        0|     0|      0|      0|      0|     1|       0|  0|      0|\n",
      "+-----+--------------------+----+------+---------+---------+----------+------+-----+-----------+-----+-------+---------+------+-------+-------+-------+------+--------+---+-------+\n",
      "only showing top 5 rows\n",
      "\n",
      "root\n",
      " |-- movie: integer (nullable = true)\n",
      " |-- title: string (nullable = true)\n",
      " |-- year: integer (nullable = true)\n",
      " |-- Action: long (nullable = true)\n",
      " |-- Adventure: long (nullable = true)\n",
      " |-- Animation: long (nullable = true)\n",
      " |-- Children's: long (nullable = true)\n",
      " |-- Comedy: long (nullable = true)\n",
      " |-- Crime: long (nullable = true)\n",
      " |-- Documentary: long (nullable = true)\n",
      " |-- Drama: long (nullable = true)\n",
      " |-- Fantasy: long (nullable = true)\n",
      " |-- Film-Noir: long (nullable = true)\n",
      " |-- Horror: long (nullable = true)\n",
      " |-- Musical: long (nullable = true)\n",
      " |-- Mystery: long (nullable = true)\n",
      " |-- Romance: long (nullable = true)\n",
      " |-- Sci-Fi: long (nullable = true)\n",
      " |-- Thriller: long (nullable = true)\n",
      " |-- War: long (nullable = true)\n",
      " |-- Western: long (nullable = true)\n",
      "\n"
     ]
    }
   ],
   "source": [
    "movies_schema = StructType( [\n",
    "    StructField('movie',IntegerType(),True),\n",
    "    StructField('title',StringType(),True),\n",
    "    StructField('year',IntegerType(),True),\n",
    "    StructField('genre',StringType(),True) ] )\n",
    "\n",
    "movies = spark.createDataFrame(movies_clean, movies_schema)\n",
    "\n",
    "# pivot movie genres\n",
    "movies = movies.groupBy(\"movie\", \"title\", \"year\")\\\n",
    "               .pivot(\"genre\")\\\n",
    "               .agg(F.count(F.col('genre')))\\\n",
    "               .na.fill(0)\n",
    "\n",
    "movies.show(5)\n",
    "movies.printSchema()"
   ]
  },
  {
   "cell_type": "markdown",
   "metadata": {},
   "source": [
    "## 1.3. Reading Training set (ratings)\n",
    "\n",
    "`data/training.csv` is already formatted as a CSV file, we just enforce our own schema on it with the column names we choose."
   ]
  },
  {
   "cell_type": "code",
   "execution_count": 8,
   "metadata": {
    "collapsed": false
   },
   "outputs": [
    {
     "name": "stdout",
     "output_type": "stream",
     "text": [
      "+----+-----+------+---------+\n",
      "|user|movie|rating|timestamp|\n",
      "+----+-----+------+---------+\n",
      "|6040|  858|   4.0|956703932|\n",
      "|6040|  593|   5.0|956703954|\n",
      "|6040| 2384|   4.0|956703954|\n",
      "|6040| 1961|   4.0|956703977|\n",
      "|6040| 2019|   5.0|956703977|\n",
      "+----+-----+------+---------+\n",
      "only showing top 5 rows\n",
      "\n",
      "root\n",
      " |-- user: integer (nullable = true)\n",
      " |-- movie: integer (nullable = true)\n",
      " |-- rating: float (nullable = true)\n",
      " |-- timestamp: integer (nullable = true)\n",
      "\n",
      "ratings has 800000 rows\n"
     ]
    }
   ],
   "source": [
    "ratings_schema = StructType( [\n",
    "    StructField('user',IntegerType(),True),\n",
    "    StructField('movie',IntegerType(),True),\n",
    "    StructField('rating',FloatType(),True),\n",
    "    StructField('timestamp',IntegerType(),True) ] )\n",
    "\n",
    "# read CSV\n",
    "ratings = spark.read.csv('../data/training.csv',\n",
    "                         header=True,       # use headers or not\n",
    "                         quote='\"',         # char for quotes\n",
    "                         sep=\",\",           # char for separation\n",
    "                         inferSchema=False,\n",
    "                         schema=ratings_schema)\n",
    "\n",
    "ratings.show(5)\n",
    "ratings.printSchema()\n",
    "print(\"ratings has {} rows\".format(ratings.count()))"
   ]
  },
  {
   "cell_type": "markdown",
   "metadata": {},
   "source": [
    "## 1.4. Reading requests"
   ]
  },
  {
   "cell_type": "code",
   "execution_count": 9,
   "metadata": {
    "collapsed": false
   },
   "outputs": [
    {
     "name": "stdout",
     "output_type": "stream",
     "text": [
      "+----+-----+\n",
      "|user|movie|\n",
      "+----+-----+\n",
      "|4958| 1924|\n",
      "|4958| 3264|\n",
      "|4958| 2634|\n",
      "|4958| 1407|\n",
      "|4958| 2399|\n",
      "+----+-----+\n",
      "only showing top 5 rows\n",
      "\n",
      "root\n",
      " |-- user: integer (nullable = true)\n",
      " |-- movie: integer (nullable = true)\n",
      "\n",
      "requests has 200209 rows\n"
     ]
    }
   ],
   "source": [
    "request_schema = StructType( [\n",
    "    StructField('user',IntegerType(),True),\n",
    "    StructField('movie',IntegerType(),True) ] )\n",
    "\n",
    "# read CSV\n",
    "requests = spark.read.csv('../data/requests.csv',\n",
    "                         header=True,       # use headers or not\n",
    "                         quote='\"',         # char for quotes\n",
    "                         sep=\",\",           # char for separation\n",
    "                         inferSchema=False,\n",
    "                         schema=request_schema)\n",
    "\n",
    "requests.show(5)\n",
    "requests.printSchema()\n",
    "print(\"requests has {} rows\".format(requests.count()))"
   ]
  },
  {
   "cell_type": "markdown",
   "metadata": {},
   "source": [
    "# 2. EDA\n",
    "\n",
    "## 2.1. Example Queries"
   ]
  },
  {
   "cell_type": "markdown",
   "metadata": {},
   "source": [
    "### How many users and movies are there ?"
   ]
  },
  {
   "cell_type": "code",
   "execution_count": 10,
   "metadata": {
    "collapsed": false
   },
   "outputs": [
    {
     "name": "stdout",
     "output_type": "stream",
     "text": [
      "user count: 6040\n",
      "movie count: 3883\n"
     ]
    }
   ],
   "source": [
    "print(\"user count: {}\".format(users.select('user').distinct().count()))\n",
    "print(\"movie count: {}\".format(movies.select('movie').distinct().count()))"
   ]
  },
  {
   "cell_type": "markdown",
   "metadata": {},
   "source": [
    "### How many ratings for each movie ?"
   ]
  },
  {
   "cell_type": "code",
   "execution_count": 11,
   "metadata": {
    "collapsed": false
   },
   "outputs": [],
   "source": [
    "rating_count = ratings.groupBy(\"movie\").count().rdd.values().histogram(20)"
   ]
  },
  {
   "cell_type": "code",
   "execution_count": 12,
   "metadata": {
    "collapsed": false
   },
   "outputs": [
    {
     "name": "stdout",
     "output_type": "stream",
     "text": [
      "20\n",
      "20\n"
     ]
    }
   ],
   "source": [
    "rating_count[0].pop(0)\n",
    "\n",
    "print(len(rating_count[0]))\n",
    "print(len(rating_count[1]))"
   ]
  },
  {
   "cell_type": "code",
   "execution_count": 13,
   "metadata": {
    "collapsed": false
   },
   "outputs": [
    {
     "data": {
      "image/png": "[encoded data removed]",
      "text/plain": [
       "<matplotlib.figure.Figure at 0x114484d50>"
      ]
     },
     "metadata": {},
     "output_type": "display_data"
    }
   ],
   "source": [
    "plt.plot(rating_count[0], rating_count[1])\n",
    "plt.title(\"Rating count histogram\")\n",
    "plt.xlabel(\"Value\")\n",
    "plt.ylabel(\"Frequency\")\n",
    "plt.show()"
   ]
  },
  {
   "cell_type": "markdown",
   "metadata": {},
   "source": [
    "### What are the 20 most popular movies by rating count ?"
   ]
  },
  {
   "cell_type": "code",
   "execution_count": 14,
   "metadata": {
    "collapsed": false
   },
   "outputs": [
    {
     "name": "stdout",
     "output_type": "stream",
     "text": [
      "+-----+--------------------+----+-----+\n",
      "|movie|               title|year|count|\n",
      "+-----+--------------------+----+-----+\n",
      "| 1196|Star Wars: Episod...|1980| 2516|\n",
      "| 1097|E.T. the Extra-Te...|1982| 1910|\n",
      "|  589|Terminator 2: Jud...|1991| 2284|\n",
      "|  260|Star Wars: Episod...|1977| 2515|\n",
      "| 1617|L.A. Confidential...|1997| 1929|\n",
      "|  110|   Braveheart (1995)|1995| 2081|\n",
      "|  593|Silence of the La...|1991| 2151|\n",
      "| 2571|  Matrix, The (1999)|1999| 2172|\n",
      "| 1210|Star Wars: Episod...|1983| 2456|\n",
      "| 1198|Raiders of the Lo...|1981| 2110|\n",
      "| 1580| Men in Black (1997)|1997| 2156|\n",
      "|  608|        Fargo (1996)|1996| 2144|\n",
      "| 2762|Sixth Sense, The ...|1999| 2024|\n",
      "| 2396|Shakespeare in Lo...|1998| 1995|\n",
      "| 2858|American Beauty (...|1999| 2901|\n",
      "| 1270|Back to the Futur...|1985| 2183|\n",
      "| 1197|Princess Bride, T...|1987| 1947|\n",
      "|  480|Jurassic Park (1993)|1993| 2232|\n",
      "| 2028|Saving Private Ry...|1998| 2245|\n",
      "|  527|Schindler's List ...|1993| 1934|\n",
      "+-----+--------------------+----+-----+\n",
      "\n"
     ]
    }
   ],
   "source": [
    "best_movies = ratings.groupBy(\"movie\").count()\\\n",
    "              .orderBy('count', ascending=False).limit(20)\\\n",
    "              .join(movies, 'movie')\\\n",
    "              .select(\"movie\", \"title\", \"year\", \"count\").show()"
   ]
  },
  {
   "cell_type": "markdown",
   "metadata": {},
   "source": [
    "# 3. Loop 1 : baseline model + draft pipeline\n",
    "\n",
    "**Loop roadmap**:\n",
    "1. create a training/testing set\n",
    "2. train an `ALS` algorithm right out of the box\n",
    "3. develop a performance metric to test our model\n",
    "4. integrate into a `MovieRecommender`-like class\n",
    "5. develop a function to create submission file"
   ]
  },
  {
   "cell_type": "code",
   "execution_count": 15,
   "metadata": {
    "collapsed": true
   },
   "outputs": [],
   "source": [
    "from pyspark.ml.evaluation import RegressionEvaluator\n",
    "from pyspark.ml.recommendation import ALS"
   ]
  },
  {
   "cell_type": "markdown",
   "metadata": {},
   "source": [
    "## 3.2. create a training/testing set"
   ]
  },
  {
   "cell_type": "code",
   "execution_count": 16,
   "metadata": {
    "collapsed": true
   },
   "outputs": [],
   "source": [
    "training = ratings.sort('timestamp', ascending=True).limit(700000)\n",
    "testing = ratings.sort('timestamp', ascending=False).limit(100000)"
   ]
  },
  {
   "cell_type": "markdown",
   "metadata": {},
   "source": [
    "Let's try a few things on that split..."
   ]
  },
  {
   "cell_type": "code",
   "execution_count": 17,
   "metadata": {
    "collapsed": false
   },
   "outputs": [
    {
     "name": "stdout",
     "output_type": "stream",
     "text": [
      "users in training: 4870\n",
      "users in testing: 943\n",
      "users in both: 414\n",
      "movies in training: 3633\n",
      "movies in testing: 3367\n",
      "movies in both: 3338\n"
     ]
    }
   ],
   "source": [
    "print(\"users in training: {}\".format(training.select('user').distinct().count()))\n",
    "print(\"users in testing: {}\".format(testing.select('user').distinct().count()))\n",
    "\n",
    "print(\"users in both: {}\".format(training.select('user').distinct()\\\n",
    "                                         .join(testing.select('user').distinct(),\n",
    "                                               'user', 'inner')\\\n",
    "                                         .count()))\n",
    "\n",
    "print(\"movies in training: {}\".format(training.select('movie').distinct().count()))\n",
    "print(\"movies in testing: {}\".format(testing.select('movie').distinct().count()))\n",
    "\n",
    "print(\"movies in both: {}\".format(training.select('movie').distinct()\\\n",
    "                                         .join(testing.select('movie').distinct(),\n",
    "                                               'movie', 'inner')\\\n",
    "                                         .count()))"
   ]
  },
  {
   "cell_type": "markdown",
   "metadata": {},
   "source": [
    "## 3.2. train an `ALS` algorithm right out of the box"
   ]
  },
  {
   "cell_type": "code",
   "execution_count": 18,
   "metadata": {
    "collapsed": false
   },
   "outputs": [
    {
     "name": "stdout",
     "output_type": "stream",
     "text": [
      "Root-mean-square error = 2.42852741087\n"
     ]
    }
   ],
   "source": [
    "als = ALS(rank=100,\n",
    "          maxIter=10,\n",
    "          regParam=0.1,\n",
    "          userCol=\"user\",\n",
    "          itemCol=\"movie\",\n",
    "          ratingCol=\"rating\")\n",
    "\n",
    "model_loop1 = als.fit(training)\n",
    "\n",
    "predictions_loop1 = model_loop1.transform(testing)\n",
    "\n",
    "# let's start by evaluating this model using RMSE\n",
    "evaluator = RegressionEvaluator(metricName=\"rmse\", labelCol=\"rating\",\n",
    "                                predictionCol=\"prediction\")\n",
    "\n",
    "rmse = evaluator.evaluate(predictions_loop1.na.fill({'prediction':1.0}))\n",
    "\n",
    "print(\"Root-mean-square error = \" + str(rmse))"
   ]
  },
  {
   "cell_type": "markdown",
   "metadata": {
    "collapsed": true
   },
   "source": [
    "## 3.3. develop a performance metric to test our model\n",
    "\n",
    "Our objective is to integrate the scoring function into a CrossValidation loop of Spark.\n",
    "\n",
    "To do that, we create our own spark object based on `RegressionEvaluator` with an overcasted `evaluate()` method of our own. This method just calls the exact same function used in `src/submit.py`."
   ]
  },
  {
   "cell_type": "code",
   "execution_count": 19,
   "metadata": {
    "collapsed": true
   },
   "outputs": [],
   "source": [
    "class RecoRegressionEvaluation(RegressionEvaluator):\n",
    "    \"\"\" copy/pasted from submit.py \"\"\"\n",
    "    @staticmethod\n",
    "    def _compute_casestudy_score(predictions, actual):\n",
    "        \"\"\"Look at 5% of most highly predicted movies for each user.\n",
    "        Return the average actual rating of those movies.\n",
    "        \"\"\"\n",
    "        df = pd.merge(predictions, actual, on=['user','movie']).fillna(1.0)\n",
    "        #df = pd.concat([predictions.fillna(1.0), actual.actualrating], axis=1)\n",
    "\n",
    "        # for each user\n",
    "        g = df.groupby('user')\n",
    "\n",
    "        # detect the top_5 movies as predicted by your algorithm\n",
    "        top_5 = g.rating.transform(\n",
    "            lambda x: x >= x.quantile(.95)\n",
    "        )\n",
    "\n",
    "        # return the mean of the actual score on those\n",
    "        return df.actualrating[top_5==1].mean()\n",
    "\n",
    "    def evaluate(self, dataset):\n",
    "        # experimental\n",
    "        print(\"evaluate based on: {}, {}\".format(self.getLabelCol(),\n",
    "                                                 self.getPredictionCol()))\n",
    "        \n",
    "        # create a pandas dataframe that corresponds to argument predictions\n",
    "        pd_pred = dataset.select('user','movie',self.getPredictionCol())\\\n",
    "                         .withColumnRenamed(self.getPredictionCol(),'rating')\\\n",
    "                         .toPandas()\n",
    "                \n",
    "        # create a pandas dataframe that corresponds to argument actual\n",
    "        pd_actual = dataset.select('user','movie',self.getLabelCol())\\\n",
    "                         .withColumnRenamed(self.getLabelCol(),'actualrating')\\\n",
    "                         .toPandas()\n",
    "        \n",
    "        # call the exact same function from submit.py\n",
    "        return(self._compute_casestudy_score(pd_pred, pd_actual))"
   ]
  },
  {
   "cell_type": "markdown",
   "metadata": {},
   "source": [
    "**Testing that on that loop 1 ALS.**"
   ]
  },
  {
   "cell_type": "code",
   "execution_count": 20,
   "metadata": {
    "collapsed": false
   },
   "outputs": [
    {
     "name": "stdout",
     "output_type": "stream",
     "text": [
      "evaluate based on: rating, prediction\n",
      "3.53959567516\n"
     ]
    }
   ],
   "source": [
    "rec_evaluator_loop1 = RecoRegressionEvaluation(labelCol=\"rating\",\n",
    "                                         predictionCol=\"prediction\")\n",
    "\n",
    "rec_score_loop1 = rec_evaluator_loop1.evaluate(predictions_loop1)\n",
    "\n",
    "print(rec_score_loop1)"
   ]
  },
  {
   "cell_type": "markdown",
   "metadata": {},
   "source": [
    "## 3.4. integrate into a `MovieRecommender`-like class\n",
    "\n",
    "Doing that here will let us integrate this loop more easily with the next loops. All we have learned in this loop is thus contained in a single class."
   ]
  },
  {
   "cell_type": "code",
   "execution_count": 21,
   "metadata": {
    "collapsed": true
   },
   "outputs": [],
   "source": [
    "class MovieRecommender_loop1():\n",
    "    def fit(self, training_df):\n",
    "        self.als = ALS(rank=100,\n",
    "              maxIter=10,\n",
    "              regParam=0.1,\n",
    "              userCol=\"user\",\n",
    "              itemCol=\"movie\",\n",
    "              ratingCol=\"rating\")\n",
    "\n",
    "        self.loop1_model = self.als.fit(training_df)\n",
    "\n",
    "    def transform(self, requests_df):\n",
    "        return(self.loop1_model.transform(requests_df))"
   ]
  },
  {
   "cell_type": "code",
   "execution_count": 22,
   "metadata": {
    "collapsed": false
   },
   "outputs": [
    {
     "name": "stdout",
     "output_type": "stream",
     "text": [
      "CPU times: user 26.2 ms, sys: 48.2 ms, total: 74.4 ms\n",
      "Wall time: 1min 31s\n",
      "CPU times: user 421 µs, sys: 1.12 ms, total: 1.54 ms\n",
      "Wall time: 105 ms\n",
      "evaluate based on: rating, prediction\n",
      "3.53959567516\n"
     ]
    }
   ],
   "source": [
    "mr1 = MovieRecommender_loop1()\n",
    "\n",
    "%time mr1.fit(training)\n",
    "\n",
    "rec_evaluator_loop1 = RecoRegressionEvaluation(labelCol=\"rating\",\n",
    "                                         predictionCol=\"prediction\")\n",
    "\n",
    "%time predictions_loop1 = mr1.transform(testing)\n",
    "\n",
    "print(rec_evaluator_loop1.evaluate(predictions_loop1))"
   ]
  },
  {
   "cell_type": "markdown",
   "metadata": {},
   "source": [
    "## 3.5. develop a function to create submission [`loop1.csv`]\n",
    "\n",
    "We'll use this function based on our loop1 model.\n",
    "\n",
    "_Note: In the final submission we would train this model on the whole dataset, not on training only._"
   ]
  },
  {
   "cell_type": "code",
   "execution_count": 23,
   "metadata": {
    "collapsed": false
   },
   "outputs": [],
   "source": [
    "def write_submission(submission_df, output_filepath):\n",
    "    with open(output_filepath, 'w') as submissionfile:\n",
    "        submissionfile.write(\"user,movie,rating\\n\")\n",
    "        for row in submission_df.collect():\n",
    "            submissionfile.write(\"{},{},{}\\n\".format(row['user'],\n",
    "                                                     row['movie'],\n",
    "                                                     row['prediction']))"
   ]
  },
  {
   "cell_type": "markdown",
   "metadata": {},
   "source": [
    "_**Note: When run on the testing set, this one will obtain a score of 3.62**_"
   ]
  },
  {
   "cell_type": "code",
   "execution_count": 25,
   "metadata": {
    "collapsed": false
   },
   "outputs": [],
   "source": [
    "write_submission(mr1.transform(requests),\n",
    "                 '../submissions/loop1.csv')"
   ]
  },
  {
   "cell_type": "markdown",
   "metadata": {},
   "source": [
    "# 4. Loop 2 : complete `NaN`s with something\n",
    "\n",
    "**Loop roadmap**:\n",
    "1. create an average score for each movie\n",
    "2. use average to fill predicted `NaN`\n",
    "3. integrate averaging into a `MovieRecommender`-like class\n",
    "4. develop a pipeline between loop1 and loop2\n",
    "5. generate a new submission file\n",
    "\n",
    "Let's first try to figure out how many predictions are `NaN`."
   ]
  },
  {
   "cell_type": "code",
   "execution_count": 26,
   "metadata": {
    "collapsed": false
   },
   "outputs": [
    {
     "data": {
      "text/plain": [
       "73743"
      ]
     },
     "execution_count": 26,
     "metadata": {},
     "output_type": "execute_result"
    }
   ],
   "source": [
    "predictions_loop1.select('prediction').filter(F.isnan('prediction')).count()"
   ]
  },
  {
   "cell_type": "markdown",
   "metadata": {},
   "source": [
    "## 4.1. create an average score for each movie"
   ]
  },
  {
   "cell_type": "code",
   "execution_count": 27,
   "metadata": {
    "collapsed": false
   },
   "outputs": [
    {
     "name": "stdout",
     "output_type": "stream",
     "text": [
      "+-----+-----------------+\n",
      "|movie|       avg_rating|\n",
      "+-----+-----------------+\n",
      "|  858|4.524121500893389|\n",
      "|  593|4.364773319437207|\n",
      "| 2384|3.217877094972067|\n",
      "| 1961|4.033648790746582|\n",
      "| 2019|4.582795698924731|\n",
      "+-----+-----------------+\n",
      "only showing top 5 rows\n",
      "\n"
     ]
    }
   ],
   "source": [
    "movies_avgratings = training.select('movie','rating')\\\n",
    "                            .groupBy('movie')\\\n",
    "                            .agg(F.avg('rating'))\\\n",
    "                            .withColumnRenamed('avg(rating)','avg_rating')\n",
    "\n",
    "movies_avgratings.show(5)"
   ]
  },
  {
   "cell_type": "markdown",
   "metadata": {},
   "source": [
    "## 4.2. use average to fill predicted `NaN`\n",
    "\n",
    "Now let's use that to complete predictions when there's `NaN`.\n",
    "1. We rename `prediction` as `prediction_als`.\n",
    "2. We join with `avg_rating`\n",
    "3. We define `prediction` as `avg_rating` if `prediction_als` is `NaN`."
   ]
  },
  {
   "cell_type": "code",
   "execution_count": 28,
   "metadata": {
    "collapsed": false
   },
   "outputs": [
    {
     "name": "stdout",
     "output_type": "stream",
     "text": [
      "+-----+----+------+---------+--------------+------------------+------------------+\n",
      "|movie|user|rating|timestamp|prediction_als|        avg_rating|        prediction|\n",
      "+-----+----+------+---------+--------------+------------------+------------------+\n",
      "|  148| 673|   5.0|975620824|           NaN|2.7777777777777777|2.7777777777777777|\n",
      "|  148|1242|   3.0|974909976|     2.6576235|2.7777777777777777| 2.657623529434204|\n",
      "|  148|1069|   2.0|974945135|           NaN|2.7777777777777777|2.7777777777777777|\n",
      "|  148|1605|   2.0|974930221|     2.1516573|2.7777777777777777|2.1516573429107666|\n",
      "|  148|1150|   2.0|974875106|           NaN|2.7777777777777777|2.7777777777777777|\n",
      "+-----+----+------+---------+--------------+------------------+------------------+\n",
      "only showing top 5 rows\n",
      "\n"
     ]
    }
   ],
   "source": [
    "predictions_loop2 = \\\n",
    "    predictions_loop1.withColumnRenamed('prediction','prediction_als')\\\n",
    "                     .join(movies_avgratings, 'movie', 'left')\\\n",
    "                     .withColumn('prediction',\n",
    "                                 F.when(F.isnan('prediction_als'),\n",
    "                                        F.col('avg_rating'))\\\n",
    "                                       .otherwise(F.col('prediction_als')))\n",
    "\n",
    "predictions_loop2.show(5)"
   ]
  },
  {
   "cell_type": "markdown",
   "metadata": {},
   "source": [
    "Let's see how THAT performs better."
   ]
  },
  {
   "cell_type": "code",
   "execution_count": 29,
   "metadata": {
    "collapsed": false
   },
   "outputs": [
    {
     "name": "stdout",
     "output_type": "stream",
     "text": [
      "evaluate based on: rating, prediction\n",
      "4.30716103235\n"
     ]
    }
   ],
   "source": [
    "rec_evaluator_loop2 = RecoRegressionEvaluation(labelCol=\"rating\",\n",
    "                                         predictionCol=\"prediction\")\n",
    "\n",
    "rec_score_loop2 = rec_evaluator_loop2.evaluate(predictions_loop2)\n",
    "\n",
    "print(rec_score_loop2)"
   ]
  },
  {
   "cell_type": "markdown",
   "metadata": {},
   "source": [
    "## 4.3. integrate averaging into a `MovieRecommender`-like class\n",
    "\n",
    "Let's put that recommendation into a distinct class, and work on the integration with `MovieRecommender_loop1`."
   ]
  },
  {
   "cell_type": "code",
   "execution_count": 30,
   "metadata": {
    "collapsed": true
   },
   "outputs": [],
   "source": [
    "class MovieRecommender_loop2():\n",
    "    def fit(self, training_df):\n",
    "        self.avg_ratings = training_df.select('movie','rating')\\\n",
    "                                      .groupBy('movie')\\\n",
    "                                      .agg(F.avg('rating'))\\\n",
    "                                      .withColumnRenamed('avg(rating)','avg_rating')\n",
    "\n",
    "    def transform(self, requests_df):\n",
    "        return(requests_df.join(self.avg_ratings, 'movie', 'left')\\\n",
    "                          .withColumnRenamed('avg_rating','prediction'))"
   ]
  },
  {
   "cell_type": "code",
   "execution_count": 31,
   "metadata": {
    "collapsed": false
   },
   "outputs": [
    {
     "name": "stdout",
     "output_type": "stream",
     "text": [
      "CPU times: user 4.76 ms, sys: 1.77 ms, total: 6.53 ms\n",
      "Wall time: 42.2 ms\n",
      "CPU times: user 1.2 ms, sys: 224 µs, total: 1.42 ms\n",
      "Wall time: 23 ms\n",
      "evaluate based on: rating, prediction\n",
      "4.27444565613\n"
     ]
    }
   ],
   "source": [
    "mr2 = MovieRecommender_loop2()\n",
    "\n",
    "%time mr2.fit(training)\n",
    "\n",
    "rec_evaluator_loop2 = RecoRegressionEvaluation(labelCol=\"rating\",\n",
    "                                         predictionCol=\"prediction\")\n",
    "\n",
    "%time predictions_loop2 = mr2.transform(testing)\n",
    "\n",
    "print(rec_evaluator_loop2.evaluate(predictions_loop2))"
   ]
  },
  {
   "cell_type": "markdown",
   "metadata": {},
   "source": [
    "## 4.4. develop a pipeline between loop1 and loop2\n",
    "\n",
    "Now let's build a class that would aggregate ratings from loop1 and loop2."
   ]
  },
  {
   "cell_type": "code",
   "execution_count": 32,
   "metadata": {
    "collapsed": false
   },
   "outputs": [],
   "source": [
    "class MovieRecommender_agg_loop2():\n",
    "    def __init__(self):\n",
    "        self.mr1 = MovieRecommender_loop1()\n",
    "        self.mr2 = MovieRecommender_loop2()\n",
    "        \n",
    "    def fit(self, training_df):\n",
    "        self.mr1.fit(training_df)\n",
    "        self.mr2.fit(training_df)\n",
    "        \n",
    "    def transform(self, requests_df):\n",
    "        pred_loop1 = self.mr1.transform(requests_df)\\\n",
    "                        .withColumnRenamed('prediction','prediction_loop1')\n",
    "\n",
    "        pred_loop2 = self.mr2.transform(pred_loop1)\\\n",
    "                        .withColumnRenamed('prediction','prediction_loop2')\n",
    "\n",
    "        results_loop2 = pred_loop2.withColumn('prediction',\n",
    "                                      F.when(F.isnan('prediction_loop1'),\n",
    "                                             F.col('prediction_loop2'))\\\n",
    "                                             .otherwise(F.col('prediction_loop1')))\n",
    "\n",
    "        #results_loop2.show(5)\n",
    "        return(results_loop2)"
   ]
  },
  {
   "cell_type": "code",
   "execution_count": 33,
   "metadata": {
    "collapsed": false
   },
   "outputs": [
    {
     "name": "stdout",
     "output_type": "stream",
     "text": [
      "CPU times: user 23.2 ms, sys: 36.3 ms, total: 59.5 ms\n",
      "Wall time: 1min 9s\n"
     ]
    }
   ],
   "source": [
    "mr_agg2 = MovieRecommender_agg_loop2()\n",
    "\n",
    "%time mr_agg2.fit(training)"
   ]
  },
  {
   "cell_type": "code",
   "execution_count": 34,
   "metadata": {
    "collapsed": false
   },
   "outputs": [
    {
     "name": "stdout",
     "output_type": "stream",
     "text": [
      "CPU times: user 6.53 ms, sys: 2.2 ms, total: 8.72 ms\n",
      "Wall time: 207 ms\n",
      "evaluate based on: rating, prediction\n",
      "4.30716103235\n"
     ]
    }
   ],
   "source": [
    "rec_evaluator_loop2 = RecoRegressionEvaluation(labelCol=\"rating\",\n",
    "                                         predictionCol=\"prediction\")\n",
    "\n",
    "%time predictions_agg2 = mr_agg2.transform(testing)\n",
    "\n",
    "print(rec_evaluator_loop2.evaluate(predictions_agg2))"
   ]
  },
  {
   "cell_type": "markdown",
   "metadata": {},
   "source": [
    "## 4.5. generate a new submission file [`loop2.csv`]\n",
    "\n",
    "This time, we train on the whole `ratings.csv` dataset instead.\n",
    "\n",
    "_**Note: When run on the testing set, this one will obtain a score of 4.34**_"
   ]
  },
  {
   "cell_type": "code",
   "execution_count": 35,
   "metadata": {
    "collapsed": false
   },
   "outputs": [
    {
     "name": "stdout",
     "output_type": "stream",
     "text": [
      "CPU times: user 27.2 ms, sys: 17.9 ms, total: 45.1 ms\n",
      "Wall time: 54.7 s\n"
     ]
    }
   ],
   "source": [
    "mr_agg2 = MovieRecommender_agg_loop2()\n",
    "\n",
    "%time mr_agg2.fit(ratings)\n",
    "\n",
    "rec_evaluator_loop2 = RecoRegressionEvaluation(labelCol=\"rating\",\n",
    "                                         predictionCol=\"prediction\")\n",
    "\n",
    "write_submission(mr_agg2.transform(requests).na.fill({'prediction':1.0}),\n",
    "                 '../submissions/loop2.csv')"
   ]
  },
  {
   "cell_type": "code",
   "execution_count": null,
   "metadata": {
    "collapsed": true
   },
   "outputs": [],
   "source": []
  }
 ],
 "metadata": {
  "anaconda-cloud": {},
  "kernelspec": {
   "display_name": "Python [conda env:py27]",
   "language": "python",
   "name": "conda-env-py27-py"
  },
  "language_info": {
   "codemirror_mode": {
    "name": "ipython",
    "version": 2
   },
   "file_extension": ".py",
   "mimetype": "text/x-python",
   "name": "python",
   "nbconvert_exporter": "python",
   "pygments_lexer": "ipython2",
   "version": "2.7.12"
  }
 },
 "nbformat": 4,
 "nbformat_minor": 1
}
