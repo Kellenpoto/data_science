{
 "cells": [
  {
   "cell_type": "code",
   "execution_count": 1,
   "id": "compound-narrative",
   "metadata": {},
   "outputs": [],
   "source": [
    "import numpy as np\n",
    "import matplotlib.pyplot as plt"
   ]
  },
  {
   "cell_type": "markdown",
   "id": "experienced-exposure",
   "metadata": {},
   "source": [
    "#  Chaos\n",
    "Let's Draw the Logistic Map, which is a well-known example of chaos emerging from a simple equation.\n",
    "\n",
    "Start with the equation:\n",
    "\n",
    "$$x_{n+1} = \\lambda \\cdot x \\cdot (1-x)$$\n",
    "\n",
    "If we start with $\\lambda = 0$, it's easy to see that no matter what initial value we give to $x$, every subsequent value goes to zero."
   ]
  },
  {
   "cell_type": "markdown",
   "id": "caring-atlanta",
   "metadata": {},
   "source": [
    "For $\\lambda >0$, things get interesting. When $\\lambda = 3$, if we start with $x = .5$ and repeat this function a few times we get:\n",
    "\n",
    "$x_0 = 0.5$\n",
    "\n",
    "$x_1 = 3 \\cdot 0.5 \\cdot (1-0.5) = 0.75$\n",
    "\n",
    "$x_2 = 3 \\cdot 0.75 \\cdot (1-0.75) = 0.5625$\n",
    "\n",
    "$x_3 = 3 \\cdot 0.5625 \\cdot (1-0.5625) = 0.579666$\n",
    "\n",
    "$x_4 = 3 \\cdot 0.579666 \\cdot (1-0.579666) = 0.73095$\n",
    "\n",
    "After a few iterations, one of several things happens: either it settles down to a single value, it oscilates between a few fixed values, or it becomes chaotic."
   ]
  },
  {
   "cell_type": "markdown",
   "id": "awful-eating",
   "metadata": {},
   "source": [
    "## Challenge:\n",
    "\n",
    "* Start with $x_0 = .5$\n",
    "\n",
    "* For each value of $\\lambda$ in the range of 0 to 4, iterate from $x_0$ to $x_{10}$ (to let the values settle down). \n",
    "\n",
    "* Then, collect the values of $x_{11}$ through $x_{15}$.\n",
    "\n",
    "* Make a scatter plot of these $x_i$ with $\\lambda$ on the x-axis,"
   ]
  },
  {
   "cell_type": "markdown",
   "id": "elder-tactics",
   "metadata": {},
   "source": [
    "You should get something that looks like this (but with only five points for each value of $\\lambda$):\n",
    "![chaos](img/chaos.png)\n",
    "\n",
    "https://i2.wp.com/geoffboeing.com/wp-content/uploads/2015/03/logistic-bifurcation-full1.png"
   ]
  },
  {
   "cell_type": "code",
   "execution_count": null,
   "id": "marine-interstate",
   "metadata": {},
   "outputs": [],
   "source": []
  }
 ],
 "metadata": {
  "kernelspec": {
   "display_name": "Python 3",
   "language": "python",
   "name": "python3"
  },
  "language_info": {
   "codemirror_mode": {
    "name": "ipython",
    "version": 3
   },
   "file_extension": ".py",
   "mimetype": "text/x-python",
   "name": "python",
   "nbconvert_exporter": "python",
   "pygments_lexer": "ipython3",
   "version": "3.8.5"
  }
 },
 "nbformat": 4,
 "nbformat_minor": 5
}
