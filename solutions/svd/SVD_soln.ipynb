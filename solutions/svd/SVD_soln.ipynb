{
 "cells": [
  {
   "cell_type": "code",
   "execution_count": 1,
   "metadata": {},
   "outputs": [],
   "source": [
    "import pandas as pd\n",
    "import numpy as np\n",
    "import matplotlib.pyplot as plt\n",
    "%matplotlib inline"
   ]
  },
  {
   "cell_type": "markdown",
   "metadata": {},
   "source": [
    "## SVD for Dimensionality Reduction\n",
    "\n",
    "## Introduction\n",
    "There are a few techniques to actually perform the reduction.  In this portion of the sprint we will use Singular Value decomposition (SVD) to deconstruct a feature matrix and perform a dimensionality reduction.\n",
    "\n",
    "#### Dataset\n",
    "We will be using a [book review](http://www2.informatik.uni-freiburg.de/~cziegler/BX/) dataset.  To make the matrix decomposition a little more tractable in the given time, the data files have already been joined and a sample of users and books have been taken.\n",
    "\n",
    "There are 6100 books and 2500 users in the `data/book_reviews.csv`.  Each row corresponds to a given user's rating of a book.\n",
    "\n",
    "## Basic\n",
    "### Part 1: Prepare the data\n",
    "A common technique for both improving the quality of a recommendation as well as handling sparse data is matrix factorization.  We will be using Singular value decomposition ([SVD](http://en.wikipedia.org/wiki/Singular_value_decomposition)) to factor our reviews matrix.  This has the effect of reducing the dimension of our feature space and also uncovers latent features (similar to the topics from our document clustering): if we are talking about book reviews, latent features might correspond to given genres or styles.\n",
    "\n",
    "1. Load in the `data/book_reviews.csv` data file to a dataframe."
   ]
  },
  {
   "cell_type": "code",
   "execution_count": 2,
   "metadata": {},
   "outputs": [],
   "source": [
    "ratings = pd.read_csv('data/book_reviews.csv')"
   ]
  },
  {
   "cell_type": "code",
   "execution_count": 3,
   "metadata": {},
   "outputs": [
    {
     "data": {
      "text/html": [
       "<div>\n",
       "<style scoped>\n",
       "    .dataframe tbody tr th:only-of-type {\n",
       "        vertical-align: middle;\n",
       "    }\n",
       "\n",
       "    .dataframe tbody tr th {\n",
       "        vertical-align: top;\n",
       "    }\n",
       "\n",
       "    .dataframe thead th {\n",
       "        text-align: right;\n",
       "    }\n",
       "</style>\n",
       "<table border=\"1\" class=\"dataframe\">\n",
       "  <thead>\n",
       "    <tr style=\"text-align: right;\">\n",
       "      <th></th>\n",
       "      <th>User-ID</th>\n",
       "      <th>ISBN</th>\n",
       "      <th>Book-Rating</th>\n",
       "    </tr>\n",
       "  </thead>\n",
       "  <tbody>\n",
       "    <tr>\n",
       "      <th>0</th>\n",
       "      <td>277195</td>\n",
       "      <td>0060391626</td>\n",
       "      <td>10</td>\n",
       "    </tr>\n",
       "    <tr>\n",
       "      <th>1</th>\n",
       "      <td>277195</td>\n",
       "      <td>0060502258</td>\n",
       "      <td>0</td>\n",
       "    </tr>\n",
       "    <tr>\n",
       "      <th>2</th>\n",
       "      <td>277195</td>\n",
       "      <td>0060987561</td>\n",
       "      <td>0</td>\n",
       "    </tr>\n",
       "    <tr>\n",
       "      <th>3</th>\n",
       "      <td>277195</td>\n",
       "      <td>0316666343</td>\n",
       "      <td>0</td>\n",
       "    </tr>\n",
       "    <tr>\n",
       "      <th>4</th>\n",
       "      <td>277195</td>\n",
       "      <td>0316734837</td>\n",
       "      <td>0</td>\n",
       "    </tr>\n",
       "  </tbody>\n",
       "</table>\n",
       "</div>"
      ],
      "text/plain": [
       "   User-ID        ISBN  Book-Rating\n",
       "0   277195  0060391626           10\n",
       "1   277195  0060502258            0\n",
       "2   277195  0060987561            0\n",
       "3   277195  0316666343            0\n",
       "4   277195  0316734837            0"
      ]
     },
     "execution_count": 3,
     "metadata": {},
     "output_type": "execute_result"
    }
   ],
   "source": [
    "ratings.head()"
   ]
  },
  {
   "cell_type": "code",
   "execution_count": 4,
   "metadata": {},
   "outputs": [
    {
     "data": {
      "text/plain": [
       "(220995, 3)"
      ]
     },
     "execution_count": 4,
     "metadata": {},
     "output_type": "execute_result"
    }
   ],
   "source": [
    "ratings.shape"
   ]
  },
  {
   "cell_type": "markdown",
   "metadata": {},
   "source": [
    "2. Once the data is loaded we need to transform it into a feature matrix.  [Pivot](http://pandas.pydata.org/pandas-docs/stable/generated/pandas.DataFrame.pivot.html) the data such that each row represents a user, and each column (feature) represents their review of that book.  Represent missing data by a value of -1."
   ]
  },
  {
   "cell_type": "code",
   "execution_count": 5,
   "metadata": {},
   "outputs": [],
   "source": [
    "pv = ratings.pivot(index='User-ID', columns='ISBN', values='Book-Rating').fillna(-1)"
   ]
  },
  {
   "cell_type": "code",
   "execution_count": 6,
   "metadata": {
    "scrolled": true
   },
   "outputs": [
    {
     "data": {
      "text/html": [
       "<div>\n",
       "<style scoped>\n",
       "    .dataframe tbody tr th:only-of-type {\n",
       "        vertical-align: middle;\n",
       "    }\n",
       "\n",
       "    .dataframe tbody tr th {\n",
       "        vertical-align: top;\n",
       "    }\n",
       "\n",
       "    .dataframe thead th {\n",
       "        text-align: right;\n",
       "    }\n",
       "</style>\n",
       "<table border=\"1\" class=\"dataframe\">\n",
       "  <thead>\n",
       "    <tr style=\"text-align: right;\">\n",
       "      <th>ISBN</th>\n",
       "      <th>0006493580</th>\n",
       "      <th>000649840X</th>\n",
       "      <th>0006512135</th>\n",
       "      <th>0006513204</th>\n",
       "      <th>0006514855</th>\n",
       "      <th>0006547834</th>\n",
       "      <th>0006550576</th>\n",
       "      <th>0006550681</th>\n",
       "      <th>0006550789</th>\n",
       "      <th>0007110928</th>\n",
       "      <th>...</th>\n",
       "      <th>8495618605</th>\n",
       "      <th>8497593588</th>\n",
       "      <th>8804342838</th>\n",
       "      <th>8806142100</th>\n",
       "      <th>8806143042</th>\n",
       "      <th>8807813025</th>\n",
       "      <th>8817106100</th>\n",
       "      <th>8845205118</th>\n",
       "      <th>8873122933</th>\n",
       "      <th>8885989403</th>\n",
       "    </tr>\n",
       "    <tr>\n",
       "      <th>User-ID</th>\n",
       "      <th></th>\n",
       "      <th></th>\n",
       "      <th></th>\n",
       "      <th></th>\n",
       "      <th></th>\n",
       "      <th></th>\n",
       "      <th></th>\n",
       "      <th></th>\n",
       "      <th></th>\n",
       "      <th></th>\n",
       "      <th></th>\n",
       "      <th></th>\n",
       "      <th></th>\n",
       "      <th></th>\n",
       "      <th></th>\n",
       "      <th></th>\n",
       "      <th></th>\n",
       "      <th></th>\n",
       "      <th></th>\n",
       "      <th></th>\n",
       "      <th></th>\n",
       "    </tr>\n",
       "  </thead>\n",
       "  <tbody>\n",
       "    <tr>\n",
       "      <th>243</th>\n",
       "      <td>-1.0</td>\n",
       "      <td>-1.0</td>\n",
       "      <td>-1.0</td>\n",
       "      <td>-1.0</td>\n",
       "      <td>-1.0</td>\n",
       "      <td>-1.0</td>\n",
       "      <td>-1.0</td>\n",
       "      <td>-1.0</td>\n",
       "      <td>-1.0</td>\n",
       "      <td>-1.0</td>\n",
       "      <td>...</td>\n",
       "      <td>-1.0</td>\n",
       "      <td>-1.0</td>\n",
       "      <td>-1.0</td>\n",
       "      <td>-1.0</td>\n",
       "      <td>-1.0</td>\n",
       "      <td>-1.0</td>\n",
       "      <td>-1.0</td>\n",
       "      <td>-1.0</td>\n",
       "      <td>-1.0</td>\n",
       "      <td>-1.0</td>\n",
       "    </tr>\n",
       "    <tr>\n",
       "      <th>254</th>\n",
       "      <td>-1.0</td>\n",
       "      <td>-1.0</td>\n",
       "      <td>-1.0</td>\n",
       "      <td>-1.0</td>\n",
       "      <td>-1.0</td>\n",
       "      <td>-1.0</td>\n",
       "      <td>-1.0</td>\n",
       "      <td>-1.0</td>\n",
       "      <td>-1.0</td>\n",
       "      <td>-1.0</td>\n",
       "      <td>...</td>\n",
       "      <td>-1.0</td>\n",
       "      <td>-1.0</td>\n",
       "      <td>-1.0</td>\n",
       "      <td>-1.0</td>\n",
       "      <td>-1.0</td>\n",
       "      <td>-1.0</td>\n",
       "      <td>-1.0</td>\n",
       "      <td>-1.0</td>\n",
       "      <td>-1.0</td>\n",
       "      <td>-1.0</td>\n",
       "    </tr>\n",
       "    <tr>\n",
       "      <th>507</th>\n",
       "      <td>-1.0</td>\n",
       "      <td>-1.0</td>\n",
       "      <td>-1.0</td>\n",
       "      <td>-1.0</td>\n",
       "      <td>-1.0</td>\n",
       "      <td>-1.0</td>\n",
       "      <td>-1.0</td>\n",
       "      <td>-1.0</td>\n",
       "      <td>-1.0</td>\n",
       "      <td>-1.0</td>\n",
       "      <td>...</td>\n",
       "      <td>-1.0</td>\n",
       "      <td>-1.0</td>\n",
       "      <td>-1.0</td>\n",
       "      <td>-1.0</td>\n",
       "      <td>-1.0</td>\n",
       "      <td>-1.0</td>\n",
       "      <td>-1.0</td>\n",
       "      <td>-1.0</td>\n",
       "      <td>-1.0</td>\n",
       "      <td>-1.0</td>\n",
       "    </tr>\n",
       "    <tr>\n",
       "      <th>638</th>\n",
       "      <td>-1.0</td>\n",
       "      <td>-1.0</td>\n",
       "      <td>-1.0</td>\n",
       "      <td>-1.0</td>\n",
       "      <td>-1.0</td>\n",
       "      <td>-1.0</td>\n",
       "      <td>-1.0</td>\n",
       "      <td>-1.0</td>\n",
       "      <td>-1.0</td>\n",
       "      <td>-1.0</td>\n",
       "      <td>...</td>\n",
       "      <td>-1.0</td>\n",
       "      <td>-1.0</td>\n",
       "      <td>-1.0</td>\n",
       "      <td>-1.0</td>\n",
       "      <td>-1.0</td>\n",
       "      <td>-1.0</td>\n",
       "      <td>-1.0</td>\n",
       "      <td>-1.0</td>\n",
       "      <td>-1.0</td>\n",
       "      <td>-1.0</td>\n",
       "    </tr>\n",
       "    <tr>\n",
       "      <th>805</th>\n",
       "      <td>-1.0</td>\n",
       "      <td>-1.0</td>\n",
       "      <td>-1.0</td>\n",
       "      <td>-1.0</td>\n",
       "      <td>-1.0</td>\n",
       "      <td>-1.0</td>\n",
       "      <td>-1.0</td>\n",
       "      <td>-1.0</td>\n",
       "      <td>-1.0</td>\n",
       "      <td>-1.0</td>\n",
       "      <td>...</td>\n",
       "      <td>-1.0</td>\n",
       "      <td>-1.0</td>\n",
       "      <td>-1.0</td>\n",
       "      <td>-1.0</td>\n",
       "      <td>-1.0</td>\n",
       "      <td>-1.0</td>\n",
       "      <td>-1.0</td>\n",
       "      <td>-1.0</td>\n",
       "      <td>-1.0</td>\n",
       "      <td>-1.0</td>\n",
       "    </tr>\n",
       "  </tbody>\n",
       "</table>\n",
       "<p>5 rows × 6092 columns</p>\n",
       "</div>"
      ],
      "text/plain": [
       "ISBN     0006493580  000649840X  0006512135  0006513204  0006514855  \\\n",
       "User-ID                                                               \n",
       "243            -1.0        -1.0        -1.0        -1.0        -1.0   \n",
       "254            -1.0        -1.0        -1.0        -1.0        -1.0   \n",
       "507            -1.0        -1.0        -1.0        -1.0        -1.0   \n",
       "638            -1.0        -1.0        -1.0        -1.0        -1.0   \n",
       "805            -1.0        -1.0        -1.0        -1.0        -1.0   \n",
       "\n",
       "ISBN     0006547834  0006550576  0006550681  0006550789  0007110928  ...  \\\n",
       "User-ID                                                              ...   \n",
       "243            -1.0        -1.0        -1.0        -1.0        -1.0  ...   \n",
       "254            -1.0        -1.0        -1.0        -1.0        -1.0  ...   \n",
       "507            -1.0        -1.0        -1.0        -1.0        -1.0  ...   \n",
       "638            -1.0        -1.0        -1.0        -1.0        -1.0  ...   \n",
       "805            -1.0        -1.0        -1.0        -1.0        -1.0  ...   \n",
       "\n",
       "ISBN     8495618605  8497593588  8804342838  8806142100  8806143042  \\\n",
       "User-ID                                                               \n",
       "243            -1.0        -1.0        -1.0        -1.0        -1.0   \n",
       "254            -1.0        -1.0        -1.0        -1.0        -1.0   \n",
       "507            -1.0        -1.0        -1.0        -1.0        -1.0   \n",
       "638            -1.0        -1.0        -1.0        -1.0        -1.0   \n",
       "805            -1.0        -1.0        -1.0        -1.0        -1.0   \n",
       "\n",
       "ISBN     8807813025  8817106100  8845205118  8873122933  8885989403  \n",
       "User-ID                                                              \n",
       "243            -1.0        -1.0        -1.0        -1.0        -1.0  \n",
       "254            -1.0        -1.0        -1.0        -1.0        -1.0  \n",
       "507            -1.0        -1.0        -1.0        -1.0        -1.0  \n",
       "638            -1.0        -1.0        -1.0        -1.0        -1.0  \n",
       "805            -1.0        -1.0        -1.0        -1.0        -1.0  \n",
       "\n",
       "[5 rows x 6092 columns]"
      ]
     },
     "execution_count": 6,
     "metadata": {},
     "output_type": "execute_result"
    }
   ],
   "source": [
    "pv.head()"
   ]
  },
  {
   "cell_type": "markdown",
   "metadata": {},
   "source": [
    "### Part 2: Factor the Matrices\n",
    "\n",
    "#### SVD\n",
    "\n",
    "Let us define:\n",
    "\n",
    "* __m__: # of users\n",
    "* __n__: # of items\n",
    "* __k__: # of latent features (also rank of __A__)\n",
    "\n",
    "We will be trying to decompose our rating matrix into 3 component matrices:\n",
    "\n",
    "![http://www.shermanlab.com/science/CS/IR/DiracFockIR2/DiracFockRiemannAndIR_files/image002.gif](http://www.shermanlab.com/science/CS/IR/DiracFockIR2/DiracFockRiemannAndIR_files/image002.gif)\n",
    "\n",
    "* **A** is our user-book rating matrix (__m__ x __n__)\n",
    "\n",
    "    * **U** is our _weights_ matrix (__m__ x __k__)\n",
    "    * **S** is our singular values matrix (__k__ x __k__)\n",
    "    * and **V*** is our features matrix (__k__ x __n__)\n",
    "\n",
    "The larger the singular value (**S** matrix), the more important that latent feature.  Since **U** and **V** are orthogonal to each other, we can rearrange them in order of decreasing singular values.  If we want to reduce the dimension, we simply set a threshold for which columns/rows to cut off (low rank approximation):\n",
    "\n",
    "You can think of the weights matrix as representing how much of each latent feature corresponds to each user, and the features matrix as how much of each item/rating contributes to the latent features.\n",
    "\n",
    "1. Using numpy's [SVD](http://docs.scipy.org/doc/numpy/reference/generated/numpy.linalg.svd.html) method, decompose our rating matrix into 3 component matrices.\n",
    "\n",
    "    Now that we have our component matrices, we would like to inspect the decomposition and determine how many dimensions we should keep.  This is the same process as what we did this morning for the MNIST dataset with the scree-plot."
   ]
  },
  {
   "cell_type": "code",
   "execution_count": 7,
   "metadata": {},
   "outputs": [],
   "source": [
    "U,sigma,VT = np.linalg.svd(pv.values)"
   ]
  },
  {
   "cell_type": "markdown",
   "metadata": {},
   "source": [
    "2. First calculate the power that each singular value represents.  Power is the same as variance of a dimension and we can compute it simply by squaring the singular values."
   ]
  },
  {
   "cell_type": "code",
   "execution_count": 8,
   "metadata": {},
   "outputs": [
    {
     "data": {
      "image/png": "[encoded data removed]",
      "text/plain": [
       "<Figure size 432x288 with 1 Axes>"
      ]
     },
     "metadata": {
      "needs_background": "light"
     },
     "output_type": "display_data"
    }
   ],
   "source": [
    "plt.plot(sigma ** 2);"
   ]
  },
  {
   "cell_type": "code",
   "execution_count": 9,
   "metadata": {},
   "outputs": [
    {
     "data": {
      "image/png": "[encoded data removed]",
      "text/plain": [
       "<Figure size 432x288 with 1 Axes>"
      ]
     },
     "metadata": {
      "needs_background": "light"
     },
     "output_type": "display_data"
    }
   ],
   "source": [
    "plt.plot(sigma ** 2)\n",
    "plt.yscale('log');"
   ]
  },
  {
   "cell_type": "code",
   "execution_count": 10,
   "metadata": {},
   "outputs": [
    {
     "data": {
      "text/plain": [
       "array([3731.97976866,  328.16360612,  234.17776569,  225.39414397,\n",
       "        207.50068729,  193.36447739,  182.80484561,  175.66520289,\n",
       "        167.16553765,  156.86709103])"
      ]
     },
     "execution_count": 10,
     "metadata": {},
     "output_type": "execute_result"
    }
   ],
   "source": [
    "sigma[:10]"
   ]
  },
  {
   "cell_type": "code",
   "execution_count": 11,
   "metadata": {},
   "outputs": [
    {
     "data": {
      "image/png": "[encoded data removed]",
      "text/plain": [
       "<Figure size 432x288 with 1 Axes>"
      ]
     },
     "metadata": {
      "needs_background": "light"
     },
     "output_type": "display_data"
    }
   ],
   "source": [
    "plt.plot(sigma[:20] ** 2);"
   ]
  },
  {
   "cell_type": "code",
   "execution_count": 12,
   "metadata": {},
   "outputs": [
    {
     "data": {
      "image/png": "[encoded data removed]",
      "text/plain": [
       "<Figure size 432x288 with 1 Axes>"
      ]
     },
     "metadata": {
      "needs_background": "light"
     },
     "output_type": "display_data"
    }
   ],
   "source": [
    "plt.plot(sigma[1:20] ** 2);"
   ]
  },
  {
   "cell_type": "markdown",
   "metadata": {},
   "source": [
    "3.  Total power is the sum of the power of each singular value.  Plot the power of each singular value and look for the 'elbow'.  How many singular values should you keep?"
   ]
  },
  {
   "cell_type": "code",
   "execution_count": 13,
   "metadata": {},
   "outputs": [
    {
     "data": {
      "image/png": "[encoded data removed]",
      "text/plain": [
       "<Figure size 432x288 with 1 Axes>"
      ]
     },
     "metadata": {
      "needs_background": "light"
     },
     "output_type": "display_data"
    }
   ],
   "source": [
    "cumulative = np.cumsum(sigma ** 2)\n",
    "plt.plot(cumulative);"
   ]
  },
  {
   "cell_type": "markdown",
   "metadata": {},
   "source": [
    "4.  The reason we might be interested in total power is to have some sense of the information loss of our transformation.  Plot how the total power varies as you add additional singular values, i.e. plot total power of SV1<sup>2</sup>, SV1<sup>2</sup> + SV2<sup>2</sup>, SV1<sup>2</sup> + SV2<sup>2</sup> + SV3<sup>2</sup>, etc.  This is equivalent to the cumulative sum of the squares of the singular values."
   ]
  },
  {
   "cell_type": "code",
   "execution_count": 14,
   "metadata": {},
   "outputs": [],
   "source": [
    "total_power = np.sum(sigma ** 2)"
   ]
  },
  {
   "cell_type": "code",
   "execution_count": 15,
   "metadata": {},
   "outputs": [
    {
     "data": {
      "image/png": "[encoded data removed]",
      "text/plain": [
       "<Figure size 432x288 with 1 Axes>"
      ]
     },
     "metadata": {
      "needs_background": "light"
     },
     "output_type": "display_data"
    }
   ],
   "source": [
    "plt.plot(cumulative/total_power);"
   ]
  },
  {
   "cell_type": "markdown",
   "metadata": {},
   "source": [
    "5.  How many singular values do you need to keep to retain 90% of the total power?"
   ]
  },
  {
   "cell_type": "code",
   "execution_count": 16,
   "metadata": {},
   "outputs": [
    {
     "data": {
      "text/plain": [
       "17314294.50000005"
      ]
     },
     "execution_count": 16,
     "metadata": {},
     "output_type": "execute_result"
    }
   ],
   "source": [
    "total_power * .9"
   ]
  },
  {
   "cell_type": "code",
   "execution_count": 17,
   "metadata": {},
   "outputs": [
    {
     "data": {
      "text/plain": [
       "array([17261873.92349738, 17265354.08239685, 17268816.13136247,\n",
       "       17272273.691154  , 17275722.03438528, 17279165.46728177,\n",
       "       17282599.88202247, 17286020.70480273, 17289440.27780599,\n",
       "       17292852.56226964, 17296256.7960287 , 17299656.24063945,\n",
       "       17303052.33343218, 17306439.78265789, 17309814.71885879,\n",
       "       17313189.45027924, 17316559.90856211, 17319922.37561759,\n",
       "       17323274.23944456, 17326613.64580775])"
      ]
     },
     "execution_count": 17,
     "metadata": {},
     "output_type": "execute_result"
    }
   ],
   "source": [
    "# looks like ~440\n",
    "cumulative[425:445]"
   ]
  },
  {
   "cell_type": "code",
   "execution_count": 18,
   "metadata": {},
   "outputs": [
    {
     "data": {
      "text/plain": [
       "array([0.89727517, 0.89745607, 0.89763603, 0.89781575, 0.897995  ,\n",
       "       0.89817399, 0.89835251, 0.89853032, 0.89870807, 0.89888544,\n",
       "       0.8990624 , 0.8992391 , 0.89941563, 0.89959171, 0.89976714,\n",
       "       0.89994256, 0.90011776, 0.90029254, 0.90046677, 0.90064035])"
      ]
     },
     "execution_count": 18,
     "metadata": {},
     "output_type": "execute_result"
    }
   ],
   "source": [
    "cumulative[425:445]/total_power"
   ]
  },
  {
   "cell_type": "markdown",
   "metadata": {},
   "source": [
    "## Advanced\n",
    "\n",
    "### Part 3: Examine the Topics\n",
    "\n",
    " Now that we have decomposed our matrices, let us try to examine the 'concept/topic' space.  Each row of U connects users to concepts, and each row of V<sup>T</sup> connects concepts to books.  Examine U and V<sup>T</sup>.\n",
    "\n",
    "6. Pick a number of singular values to keep (you'll be evaluating latent topics by eye, so keep it to 10 or so).  Look at V to find which books most contribute to each 'topic'.  For each of these 'topics', print out the title and author of the 10 most relevant books.  __Note: You can get the book metadata from the `data/book_meta.csv` file__  Use:\n",
    "\n",
    "      ```python\n",
    "      meta_data = pd.read_csv('data/book_meta.csv', sep=\";\", error_bad_lines=False, encoding='latin1')\n",
    "      ```\n"
   ]
  },
  {
   "cell_type": "code",
   "execution_count": 19,
   "metadata": {},
   "outputs": [],
   "source": [
    "# keep 10 topics\n",
    "\n",
    "V_10 = VT[:10,:]"
   ]
  },
  {
   "cell_type": "code",
   "execution_count": 20,
   "metadata": {},
   "outputs": [],
   "source": [
    "U_10 = U[:,:10]"
   ]
  },
  {
   "cell_type": "code",
   "execution_count": 21,
   "metadata": {},
   "outputs": [
    {
     "name": "stderr",
     "output_type": "stream",
     "text": [
      "/Users/danielrupp/anaconda3/lib/python3.7/site-packages/IPython/core/interactiveshell.py:3072: DtypeWarning: Columns (3,8,9) have mixed types.Specify dtype option on import or set low_memory=False.\n",
      "  interactivity=interactivity, compiler=compiler, result=result)\n"
     ]
    }
   ],
   "source": [
    "books = pd.read_csv('data/book_meta.csv', sep=';', error_bad_lines=False, encoding='latin1')"
   ]
  },
  {
   "cell_type": "code",
   "execution_count": 22,
   "metadata": {},
   "outputs": [],
   "source": [
    "books = books.set_index('ISBN')"
   ]
  },
  {
   "cell_type": "code",
   "execution_count": 23,
   "metadata": {},
   "outputs": [
    {
     "data": {
      "text/html": [
       "<div>\n",
       "<style scoped>\n",
       "    .dataframe tbody tr th:only-of-type {\n",
       "        vertical-align: middle;\n",
       "    }\n",
       "\n",
       "    .dataframe tbody tr th {\n",
       "        vertical-align: top;\n",
       "    }\n",
       "\n",
       "    .dataframe thead th {\n",
       "        text-align: right;\n",
       "    }\n",
       "</style>\n",
       "<table border=\"1\" class=\"dataframe\">\n",
       "  <thead>\n",
       "    <tr style=\"text-align: right;\">\n",
       "      <th></th>\n",
       "      <th>Book-Title</th>\n",
       "      <th>Book-Author</th>\n",
       "      <th>Year-Of-Publication</th>\n",
       "      <th>Publisher</th>\n",
       "      <th>Image-URL-S</th>\n",
       "      <th>Image-URL-M</th>\n",
       "      <th>Image-URL-L</th>\n",
       "      <th>two</th>\n",
       "      <th>three</th>\n",
       "    </tr>\n",
       "    <tr>\n",
       "      <th>ISBN</th>\n",
       "      <th></th>\n",
       "      <th></th>\n",
       "      <th></th>\n",
       "      <th></th>\n",
       "      <th></th>\n",
       "      <th></th>\n",
       "      <th></th>\n",
       "      <th></th>\n",
       "      <th></th>\n",
       "    </tr>\n",
       "  </thead>\n",
       "  <tbody>\n",
       "    <tr>\n",
       "      <th>0195153448</th>\n",
       "      <td>Classical Mythology</td>\n",
       "      <td>Mark P. O. Morford</td>\n",
       "      <td>2002</td>\n",
       "      <td>Oxford University Press</td>\n",
       "      <td>http://images.amazon.com/images/P/0195153448.0...</td>\n",
       "      <td>http://images.amazon.com/images/P/0195153448.0...</td>\n",
       "      <td>http://images.amazon.com/images/P/0195153448.0...</td>\n",
       "      <td>NaN</td>\n",
       "      <td>NaN</td>\n",
       "    </tr>\n",
       "    <tr>\n",
       "      <th>0002005018</th>\n",
       "      <td>Clara Callan</td>\n",
       "      <td>Richard Bruce Wright</td>\n",
       "      <td>2001</td>\n",
       "      <td>HarperFlamingo Canada</td>\n",
       "      <td>http://images.amazon.com/images/P/0002005018.0...</td>\n",
       "      <td>http://images.amazon.com/images/P/0002005018.0...</td>\n",
       "      <td>http://images.amazon.com/images/P/0002005018.0...</td>\n",
       "      <td>NaN</td>\n",
       "      <td>NaN</td>\n",
       "    </tr>\n",
       "    <tr>\n",
       "      <th>0060973129</th>\n",
       "      <td>Decision in Normandy</td>\n",
       "      <td>Carlo D'Este</td>\n",
       "      <td>1991</td>\n",
       "      <td>HarperPerennial</td>\n",
       "      <td>http://images.amazon.com/images/P/0060973129.0...</td>\n",
       "      <td>http://images.amazon.com/images/P/0060973129.0...</td>\n",
       "      <td>http://images.amazon.com/images/P/0060973129.0...</td>\n",
       "      <td>NaN</td>\n",
       "      <td>NaN</td>\n",
       "    </tr>\n",
       "    <tr>\n",
       "      <th>0374157065</th>\n",
       "      <td>Flu: The Story of the Great Influenza Pandemic...</td>\n",
       "      <td>Gina Bari Kolata</td>\n",
       "      <td>1999</td>\n",
       "      <td>Farrar Straus Giroux</td>\n",
       "      <td>http://images.amazon.com/images/P/0374157065.0...</td>\n",
       "      <td>http://images.amazon.com/images/P/0374157065.0...</td>\n",
       "      <td>http://images.amazon.com/images/P/0374157065.0...</td>\n",
       "      <td>NaN</td>\n",
       "      <td>NaN</td>\n",
       "    </tr>\n",
       "    <tr>\n",
       "      <th>0393045218</th>\n",
       "      <td>The Mummies of Urumchi</td>\n",
       "      <td>E. J. W. Barber</td>\n",
       "      <td>1999</td>\n",
       "      <td>W. W. Norton &amp;amp; Company</td>\n",
       "      <td>http://images.amazon.com/images/P/0393045218.0...</td>\n",
       "      <td>http://images.amazon.com/images/P/0393045218.0...</td>\n",
       "      <td>http://images.amazon.com/images/P/0393045218.0...</td>\n",
       "      <td>NaN</td>\n",
       "      <td>NaN</td>\n",
       "    </tr>\n",
       "  </tbody>\n",
       "</table>\n",
       "</div>"
      ],
      "text/plain": [
       "                                                   Book-Title  \\\n",
       "ISBN                                                            \n",
       "0195153448                                Classical Mythology   \n",
       "0002005018                                       Clara Callan   \n",
       "0060973129                               Decision in Normandy   \n",
       "0374157065  Flu: The Story of the Great Influenza Pandemic...   \n",
       "0393045218                             The Mummies of Urumchi   \n",
       "\n",
       "                     Book-Author Year-Of-Publication  \\\n",
       "ISBN                                                   \n",
       "0195153448    Mark P. O. Morford                2002   \n",
       "0002005018  Richard Bruce Wright                2001   \n",
       "0060973129          Carlo D'Este                1991   \n",
       "0374157065      Gina Bari Kolata                1999   \n",
       "0393045218       E. J. W. Barber                1999   \n",
       "\n",
       "                             Publisher  \\\n",
       "ISBN                                     \n",
       "0195153448     Oxford University Press   \n",
       "0002005018       HarperFlamingo Canada   \n",
       "0060973129             HarperPerennial   \n",
       "0374157065        Farrar Straus Giroux   \n",
       "0393045218  W. W. Norton &amp; Company   \n",
       "\n",
       "                                                  Image-URL-S  \\\n",
       "ISBN                                                            \n",
       "0195153448  http://images.amazon.com/images/P/0195153448.0...   \n",
       "0002005018  http://images.amazon.com/images/P/0002005018.0...   \n",
       "0060973129  http://images.amazon.com/images/P/0060973129.0...   \n",
       "0374157065  http://images.amazon.com/images/P/0374157065.0...   \n",
       "0393045218  http://images.amazon.com/images/P/0393045218.0...   \n",
       "\n",
       "                                                  Image-URL-M  \\\n",
       "ISBN                                                            \n",
       "0195153448  http://images.amazon.com/images/P/0195153448.0...   \n",
       "0002005018  http://images.amazon.com/images/P/0002005018.0...   \n",
       "0060973129  http://images.amazon.com/images/P/0060973129.0...   \n",
       "0374157065  http://images.amazon.com/images/P/0374157065.0...   \n",
       "0393045218  http://images.amazon.com/images/P/0393045218.0...   \n",
       "\n",
       "                                                  Image-URL-L  two three  \n",
       "ISBN                                                                      \n",
       "0195153448  http://images.amazon.com/images/P/0195153448.0...  NaN   NaN  \n",
       "0002005018  http://images.amazon.com/images/P/0002005018.0...  NaN   NaN  \n",
       "0060973129  http://images.amazon.com/images/P/0060973129.0...  NaN   NaN  \n",
       "0374157065  http://images.amazon.com/images/P/0374157065.0...  NaN   NaN  \n",
       "0393045218  http://images.amazon.com/images/P/0393045218.0...  NaN   NaN  "
      ]
     },
     "execution_count": 23,
     "metadata": {},
     "output_type": "execute_result"
    }
   ],
   "source": [
    "books.head()"
   ]
  },
  {
   "cell_type": "code",
   "execution_count": 24,
   "metadata": {},
   "outputs": [],
   "source": [
    "def print_titles(topic, n):\n",
    "    idx = np.argsort(topic)\n",
    "    reverse_idx = idx[::-1]\n",
    "    for i in pv.columns[reverse_idx[:n]]:\n",
    "        try:\n",
    "            print(books.loc[i,'Book-Title'] + \" : \" + books.loc[i,'Book-Author'])\n",
    "        except Exception:\n",
    "            continue"
   ]
  },
  {
   "cell_type": "code",
   "execution_count": 25,
   "metadata": {},
   "outputs": [
    {
     "data": {
      "text/plain": [
       "array([0.0131897 , 0.01282525, 0.01330851, ..., 0.01335105, 0.0133207 ,\n",
       "       0.01336193])"
      ]
     },
     "execution_count": 25,
     "metadata": {},
     "output_type": "execute_result"
    }
   ],
   "source": [
    "V_10[0]"
   ]
  },
  {
   "cell_type": "code",
   "execution_count": 26,
   "metadata": {},
   "outputs": [
    {
     "data": {
      "text/plain": [
       "array([-0.00760107,  0.01572755, -0.01055016, ..., -0.01050403,\n",
       "       -0.0074521 , -0.00762351])"
      ]
     },
     "execution_count": 26,
     "metadata": {},
     "output_type": "execute_result"
    }
   ],
   "source": [
    "V_10[1]"
   ]
  },
  {
   "cell_type": "code",
   "execution_count": 27,
   "metadata": {
    "scrolled": false
   },
   "outputs": [
    {
     "name": "stdout",
     "output_type": "stream",
     "text": [
      "Topic #0 :\n",
      "\n",
      "\n",
      "Name Der Rose : Umberto Eco\n",
      "Monsieur Ibrahim und die Blumen des Koran. ErzÃ?Â¤hlung. : Eric-Emmanuel Schmitt\n",
      "Artemis Fowl. : Eoin Colfer\n",
      "Novocento, Un Monologo : Alessandro Baricco\n",
      "Schlafes Bruder : Robert Schneider\n",
      "New Vegetarian: Bold and Beautiful Recipes for Every Occasion : Celia Brooks Brown\n",
      "Der Alchimist. : Paulo Coelho\n",
      "Die Weiss Lowin / Contemporary German Lit : Henning Mankell\n",
      "Crazy : Benjamin Lebert\n",
      "Free : Paul Vincent\n",
      "\n",
      "\n",
      "Topic #1 :\n",
      "\n",
      "\n",
      "The Red Tent (Bestselling Backlist) : Anita Diamant\n",
      "The Lovely Bones: A Novel : Alice Sebold\n",
      "The Da Vinci Code : Dan Brown\n",
      "Where the Heart Is (Oprah's Book Club (Paperback)) : Billie Letts\n",
      "Two for the Dough : Janet Evanovich\n",
      "Snow Falling on Cedars : David Guterson\n",
      "Harry Potter and the Sorcerer's Stone (Harry Potter (Paperback)) : J. K. Rowling\n",
      "1st to Die: A Novel : James Patterson\n",
      "Good in Bed : Jennifer Weiner\n",
      "Tuesdays with Morrie: An Old Man, a Young Man, and Life's Greatest Lesson : MITCH ALBOM\n",
      "\n",
      "\n",
      "Topic #2 :\n",
      "\n",
      "\n",
      "The Red Tent (Bestselling Backlist) : Anita Diamant\n",
      "Dance upon the Air (Three Sisters Island Trilogy) : Nora Roberts\n",
      "The Lovely Bones: A Novel : Alice Sebold\n",
      "Face the Fire (Three Sisters Island Trilogy) : Nora Roberts\n",
      "Heart of the Sea (Irish Trilogy) : Nora Roberts\n",
      "Jewels of the Sun (Irish Trilogy) : Nora Roberts\n",
      "Key of Valor (Roberts, Nora. Key Trilogy, 3.) : Nora Roberts\n",
      "Tears of the Moon (Irish Trilogy) : Nora Roberts\n",
      "Key of Light (Key Trilogy (Paperback)) : Nora Roberts\n",
      "\n",
      "\n",
      "Topic #3 :\n",
      "\n",
      "\n",
      "The Lovely Bones: A Novel : Alice Sebold\n",
      "The Red Tent (Bestselling Backlist) : Anita Diamant\n",
      "A Time to Kill : JOHN GRISHAM\n",
      "The Pilot's Wife : A Novel : Anita Shreve\n",
      "Divine Secrets of the Ya-Ya Sisterhood: A Novel : Rebecca Wells\n",
      "The Pelican Brief : John Grisham\n",
      "Where the Heart Is (Oprah's Book Club (Paperback)) : Billie Letts\n",
      "The Secret Life of Bees : Sue Monk Kidd\n",
      "Harry Potter and the Sorcerer's Stone (Harry Potter (Paperback)) : J. K. Rowling\n",
      "\n",
      "\n",
      "Topic #4 :\n",
      "\n",
      "\n",
      "The Lovely Bones: A Novel : Alice Sebold\n",
      "The Firm : John Grisham\n",
      "The Pelican Brief : John Grisham\n",
      "A Time to Kill : JOHN GRISHAM\n",
      "Silence of the Lambs : Thomas Harris\n",
      "The Chamber : John Grisham\n",
      "The Client : John Grisham\n",
      "The Dark Half : Stephen King\n",
      "The Red Tent (Bestselling Backlist) : Anita Diamant\n",
      "The Tommyknockers : Stephen King\n",
      "\n",
      "\n",
      "Topic #5 :\n",
      "\n",
      "\n",
      "Harry Potter and the Order of the Phoenix (Book 5) : J. K. Rowling\n",
      "Harry Potter and the Goblet of Fire (Book 4) : J. K. Rowling\n",
      "Harry Potter and the Prisoner of Azkaban (Book 3) : J. K. Rowling\n",
      "Harry Potter and the Chamber of Secrets (Book 2) : J. K. Rowling\n",
      "The Lovely Bones: A Novel : Alice Sebold\n",
      "Harry Potter and the Sorcerer's Stone (Harry Potter (Paperback)) : J. K. Rowling\n",
      "Harry Potter and the Sorcerer's Stone (Book 1) : J. K. Rowling\n",
      "The Da Vinci Code : Dan Brown\n",
      "Harry Potter and the Prisoner of Azkaban (Book 3) : J. K. Rowling\n",
      "To the Nines: A Stephanie Plum Novel : Janet Evanovich\n",
      "\n",
      "\n",
      "Topic #6 :\n",
      "\n",
      "\n",
      "Harry Potter and the Order of the Phoenix (Book 5) : J. K. Rowling\n",
      "Harry Potter and the Prisoner of Azkaban (Book 3) : J. K. Rowling\n",
      "Harry Potter and the Chamber of Secrets (Book 2) : J. K. Rowling\n",
      "Harry Potter and the Goblet of Fire (Book 4) : J. K. Rowling\n",
      "Harry Potter and the Sorcerer's Stone (Book 1) : J. K. Rowling\n",
      "The Da Vinci Code : Dan Brown\n",
      "Harry Potter and the Sorcerer's Stone (Harry Potter (Paperback)) : J. K. Rowling\n",
      "Interview with the Vampire : Anne Rice\n",
      "The Vampire Lestat (Vampire Chronicles, Book II) : ANNE RICE\n",
      "The Hobbit : The Enchanting Prelude to The Lord of the Rings : J.R.R. TOLKIEN\n",
      "\n",
      "\n",
      "Topic #7 :\n",
      "\n",
      "\n",
      "Three To Get Deadly : A Stephanie Plum Novel (A Stephanie Plum Novel) : Janet Evanovich\n",
      "Harry Potter and the Prisoner of Azkaban (Book 3) : J. K. Rowling\n",
      "High Five (A Stephanie Plum Novel) : Janet Evanovich\n",
      "Two for the Dough : Janet Evanovich\n",
      "Four To Score (A Stephanie Plum Novel) : Janet Evanovich\n",
      "Harry Potter and the Order of the Phoenix (Book 5) : J. K. Rowling\n",
      "Seven Up (A Stephanie Plum Novel) : Janet Evanovich\n",
      "Hot Six : A Stephanie Plum Novel (A Stephanie Plum Novel) : Janet Evanovich\n",
      "Harry Potter and the Goblet of Fire (Book 4) : J. K. Rowling\n",
      "Harry Potter and the Chamber of Secrets (Book 2) : J. K. Rowling\n",
      "\n",
      "\n",
      "Topic #8 :\n",
      "\n",
      "\n",
      "Harry Potter and the Chamber of Secrets (Book 2) : J. K. Rowling\n",
      "Harry Potter and the Prisoner of Azkaban (Book 3) : J. K. Rowling\n",
      "Harry Potter and the Sorcerer's Stone (Book 1) : J. K. Rowling\n",
      "Harry Potter and the Goblet of Fire (Book 4) : J. K. Rowling\n",
      "Harry Potter and the Order of the Phoenix (Book 5) : J. K. Rowling\n",
      "Where the Heart Is (Oprah's Book Club (Paperback)) : Billie Letts\n",
      "The Bad Beginning (A Series of Unfortunate Events, Book 1) : Lemony Snicket\n",
      "The Notebook : Nicholas Sparks\n",
      "Melody (Logan) : V.C. Andrews\n",
      "Flowers In The Attic (Dollanganger) : V.C. Andrews\n",
      "\n",
      "\n",
      "Topic #9 :\n",
      "\n",
      "\n",
      "The Lovely Bones: A Novel : Alice Sebold\n",
      "The Vampire Lestat (Vampire Chronicles, Book II) : ANNE RICE\n",
      "Born in Shame : Nora Roberts\n",
      "Interview with the Vampire : Anne Rice\n",
      "Harry Potter and the Sorcerer's Stone (Harry Potter (Paperback)) : J. K. Rowling\n",
      "Left Behind: A Novel of the Earth's Last Days (Left Behind No. 1) : Tim Lahaye\n",
      "Tears of the Moon (Irish Trilogy) : Nora Roberts\n",
      "Dance upon the Air (Three Sisters Island Trilogy) : Nora Roberts\n",
      "Heart of the Sea (Irish Trilogy) : Nora Roberts\n",
      "Nicolae: The Rise of Antichrist (Left Behind No. 3) : Tim F. Lahaye\n",
      "\n",
      "\n"
     ]
    }
   ],
   "source": [
    "for i in range(len(V_10)):\n",
    "    print(\"Topic #{} :\".format(i))\n",
    "    print(\"\\n\")\n",
    "    print_titles(np.abs(V_10[i]), 10)\n",
    "    print(\"\\n\")"
   ]
  },
  {
   "cell_type": "markdown",
   "metadata": {},
   "source": [
    "7. What does each concept represent?  Can you give them names based on which books comprise them?"
   ]
  },
  {
   "cell_type": "markdown",
   "metadata": {},
   "source": [
    "8. Do the same for the users.  How much of each concept does the first user like?"
   ]
  },
  {
   "cell_type": "code",
   "execution_count": 28,
   "metadata": {},
   "outputs": [
    {
     "data": {
      "text/plain": [
       "array([-0.02033966,  0.00327259, -0.0055954 ,  0.00288085, -0.0019582 ,\n",
       "        0.00617848, -0.01451267,  0.00338496, -0.00870693,  0.00158482])"
      ]
     },
     "execution_count": 28,
     "metadata": {},
     "output_type": "execute_result"
    }
   ],
   "source": [
    "U_10[0]"
   ]
  },
  {
   "cell_type": "code",
   "execution_count": 29,
   "metadata": {},
   "outputs": [
    {
     "data": {
      "text/plain": [
       "5"
      ]
     },
     "execution_count": 29,
     "metadata": {},
     "output_type": "execute_result"
    }
   ],
   "source": [
    "U_10[0].argmax()"
   ]
  },
  {
   "cell_type": "code",
   "execution_count": 30,
   "metadata": {},
   "outputs": [
    {
     "name": "stdout",
     "output_type": "stream",
     "text": [
      "The Lovely Bones: A Novel : Alice Sebold\n",
      "The Da Vinci Code : Dan Brown\n",
      "To the Nines: A Stephanie Plum Novel : Janet Evanovich\n",
      "The Five People You Meet in Heaven : Mitch Albom\n",
      "1st to Die: A Novel : James Patterson\n",
      "The Last Juror : John Grisham\n",
      "2nd Chance : James Patterson\n",
      "Four Blind Mice : James Patterson\n",
      "No Second  Chance : Harlan Coben\n",
      "Full House (Janet Evanovich's Full Series) : Janet Evanovich\n",
      "Seven Up (A Stephanie Plum Novel) : Janet Evanovich\n",
      "The Lake House : James Patterson\n",
      "Blow Fly: A Scarpetta Novel : Patricia Cornwell\n",
      "Hard Eight : A Stephanie Plum Novel (A Stephanie Plum Novel) : Janet Evanovich\n",
      "From a Buick 8 : A Novel : Stephen King\n"
     ]
    }
   ],
   "source": [
    "# User likes topic 5 \n",
    "\n",
    "print_titles(V_10[5], 15)"
   ]
  },
  {
   "cell_type": "code",
   "execution_count": null,
   "metadata": {},
   "outputs": [],
   "source": []
  },
  {
   "cell_type": "code",
   "execution_count": null,
   "metadata": {},
   "outputs": [],
   "source": []
  },
  {
   "cell_type": "markdown",
   "metadata": {},
   "source": [
    "## Extra Credit\n",
    "\n",
    "### Part 4: Visualizing High-Dimensional Data\n",
    "\n",
    "We have touched on many of the issues and treatments of dealing with data that has many dimensions for modeling purposes.  This last section will focus on trying to better understand our data through visualization.  One technique that is often employed to visualize data of arbitrary dimensions is [Multidimensional Scaling](http://en.wikipedia.org/wiki/Multidimensional_scaling) (MDS).  The basic idea of MDS is to compute similarity in an arbitrarily high dimension (the dimension of your original data) and project this into a two dimensional space in a way to preserve distances.  Basically the points in 2-D space should have the same distances between them as they had in the higher dimensional space.\n",
    "\n",
    "One classic application of MDS is to visualize voting patterns in the senate.  This is probably so because people love betting on bills like they bet on horse races, but also the senate is a classic example of a partisan 'user base'. We will be working with data from [Vote View](http://www.voteview.com/) and the data dictionary of the structure can be found [here](http://www.voteview.com/senate101.htm).  We will be looking at the Senate votes from the 101-111th senates (1989-2009). Each row of the data corresponds to a single senator and his/her votes for that session of the senate.\n",
    "\n",
    "Lets see if we can discover anything interesting in the way our senators voted in the 90s!\n",
    "\n",
    "1.  Load in the data from `data/senate/*`, making one data frame for each session (you could store these data frames in a dictionary, or make one large dataframe and add another index for session)."
   ]
  },
  {
   "cell_type": "code",
   "execution_count": 31,
   "metadata": {},
   "outputs": [],
   "source": [
    "from sklearn.manifold import MDS\n",
    "from statsmodels.iolib.foreign import genfromdta\n",
    "import os\n",
    "from scipy.spatial import distance\n",
    "import re\n",
    "import math"
   ]
  },
  {
   "cell_type": "code",
   "execution_count": 32,
   "metadata": {},
   "outputs": [],
   "source": [
    "cong = {}\n",
    "\n",
    "for file_n in os.listdir('data/senate'):\n",
    "    senate = file_n.split('.')[0]\n",
    "    cong[senate] = pd.read_csv('data/senate/' + file_n)"
   ]
  },
  {
   "cell_type": "code",
   "execution_count": 33,
   "metadata": {},
   "outputs": [
    {
     "data": {
      "text/html": [
       "<div>\n",
       "<style scoped>\n",
       "    .dataframe tbody tr th:only-of-type {\n",
       "        vertical-align: middle;\n",
       "    }\n",
       "\n",
       "    .dataframe tbody tr th {\n",
       "        vertical-align: top;\n",
       "    }\n",
       "\n",
       "    .dataframe thead th {\n",
       "        text-align: right;\n",
       "    }\n",
       "</style>\n",
       "<table border=\"1\" class=\"dataframe\">\n",
       "  <thead>\n",
       "    <tr style=\"text-align: right;\">\n",
       "      <th></th>\n",
       "      <th>Unnamed: 0</th>\n",
       "      <th>cong</th>\n",
       "      <th>id</th>\n",
       "      <th>state</th>\n",
       "      <th>dist</th>\n",
       "      <th>lstate</th>\n",
       "      <th>party</th>\n",
       "      <th>eh1</th>\n",
       "      <th>eh2</th>\n",
       "      <th>name</th>\n",
       "      <th>...</th>\n",
       "      <th>V629</th>\n",
       "      <th>V630</th>\n",
       "      <th>V631</th>\n",
       "      <th>V632</th>\n",
       "      <th>V633</th>\n",
       "      <th>V634</th>\n",
       "      <th>V635</th>\n",
       "      <th>V636</th>\n",
       "      <th>V637</th>\n",
       "      <th>V638</th>\n",
       "    </tr>\n",
       "  </thead>\n",
       "  <tbody>\n",
       "    <tr>\n",
       "      <th>0</th>\n",
       "      <td>1</td>\n",
       "      <td>101</td>\n",
       "      <td>99908</td>\n",
       "      <td>99</td>\n",
       "      <td>0</td>\n",
       "      <td>USA</td>\n",
       "      <td>200</td>\n",
       "      <td>0</td>\n",
       "      <td>0</td>\n",
       "      <td>BUSH</td>\n",
       "      <td>...</td>\n",
       "      <td>9</td>\n",
       "      <td>9</td>\n",
       "      <td>9</td>\n",
       "      <td>9</td>\n",
       "      <td>9</td>\n",
       "      <td>9</td>\n",
       "      <td>9</td>\n",
       "      <td>9</td>\n",
       "      <td>9</td>\n",
       "      <td>1</td>\n",
       "    </tr>\n",
       "    <tr>\n",
       "      <th>1</th>\n",
       "      <td>2</td>\n",
       "      <td>101</td>\n",
       "      <td>14659</td>\n",
       "      <td>41</td>\n",
       "      <td>0</td>\n",
       "      <td>ALABAMA</td>\n",
       "      <td>100</td>\n",
       "      <td>0</td>\n",
       "      <td>1</td>\n",
       "      <td>SHELBY, RIC</td>\n",
       "      <td>...</td>\n",
       "      <td>1</td>\n",
       "      <td>1</td>\n",
       "      <td>1</td>\n",
       "      <td>1</td>\n",
       "      <td>1</td>\n",
       "      <td>1</td>\n",
       "      <td>1</td>\n",
       "      <td>1</td>\n",
       "      <td>1</td>\n",
       "      <td>6</td>\n",
       "    </tr>\n",
       "    <tr>\n",
       "      <th>2</th>\n",
       "      <td>3</td>\n",
       "      <td>101</td>\n",
       "      <td>14705</td>\n",
       "      <td>41</td>\n",
       "      <td>0</td>\n",
       "      <td>ALABAMA</td>\n",
       "      <td>100</td>\n",
       "      <td>0</td>\n",
       "      <td>1</td>\n",
       "      <td>HEFLIN, HOW</td>\n",
       "      <td>...</td>\n",
       "      <td>1</td>\n",
       "      <td>1</td>\n",
       "      <td>1</td>\n",
       "      <td>1</td>\n",
       "      <td>1</td>\n",
       "      <td>1</td>\n",
       "      <td>1</td>\n",
       "      <td>1</td>\n",
       "      <td>1</td>\n",
       "      <td>6</td>\n",
       "    </tr>\n",
       "    <tr>\n",
       "      <th>3</th>\n",
       "      <td>4</td>\n",
       "      <td>101</td>\n",
       "      <td>12109</td>\n",
       "      <td>81</td>\n",
       "      <td>0</td>\n",
       "      <td>ALASKA</td>\n",
       "      <td>200</td>\n",
       "      <td>0</td>\n",
       "      <td>1</td>\n",
       "      <td>STEVENS, TH</td>\n",
       "      <td>...</td>\n",
       "      <td>1</td>\n",
       "      <td>1</td>\n",
       "      <td>1</td>\n",
       "      <td>1</td>\n",
       "      <td>6</td>\n",
       "      <td>6</td>\n",
       "      <td>1</td>\n",
       "      <td>1</td>\n",
       "      <td>1</td>\n",
       "      <td>1</td>\n",
       "    </tr>\n",
       "    <tr>\n",
       "      <th>4</th>\n",
       "      <td>5</td>\n",
       "      <td>101</td>\n",
       "      <td>14907</td>\n",
       "      <td>81</td>\n",
       "      <td>0</td>\n",
       "      <td>ALASKA</td>\n",
       "      <td>200</td>\n",
       "      <td>0</td>\n",
       "      <td>1</td>\n",
       "      <td>MURKOWSKI,</td>\n",
       "      <td>...</td>\n",
       "      <td>1</td>\n",
       "      <td>1</td>\n",
       "      <td>1</td>\n",
       "      <td>1</td>\n",
       "      <td>6</td>\n",
       "      <td>6</td>\n",
       "      <td>1</td>\n",
       "      <td>1</td>\n",
       "      <td>1</td>\n",
       "      <td>6</td>\n",
       "    </tr>\n",
       "  </tbody>\n",
       "</table>\n",
       "<p>5 rows × 648 columns</p>\n",
       "</div>"
      ],
      "text/plain": [
       "   Unnamed: 0  cong     id  state  dist   lstate  party  eh1  eh2  \\\n",
       "0           1   101  99908     99     0  USA        200    0    0   \n",
       "1           2   101  14659     41     0  ALABAMA    100    0    1   \n",
       "2           3   101  14705     41     0  ALABAMA    100    0    1   \n",
       "3           4   101  12109     81     0  ALASKA     200    0    1   \n",
       "4           5   101  14907     81     0  ALASKA     200    0    1   \n",
       "\n",
       "          name  ...  V629  V630  V631  V632  V633  V634  V635  V636  V637  \\\n",
       "0  BUSH         ...     9     9     9     9     9     9     9     9     9   \n",
       "1  SHELBY, RIC  ...     1     1     1     1     1     1     1     1     1   \n",
       "2  HEFLIN, HOW  ...     1     1     1     1     1     1     1     1     1   \n",
       "3  STEVENS, TH  ...     1     1     1     1     6     6     1     1     1   \n",
       "4  MURKOWSKI,   ...     1     1     1     1     6     6     1     1     1   \n",
       "\n",
       "   V638  \n",
       "0     1  \n",
       "1     6  \n",
       "2     6  \n",
       "3     1  \n",
       "4     6  \n",
       "\n",
       "[5 rows x 648 columns]"
      ]
     },
     "execution_count": 33,
     "metadata": {},
     "output_type": "execute_result"
    }
   ],
   "source": [
    "cong['s101'].head()"
   ]
  },
  {
   "cell_type": "markdown",
   "metadata": {},
   "source": [
    "2. Now that we have our data in a form that is easy to manipulate we need to convert the voting codes.  They are currently on a more complex 0-9 scale, but we should put them on a Yay (1), Nay (-1), abstain (0) scale.  Map every vote accordingly:\n",
    "  * 1,2,3 -> 1\n",
    "  * 4,5,6 -> -1\n",
    "  * 7,8,9,0 -> 0   \n",
    "  \n",
    "While scikit-learn's [MDS](http://scikit-learn.org/stable/modules/generated/sklearn.manifold.MDS.html) can precompute distances for us, it is unfortunately only limited to Euclidean distance.  It does however let us precompute our own distance calculation.\n"
   ]
  },
  {
   "cell_type": "code",
   "execution_count": 34,
   "metadata": {},
   "outputs": [],
   "source": [
    "mapping = {1:  1,\n",
    "           2:  1,\n",
    "           3:  1,\n",
    "           4: -1,\n",
    "           5: -1,\n",
    "           6: -1,\n",
    "           7:  0,\n",
    "           8:  0,\n",
    "           9:  0,\n",
    "           0:  0}\n",
    "\n",
    "def transformers(df):\n",
    "    cols = [ c for c in df.columns if c[0].lower() == 'v']\n",
    "    \n",
    "    df[cols] = df[cols].applymap(lambda x: mapping[x])\n",
    "    \n",
    "for k in cong:\n",
    "    transformers(cong[k])"
   ]
  },
  {
   "cell_type": "code",
   "execution_count": 35,
   "metadata": {},
   "outputs": [
    {
     "data": {
      "text/html": [
       "<div>\n",
       "<style scoped>\n",
       "    .dataframe tbody tr th:only-of-type {\n",
       "        vertical-align: middle;\n",
       "    }\n",
       "\n",
       "    .dataframe tbody tr th {\n",
       "        vertical-align: top;\n",
       "    }\n",
       "\n",
       "    .dataframe thead th {\n",
       "        text-align: right;\n",
       "    }\n",
       "</style>\n",
       "<table border=\"1\" class=\"dataframe\">\n",
       "  <thead>\n",
       "    <tr style=\"text-align: right;\">\n",
       "      <th></th>\n",
       "      <th>Unnamed: 0</th>\n",
       "      <th>cong</th>\n",
       "      <th>id</th>\n",
       "      <th>state</th>\n",
       "      <th>lstate</th>\n",
       "      <th>party</th>\n",
       "      <th>eh1</th>\n",
       "      <th>eh2</th>\n",
       "      <th>name</th>\n",
       "      <th>V1</th>\n",
       "      <th>...</th>\n",
       "      <th>V636</th>\n",
       "      <th>V637</th>\n",
       "      <th>V638</th>\n",
       "      <th>V639</th>\n",
       "      <th>V640</th>\n",
       "      <th>V641</th>\n",
       "      <th>V642</th>\n",
       "      <th>V643</th>\n",
       "      <th>V644</th>\n",
       "      <th>V645</th>\n",
       "    </tr>\n",
       "  </thead>\n",
       "  <tbody>\n",
       "    <tr>\n",
       "      <th>0</th>\n",
       "      <td>1</td>\n",
       "      <td>109</td>\n",
       "      <td>99910</td>\n",
       "      <td>99</td>\n",
       "      <td>USA</td>\n",
       "      <td>200</td>\n",
       "      <td>NaN</td>\n",
       "      <td>NaN</td>\n",
       "      <td>BUSH</td>\n",
       "      <td>0</td>\n",
       "      <td>...</td>\n",
       "      <td>1</td>\n",
       "      <td>-1</td>\n",
       "      <td>1</td>\n",
       "      <td>0</td>\n",
       "      <td>1</td>\n",
       "      <td>0</td>\n",
       "      <td>1</td>\n",
       "      <td>0</td>\n",
       "      <td>0</td>\n",
       "      <td>1</td>\n",
       "    </tr>\n",
       "    <tr>\n",
       "      <th>1</th>\n",
       "      <td>2</td>\n",
       "      <td>109</td>\n",
       "      <td>49700</td>\n",
       "      <td>41</td>\n",
       "      <td>ALABAMA</td>\n",
       "      <td>200</td>\n",
       "      <td>0.0</td>\n",
       "      <td>1.0</td>\n",
       "      <td>SESSIONS</td>\n",
       "      <td>-1</td>\n",
       "      <td>...</td>\n",
       "      <td>1</td>\n",
       "      <td>-1</td>\n",
       "      <td>1</td>\n",
       "      <td>1</td>\n",
       "      <td>1</td>\n",
       "      <td>1</td>\n",
       "      <td>1</td>\n",
       "      <td>1</td>\n",
       "      <td>1</td>\n",
       "      <td>1</td>\n",
       "    </tr>\n",
       "    <tr>\n",
       "      <th>2</th>\n",
       "      <td>3</td>\n",
       "      <td>109</td>\n",
       "      <td>94659</td>\n",
       "      <td>41</td>\n",
       "      <td>ALABAMA</td>\n",
       "      <td>200</td>\n",
       "      <td>0.0</td>\n",
       "      <td>1.0</td>\n",
       "      <td>SHELBY</td>\n",
       "      <td>0</td>\n",
       "      <td>...</td>\n",
       "      <td>1</td>\n",
       "      <td>-1</td>\n",
       "      <td>1</td>\n",
       "      <td>0</td>\n",
       "      <td>1</td>\n",
       "      <td>1</td>\n",
       "      <td>1</td>\n",
       "      <td>1</td>\n",
       "      <td>1</td>\n",
       "      <td>1</td>\n",
       "    </tr>\n",
       "    <tr>\n",
       "      <th>3</th>\n",
       "      <td>4</td>\n",
       "      <td>109</td>\n",
       "      <td>40300</td>\n",
       "      <td>81</td>\n",
       "      <td>ALASKA</td>\n",
       "      <td>200</td>\n",
       "      <td>0.0</td>\n",
       "      <td>1.0</td>\n",
       "      <td>MURKOWSKI</td>\n",
       "      <td>0</td>\n",
       "      <td>...</td>\n",
       "      <td>1</td>\n",
       "      <td>-1</td>\n",
       "      <td>1</td>\n",
       "      <td>1</td>\n",
       "      <td>1</td>\n",
       "      <td>1</td>\n",
       "      <td>1</td>\n",
       "      <td>0</td>\n",
       "      <td>0</td>\n",
       "      <td>0</td>\n",
       "    </tr>\n",
       "    <tr>\n",
       "      <th>4</th>\n",
       "      <td>5</td>\n",
       "      <td>109</td>\n",
       "      <td>12109</td>\n",
       "      <td>81</td>\n",
       "      <td>ALASKA</td>\n",
       "      <td>200</td>\n",
       "      <td>0.0</td>\n",
       "      <td>1.0</td>\n",
       "      <td>STEVENS</td>\n",
       "      <td>-1</td>\n",
       "      <td>...</td>\n",
       "      <td>1</td>\n",
       "      <td>1</td>\n",
       "      <td>1</td>\n",
       "      <td>1</td>\n",
       "      <td>1</td>\n",
       "      <td>1</td>\n",
       "      <td>1</td>\n",
       "      <td>1</td>\n",
       "      <td>1</td>\n",
       "      <td>1</td>\n",
       "    </tr>\n",
       "  </tbody>\n",
       "</table>\n",
       "<p>5 rows × 654 columns</p>\n",
       "</div>"
      ],
      "text/plain": [
       "   Unnamed: 0  cong     id  state   lstate  party  eh1  eh2         name  V1  \\\n",
       "0           1   109  99910     99  USA        200  NaN  NaN  BUSH          0   \n",
       "1           2   109  49700     41  ALABAMA    200  0.0  1.0  SESSIONS     -1   \n",
       "2           3   109  94659     41  ALABAMA    200  0.0  1.0  SHELBY        0   \n",
       "3           4   109  40300     81  ALASKA     200  0.0  1.0  MURKOWSKI     0   \n",
       "4           5   109  12109     81  ALASKA     200  0.0  1.0  STEVENS      -1   \n",
       "\n",
       "   ...  V636  V637  V638  V639  V640  V641  V642  V643  V644  V645  \n",
       "0  ...     1    -1     1     0     1     0     1     0     0     1  \n",
       "1  ...     1    -1     1     1     1     1     1     1     1     1  \n",
       "2  ...     1    -1     1     0     1     1     1     1     1     1  \n",
       "3  ...     1    -1     1     1     1     1     1     0     0     0  \n",
       "4  ...     1     1     1     1     1     1     1     1     1     1  \n",
       "\n",
       "[5 rows x 654 columns]"
      ]
     },
     "execution_count": 35,
     "metadata": {},
     "output_type": "execute_result"
    }
   ],
   "source": [
    "cong[k].head()"
   ]
  },
  {
   "cell_type": "markdown",
   "metadata": {},
   "source": [
    "3. We are now ready to compute our distances.  Let us first start with the 101st session for now.  Extract all rows that correspond to the 101 Senate and using scipy's [pdist](http://docs.scipy.org/doc/scipy/reference/generated/scipy.spatial.distance.pdist.html) create a similarity matrix of our senators.  Start with Euclidean for now."
   ]
  },
  {
   "cell_type": "code",
   "execution_count": 51,
   "metadata": {},
   "outputs": [],
   "source": [
    "roll = cong['s101']\n",
    "cols = [ c for c in roll.columns if c[0].lower() == 'v'] \n",
    "dist = distance.pdist(roll[cols], metric='euclidean')\n",
    "mds = MDS(dissimilarity='precomputed').fit_transform(distance.squareform(dist))\n",
    "\n",
    "names = roll.name.values\n",
    "dem = np.where(roll.party == 100)[0]\n",
    "rep = np.where(roll.party == 200)[0]\n",
    "\n"
   ]
  },
  {
   "cell_type": "markdown",
   "metadata": {},
   "source": [
    "4. Pass this matrix into scikit's [MDS](http://scikit-learn.org/stable/modules/generated/sklearn.manifold.MDS.html) to compute the scaling (remember to tell it you precomputed the distances).    \n",
    "    \n",
    "5. Plot our senators in 2-D space.  Start with just points colored blue and red accordingly, but then see if you can instead plot their names so we know who is aligned where.\n",
    "\n",
    " ![mds](images/101MDS.png)"
   ]
  },
  {
   "cell_type": "code",
   "execution_count": 52,
   "metadata": {},
   "outputs": [],
   "source": [
    "def plot_senate(mds):\n",
    "    plt.figure(figsize = (12, 10))\n",
    "\n",
    "    plt.plot(mds[:, 0], mds[:, 1], '.', alpha = 0)\n",
    "\n",
    "    plt.title('Senators of the 101th Congress')\n",
    "\n",
    "    for i in dem:\n",
    "        plt.annotate(names[i], (mds[i, 0], mds[i, 1]),\n",
    "                     color = 'blue',\n",
    "                     alpha = 0.3)\n",
    "\n",
    "    for i in rep:\n",
    "        plt.annotate(names[i], (mds[i, 0], mds[i, 1]),\n",
    "                     color = 'red',\n",
    "                     alpha = 0.5)"
   ]
  },
  {
   "cell_type": "code",
   "execution_count": 53,
   "metadata": {},
   "outputs": [
    {
     "data": {
      "image/png": "[encoded data removed]",
      "text/plain": [
       "<Figure size 864x720 with 1 Axes>"
      ]
     },
     "metadata": {
      "needs_background": "light"
     },
     "output_type": "display_data"
    }
   ],
   "source": [
    "plot_senate(mds)"
   ]
  },
  {
   "cell_type": "markdown",
   "metadata": {},
   "source": [
    "7. Try to experiment with different distance metrics and see if the plot you created change."
   ]
  },
  {
   "cell_type": "code",
   "execution_count": 54,
   "metadata": {},
   "outputs": [
    {
     "data": {
      "image/png": "[encoded data removed]",
      "text/plain": [
       "<Figure size 864x720 with 1 Axes>"
      ]
     },
     "metadata": {
      "needs_background": "light"
     },
     "output_type": "display_data"
    }
   ],
   "source": [
    "dist = distance.pdist(roll[cols], metric='jaccard')\n",
    "mds = MDS(dissimilarity='precomputed').fit_transform(distance.squareform(dist))\n",
    "plot_senate(mds)"
   ]
  },
  {
   "cell_type": "markdown",
   "metadata": {},
   "source": [
    "6. Now repeat this for all of the senates in our dataset and track the evolution of partisanship in the Senate!\n",
    " ![all](images/allMDS.png)"
   ]
  },
  {
   "cell_type": "code",
   "execution_count": 55,
   "metadata": {},
   "outputs": [
    {
     "data": {
      "text/plain": [
       "[None]"
      ]
     },
     "execution_count": 55,
     "metadata": {},
     "output_type": "execute_result"
    },
    {
     "data": {
      "image/png": "[encoded data removed]",
      "text/plain": [
       "<Figure size 1440x720 with 12 Axes>"
      ]
     },
     "metadata": {
      "needs_background": "light"
     },
     "output_type": "display_data"
    }
   ],
   "source": [
    "fig, ax = plt.subplots(nrows = 3, ncols = 4, figsize = (20, 10))\n",
    "for a, cn in zip(ax.ravel(), sorted(cong.items(), key=lambda x: int(x[0][1:]))):\n",
    "    sen = cn[1]\n",
    "    cols = [ c for c in sen.columns if c[0].lower() == 'v'] \n",
    "    dist = distance.pdist(sen[cols], metric='euclidean')\n",
    "    mds = MDS(dissimilarity='precomputed').fit_transform(distance.squareform(dist))\n",
    "\n",
    "    names = sen.name.values\n",
    "    dem = np.where(sen.party == 100)[0]\n",
    "    rep = np.where(sen.party == 200)[0]\n",
    "    \n",
    "    a.plot(mds[dem, 0], mds[dem, 1], '.b', mfc = 'white')\n",
    "    a.plot(mds[rep, 0], mds[rep, 1], 'xr')\n",
    "  \n",
    "    a.text(0.05, .95, cn[0], transform = a.transAxes, verticalalignment = 'top', fontsize = 14)\n",
    "    \n",
    "plt.setp(ax[2, 3], visible = False) "
   ]
  },
  {
   "cell_type": "markdown",
   "metadata": {},
   "source": []
  },
  {
   "cell_type": "code",
   "execution_count": null,
   "metadata": {},
   "outputs": [],
   "source": []
  },
  {
   "cell_type": "markdown",
   "metadata": {},
   "source": [
    "### Part 5: Interactive Plots\n",
    "\n",
    "1. Instead of awkwardly visualizing our data points as the senators names, we can get the best of both worlds (interpretability and inspection) through interactivity! Using [plotly](https://plot.ly/python/) create the same [scatterplot](https://plot.ly/python/line-and-scatter/#Colored-and-Styled-Scatter-Plot) but with a hover interaction so the senators name (and other info) pops up in the tooltip. Plotly kinda defaults to this and gives it to us for free."
   ]
  },
  {
   "cell_type": "code",
   "execution_count": null,
   "metadata": {
    "scrolled": true
   },
   "outputs": [],
   "source": [
    "import plotly\n",
    "import plotly.tools as tls \n",
    "from plotly.graph_objs import *\n",
    "from plotly.offline import download_plotlyjs, init_notebook_mode, plot, iplot, iplot_mpl\n",
    "\n",
    "init_notebook_mode(connected=True)\n",
    "\n",
    "iplot_mpl(fig)"
   ]
  },
  {
   "cell_type": "code",
   "execution_count": null,
   "metadata": {},
   "outputs": [],
   "source": [
    "fig = tls.make_subplots(\n",
    "    rows= 4,            # number of rows\n",
    "    cols= 4,         # number of columns\n",
    "    horizontal_spacing= 0.02,  # horiz. spacing (norm. coord)\n",
    "    vertical_spacing= 0.02,    # vert. spacing (norm. coord)\n",
    "    print_grid=True            # print axis grid ids to screen\n",
    ")"
   ]
  },
  {
   "cell_type": "code",
   "execution_count": null,
   "metadata": {},
   "outputs": [],
   "source": [
    "# Function to make list of subplot indices\n",
    "def get_splts(N_rowcol, N_senate):\n",
    "\n",
    "    N_splt=N_rowcol**2         # number of subplots\n",
    "    N_empty=N_splt-N_senate   # number of empty subplots\n",
    "    \n",
    "    tmp1d=np.arange(1,N_splt+1)                 # => [1,2,..,N_splt]\n",
    "    tmp2d=np.resize(tmp1d, (N_rowcol,N_rowcol)) # => [[1,2,..,N_rowcol],..[..,N_splt]]\n",
    "    tmp2d_flip=tmp2d[::-1,:]                    # => [[..,N_spl],..[1,2,..,N_rowcol]]\n",
    "    \n",
    "    splts_left=tmp2d_flip[:,0]     # indices of the left-hand side subplots\n",
    "    splts_bottom=tmp2d_flip[-1,:]  # indices of the bottom subplots\n",
    "    \n",
    "    tmp1d_in_order=tmp2d_flip.flatten().tolist()  # => [..,N_spl,..,1,2,..N_rowcol]\n",
    "    \n",
    "    splts_empty=range(N_rowcol-N_empty+2,N_rowcol+2)  # indices of empty subplots\n",
    "    \n",
    "    for splt in splts_empty:           \n",
    "        tmp1d_in_order.remove(splt)  # remove indices of empty subplots  \n",
    "    splts = tmp1d_in_order           #   and get the complete list of subplots\n",
    "    \n",
    "    return splts, splts_empty, splts_left, splts_bottom\n",
    "\n",
    "# Get lists of subplot indices\n",
    "splts, splts_empty, splts_left, splts_bottom = get_splts(4, 11)\n",
    "\n",
    "print(splts)  # print list"
   ]
  },
  {
   "cell_type": "code",
   "execution_count": null,
   "metadata": {},
   "outputs": [],
   "source": [
    "traces = []\n",
    "\n",
    "for i, cn in enumerate(sorted(cong.items(), key=lambda x: int(x[0][1:]))):\n",
    "    sen = cn[1]\n",
    "    cols = [ c for c in sen.columns if c[0].lower() == 'v'] \n",
    "    dist = distance.pdist(sen[cols], metric='euclidean')\n",
    "    mds = MDS(dissimilarity='precomputed').fit_transform(distance.squareform(dist))\n",
    "\n",
    "    names = sen.name.values\n",
    "    dem = np.where(sen.party == 100)[0]\n",
    "    rep = np.where(sen.party == 200)[0]\n",
    "    \n",
    "    names[i], (mds[i, 0], mds[i, 1])\n",
    "    \n",
    "    trace1 = Scatter(\n",
    "        x=mds[rep, 0],\n",
    "        y=mds[rep, 1],\n",
    "        text=names[rep],\n",
    "        mode='markers',\n",
    "        xaxis='x' + str(i),\n",
    "        yaxis='y' + str(i),\n",
    "        marker=Marker(color=\"red\")\n",
    "        )\n",
    "    \n",
    "    trace2 = Scatter(\n",
    "        x=mds[dem, 0],\n",
    "        y=mds[dem, 1],\n",
    "        text=names[dem],\n",
    "        mode='markers',\n",
    "        xaxis='x' + str(i),\n",
    "        yaxis='y' + str(i),\n",
    "        marker=Marker(color=\"blue\")\n",
    "        )\n",
    "    \n",
    "    traces.append(trace1)\n",
    "    traces.append(trace2)\n",
    "\n",
    "layout = Layout(\n",
    "    xaxis=XAxis(\n",
    "        domain=[0, 0.45]\n",
    "    ),\n",
    "    yaxis=YAxis(\n",
    "        domain=[0, 0.45]\n",
    "    ),\n",
    "    xaxis2=XAxis(\n",
    "        domain=[0.55, 1]\n",
    "    ),\n",
    "    xaxis3=XAxis(\n",
    "        domain=[0, 0.45],\n",
    "        anchor='y3'\n",
    "    ),\n",
    "    xaxis4=XAxis(\n",
    "        domain=[0.55, 1],\n",
    "        anchor='y4'\n",
    "    ),\n",
    "    yaxis2=YAxis(\n",
    "        domain=[0, 0.45],\n",
    "        anchor='x2'\n",
    "    ),\n",
    "    yaxis3=YAxis(\n",
    "        domain=[0.55, 1]\n",
    "    ),\n",
    "    yaxis4=YAxis(\n",
    "        domain=[0.55, 1],\n",
    "        anchor='x4'\n",
    "    )\n",
    ")\n",
    "\n",
    "data = Data(traces)\n",
    "fig = Figure(data=data)\n",
    "\n",
    "iplot(data, filename='senate partisanship')"
   ]
  },
  {
   "cell_type": "code",
   "execution_count": null,
   "metadata": {},
   "outputs": [],
   "source": []
  }
 ],
 "metadata": {
  "kernelspec": {
   "display_name": "Python 3",
   "language": "python",
   "name": "python3"
  },
  "language_info": {
   "codemirror_mode": {
    "name": "ipython",
    "version": 3
   },
   "file_extension": ".py",
   "mimetype": "text/x-python",
   "name": "python",
   "nbconvert_exporter": "python",
   "pygments_lexer": "ipython3",
   "version": "3.7.0"
  }
 },
 "nbformat": 4,
 "nbformat_minor": 2
}
