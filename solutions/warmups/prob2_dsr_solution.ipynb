{
 "cells": [
  {
   "cell_type": "markdown",
   "metadata": {},
   "source": [
    "1. Consider n people who are attending a party. We assume that every person has an equal probability of being born on any day during the year, independent of everyone else, and ignore leap years (i.e. year has 365 days). What is the probability that each person has a distinct birthday? How many people are necessary to obtain a 99% probability of at least one birthday collision (i.e. 2 people with the same birthday)."
   ]
  },
  {
   "cell_type": "markdown",
   "metadata": {},
   "source": [
    "#### Solution\n",
    "* Calculate the probability of distinct birthdays with n number of people\n",
    "p = (1) * (1 - 1 / 365) * (1 - 2 / 365) * ... * (1 - (n-1) / 365)\n",
    "#we will functionize this\n",
    "\n",
    "For 99% probability that at least two people have the same birthday, \n",
    "set p = 0.01 (compliment of 99%) and solve for ceiling of n. We get n = 57.\n"
   ]
  },
  {
   "cell_type": "code",
   "execution_count": 17,
   "metadata": {},
   "outputs": [],
   "source": [
    "n = 1\n",
    "proba = 1\n",
    "\n",
    "def find_proba(n, proba):\n",
    "    if proba < 0.01 or n > 365:\n",
    "        return n\n",
    "    else: \n",
    "        return find_proba(n+1, proba * (1-n / 365))\n",
    "    "
   ]
  },
  {
   "cell_type": "code",
   "execution_count": null,
   "metadata": {},
   "outputs": [],
   "source": [
    "print (find_proba(n, proba))"
   ]
  },
  {
   "cell_type": "markdown",
   "metadata": {},
   "source": [
    "2. A hunter has two hunting dogs. One day, on the trail of some animal, the hunter comes to a place where the road diverges into two paths. He knows that each dog, independent of the other, will choose the correct path with probability p. The hunter decides to let each dog choose a path, and if they agree, he takes that one, and if they disagree, he randomly picks a path. Is his strategy better than just letting one of the two dogs decide on a path? Explain why or why not."
   ]
  },
  {
   "cell_type": "markdown",
   "metadata": {},
   "source": [
    "#### Solution\n",
    "* Denote by A, B the events dog 1 and dog 2 choose the right path and X be the event the hunter chooses the right path. That is, P(A) = P(B) = p and we want to find P(X). Compute all four probabilities"
   ]
  },
  {
   "cell_type": "markdown",
   "metadata": {},
   "source": [
    "P(A and B) = p ^ 2\n",
    "\n",
    "P(A and B') = P(A' and B) = p * (1 - p)\n",
    "\n",
    "P(A' and B') = (1 - p) ^ 2\n",
    "\n",
    "' is the complement (1-p). Computing the hunter's conditional probabilities\n",
    "\n",
    "P(X | A and B) = 1\n",
    "\n",
    "P(X | A and B') = 0.5\n",
    "\n",
    "P(X | A' and B) = 0.5\n",
    "\n",
    "P(X | A' and B') = 0\n",
    "\n",
    "P(X) = 1 * p ^ 2 + 0.5 * p * (1 - p) + 0.5 * p * (1 - p) + 0 * (1 - p) ^ 2\n",
    "\n",
    "= p ^ 2 + p - p ^ 2 = p"
   ]
  },
  {
   "cell_type": "markdown",
   "metadata": {},
   "source": [
    "if P(A) = P(B) = p, and P(X) = p, then strategy is identical for two or one dogs. "
   ]
  }
 ],
 "metadata": {
  "kernelspec": {
   "display_name": "Python 3",
   "language": "python",
   "name": "python3"
  },
  "language_info": {
   "codemirror_mode": {
    "name": "ipython",
    "version": 3
   },
   "file_extension": ".py",
   "mimetype": "text/x-python",
   "name": "python",
   "nbconvert_exporter": "python",
   "pygments_lexer": "ipython3",
   "version": "3.7.7"
  }
 },
 "nbformat": 4,
 "nbformat_minor": 4
}
