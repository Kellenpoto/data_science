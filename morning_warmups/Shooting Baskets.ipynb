{
 "cells": [
  {
   "cell_type": "markdown",
   "metadata": {},
   "source": [
    "# Shooting Baskets"
   ]
  },
  {
   "cell_type": "markdown",
   "metadata": {},
   "source": [
    "### Part 1:\n",
    "\n",
    "Al and Betty are shooting free throws (basketball). On average, Al makes 45% of his shots. Betty makes 55% of her shots. \n",
    "\n",
    "If they compete against each other for 50 shots, how likely is it that Al will win?"
   ]
  },
  {
   "cell_type": "markdown",
   "metadata": {},
   "source": [
    "### Part 2:\n",
    "\n",
    "If Al gets lucky and makes one more shot than he normally would, (but not more than 50), how likely is he to win?"
   ]
  },
  {
   "cell_type": "markdown",
   "metadata": {},
   "source": [
    "### Part 3:\n",
    "\n",
    "Instead of taking 50 shots, they are going to play for a fixed amount of time. \n",
    "* Al generally makes 45 shots in 60 minutes\n",
    "* Betty generally makes 55 shots in 60 minutes\n",
    "\n",
    "How likely is it that Al will win if they play for 45 minutes?"
   ]
  },
  {
   "cell_type": "markdown",
   "metadata": {},
   "source": [
    "### Part 4: \n",
    "If Betty makes less than 42 shots, how likely is it that Al will win?"
   ]
  },
  {
   "cell_type": "markdown",
   "metadata": {},
   "source": [
    "## Extra Credit:\n",
    "\n",
    "### Part 5:\n",
    "\n",
    "Now they're just going to play until one of them scores once. What is the probability that Al scores first?"
   ]
  },
  {
   "cell_type": "markdown",
   "metadata": {},
   "source": [
    "### Part 6:\n",
    "We know that Betty is better than Al, but our results show us that Al often wins, just by luck. We want to set up our competition so that it becomes clear that Betty is better. How many minutes should they play so that Al's chance of winning is less than 5%?"
   ]
  },
  {
   "cell_type": "markdown",
   "metadata": {},
   "source": [
    "## Super Extra Credit:\n",
    "\n",
    "### Part 7:\n",
    "\n",
    "Solve Part 1 using the Central Limit Theorem"
   ]
  },
  {
   "cell_type": "code",
   "execution_count": null,
   "metadata": {},
   "outputs": [],
   "source": []
  }
 ],
 "metadata": {
  "kernelspec": {
   "display_name": "Python 3",
   "language": "python",
   "name": "python3"
  },
  "language_info": {
   "codemirror_mode": {
    "name": "ipython",
    "version": 3
   },
   "file_extension": ".py",
   "mimetype": "text/x-python",
   "name": "python",
   "nbconvert_exporter": "python",
   "pygments_lexer": "ipython3",
   "version": "3.8.5"
  }
 },
 "nbformat": 4,
 "nbformat_minor": 4
}
